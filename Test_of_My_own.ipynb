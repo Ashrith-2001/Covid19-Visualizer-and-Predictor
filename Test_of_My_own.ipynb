{
  "nbformat": 4,
  "nbformat_minor": 0,
  "metadata": {
    "colab": {
      "name": "Test of My own.ipynb",
      "provenance": [],
      "collapsed_sections": [
        "tj2QxhzDR85C",
        "vpLandqKXUvM",
        "LgRRYCq3Vsgn",
        "nsct2rM9IVZP",
        "vxIE2x1ddNkm",
        "S8-Re-Xyvo-U",
        "BD82HY-zdZL8"
      ]
    },
    "kernelspec": {
      "name": "python3",
      "display_name": "Python 3"
    },
    "language_info": {
      "name": "python"
    },
    "widgets": {
      "application/vnd.jupyter.widget-state+json": {
        "e828512ab20448f996db38ed34e2ce76": {
          "model_module": "@jupyter-widgets/controls",
          "model_name": "HBoxModel",
          "state": {
            "_view_name": "HBoxView",
            "_dom_classes": [],
            "_model_name": "HBoxModel",
            "_view_module": "@jupyter-widgets/controls",
            "_model_module_version": "1.5.0",
            "_view_count": null,
            "_view_module_version": "1.5.0",
            "box_style": "",
            "layout": "IPY_MODEL_91264037f25c4ad9958a8dd6dd8b6369",
            "_model_module": "@jupyter-widgets/controls",
            "children": [
              "IPY_MODEL_17c61e1b215a4a268002b6260a6b255c",
              "IPY_MODEL_6786bedb039f471890de5c3eca4c92a0"
            ]
          }
        },
        "91264037f25c4ad9958a8dd6dd8b6369": {
          "model_module": "@jupyter-widgets/base",
          "model_name": "LayoutModel",
          "state": {
            "_view_name": "LayoutView",
            "grid_template_rows": null,
            "right": null,
            "justify_content": null,
            "_view_module": "@jupyter-widgets/base",
            "overflow": null,
            "_model_module_version": "1.2.0",
            "_view_count": null,
            "flex_flow": null,
            "width": null,
            "min_width": null,
            "border": null,
            "align_items": null,
            "bottom": null,
            "_model_module": "@jupyter-widgets/base",
            "top": null,
            "grid_column": null,
            "overflow_y": null,
            "overflow_x": null,
            "grid_auto_flow": null,
            "grid_area": null,
            "grid_template_columns": null,
            "flex": null,
            "_model_name": "LayoutModel",
            "justify_items": null,
            "grid_row": null,
            "max_height": null,
            "align_content": null,
            "visibility": null,
            "align_self": null,
            "height": null,
            "min_height": null,
            "padding": null,
            "grid_auto_rows": null,
            "grid_gap": null,
            "max_width": null,
            "order": null,
            "_view_module_version": "1.2.0",
            "grid_template_areas": null,
            "object_position": null,
            "object_fit": null,
            "grid_auto_columns": null,
            "margin": null,
            "display": null,
            "left": null
          }
        },
        "17c61e1b215a4a268002b6260a6b255c": {
          "model_module": "@jupyter-widgets/controls",
          "model_name": "FloatProgressModel",
          "state": {
            "_view_name": "ProgressView",
            "style": "IPY_MODEL_29b4f53abbde4388901c194dda7cebfc",
            "_dom_classes": [],
            "description": "100%",
            "_model_name": "FloatProgressModel",
            "bar_style": "success",
            "max": 12,
            "_view_module": "@jupyter-widgets/controls",
            "_model_module_version": "1.5.0",
            "value": 12,
            "_view_count": null,
            "_view_module_version": "1.5.0",
            "orientation": "horizontal",
            "min": 0,
            "description_tooltip": null,
            "_model_module": "@jupyter-widgets/controls",
            "layout": "IPY_MODEL_5660ab2968eb4bc5b28e8ac199e07694"
          }
        },
        "6786bedb039f471890de5c3eca4c92a0": {
          "model_module": "@jupyter-widgets/controls",
          "model_name": "HTMLModel",
          "state": {
            "_view_name": "HTMLView",
            "style": "IPY_MODEL_0461f86072274febaa2fd0552f17979e",
            "_dom_classes": [],
            "description": "",
            "_model_name": "HTMLModel",
            "placeholder": "​",
            "_view_module": "@jupyter-widgets/controls",
            "_model_module_version": "1.5.0",
            "value": " 12/12 [00:28&lt;00:00,  2.40s/it]",
            "_view_count": null,
            "_view_module_version": "1.5.0",
            "description_tooltip": null,
            "_model_module": "@jupyter-widgets/controls",
            "layout": "IPY_MODEL_05693611fb2d45439fe2ba2380718cdf"
          }
        },
        "29b4f53abbde4388901c194dda7cebfc": {
          "model_module": "@jupyter-widgets/controls",
          "model_name": "ProgressStyleModel",
          "state": {
            "_view_name": "StyleView",
            "_model_name": "ProgressStyleModel",
            "description_width": "initial",
            "_view_module": "@jupyter-widgets/base",
            "_model_module_version": "1.5.0",
            "_view_count": null,
            "_view_module_version": "1.2.0",
            "bar_color": null,
            "_model_module": "@jupyter-widgets/controls"
          }
        },
        "5660ab2968eb4bc5b28e8ac199e07694": {
          "model_module": "@jupyter-widgets/base",
          "model_name": "LayoutModel",
          "state": {
            "_view_name": "LayoutView",
            "grid_template_rows": null,
            "right": null,
            "justify_content": null,
            "_view_module": "@jupyter-widgets/base",
            "overflow": null,
            "_model_module_version": "1.2.0",
            "_view_count": null,
            "flex_flow": null,
            "width": null,
            "min_width": null,
            "border": null,
            "align_items": null,
            "bottom": null,
            "_model_module": "@jupyter-widgets/base",
            "top": null,
            "grid_column": null,
            "overflow_y": null,
            "overflow_x": null,
            "grid_auto_flow": null,
            "grid_area": null,
            "grid_template_columns": null,
            "flex": null,
            "_model_name": "LayoutModel",
            "justify_items": null,
            "grid_row": null,
            "max_height": null,
            "align_content": null,
            "visibility": null,
            "align_self": null,
            "height": null,
            "min_height": null,
            "padding": null,
            "grid_auto_rows": null,
            "grid_gap": null,
            "max_width": null,
            "order": null,
            "_view_module_version": "1.2.0",
            "grid_template_areas": null,
            "object_position": null,
            "object_fit": null,
            "grid_auto_columns": null,
            "margin": null,
            "display": null,
            "left": null
          }
        },
        "0461f86072274febaa2fd0552f17979e": {
          "model_module": "@jupyter-widgets/controls",
          "model_name": "DescriptionStyleModel",
          "state": {
            "_view_name": "StyleView",
            "_model_name": "DescriptionStyleModel",
            "description_width": "",
            "_view_module": "@jupyter-widgets/base",
            "_model_module_version": "1.5.0",
            "_view_count": null,
            "_view_module_version": "1.2.0",
            "_model_module": "@jupyter-widgets/controls"
          }
        },
        "05693611fb2d45439fe2ba2380718cdf": {
          "model_module": "@jupyter-widgets/base",
          "model_name": "LayoutModel",
          "state": {
            "_view_name": "LayoutView",
            "grid_template_rows": null,
            "right": null,
            "justify_content": null,
            "_view_module": "@jupyter-widgets/base",
            "overflow": null,
            "_model_module_version": "1.2.0",
            "_view_count": null,
            "flex_flow": null,
            "width": null,
            "min_width": null,
            "border": null,
            "align_items": null,
            "bottom": null,
            "_model_module": "@jupyter-widgets/base",
            "top": null,
            "grid_column": null,
            "overflow_y": null,
            "overflow_x": null,
            "grid_auto_flow": null,
            "grid_area": null,
            "grid_template_columns": null,
            "flex": null,
            "_model_name": "LayoutModel",
            "justify_items": null,
            "grid_row": null,
            "max_height": null,
            "align_content": null,
            "visibility": null,
            "align_self": null,
            "height": null,
            "min_height": null,
            "padding": null,
            "grid_auto_rows": null,
            "grid_gap": null,
            "max_width": null,
            "order": null,
            "_view_module_version": "1.2.0",
            "grid_template_areas": null,
            "object_position": null,
            "object_fit": null,
            "grid_auto_columns": null,
            "margin": null,
            "display": null,
            "left": null
          }
        },
        "8924b9bc924c42ce829c9b60e8998307": {
          "model_module": "@jupyter-widgets/controls",
          "model_name": "HBoxModel",
          "state": {
            "_view_name": "HBoxView",
            "_dom_classes": [],
            "_model_name": "HBoxModel",
            "_view_module": "@jupyter-widgets/controls",
            "_model_module_version": "1.5.0",
            "_view_count": null,
            "_view_module_version": "1.5.0",
            "box_style": "",
            "layout": "IPY_MODEL_886e2b0bf8204158bfdb344fef23ed16",
            "_model_module": "@jupyter-widgets/controls",
            "children": [
              "IPY_MODEL_a15f8291f4974a7f97d8b01fd1bffd38",
              "IPY_MODEL_8de8b6681bca40ef9872f2cf7dddcc83"
            ]
          }
        },
        "886e2b0bf8204158bfdb344fef23ed16": {
          "model_module": "@jupyter-widgets/base",
          "model_name": "LayoutModel",
          "state": {
            "_view_name": "LayoutView",
            "grid_template_rows": null,
            "right": null,
            "justify_content": null,
            "_view_module": "@jupyter-widgets/base",
            "overflow": null,
            "_model_module_version": "1.2.0",
            "_view_count": null,
            "flex_flow": null,
            "width": null,
            "min_width": null,
            "border": null,
            "align_items": null,
            "bottom": null,
            "_model_module": "@jupyter-widgets/base",
            "top": null,
            "grid_column": null,
            "overflow_y": null,
            "overflow_x": null,
            "grid_auto_flow": null,
            "grid_area": null,
            "grid_template_columns": null,
            "flex": null,
            "_model_name": "LayoutModel",
            "justify_items": null,
            "grid_row": null,
            "max_height": null,
            "align_content": null,
            "visibility": null,
            "align_self": null,
            "height": null,
            "min_height": null,
            "padding": null,
            "grid_auto_rows": null,
            "grid_gap": null,
            "max_width": null,
            "order": null,
            "_view_module_version": "1.2.0",
            "grid_template_areas": null,
            "object_position": null,
            "object_fit": null,
            "grid_auto_columns": null,
            "margin": null,
            "display": null,
            "left": null
          }
        },
        "a15f8291f4974a7f97d8b01fd1bffd38": {
          "model_module": "@jupyter-widgets/controls",
          "model_name": "FloatProgressModel",
          "state": {
            "_view_name": "ProgressView",
            "style": "IPY_MODEL_f95d9796c1f5483995114cf6641a3d23",
            "_dom_classes": [],
            "description": "100%",
            "_model_name": "FloatProgressModel",
            "bar_style": "success",
            "max": 3,
            "_view_module": "@jupyter-widgets/controls",
            "_model_module_version": "1.5.0",
            "value": 3,
            "_view_count": null,
            "_view_module_version": "1.5.0",
            "orientation": "horizontal",
            "min": 0,
            "description_tooltip": null,
            "_model_module": "@jupyter-widgets/controls",
            "layout": "IPY_MODEL_cfd47e7b04d04df5ac265456b5af6020"
          }
        },
        "8de8b6681bca40ef9872f2cf7dddcc83": {
          "model_module": "@jupyter-widgets/controls",
          "model_name": "HTMLModel",
          "state": {
            "_view_name": "HTMLView",
            "style": "IPY_MODEL_9e489977ae03485eb2f86e243c44b488",
            "_dom_classes": [],
            "description": "",
            "_model_name": "HTMLModel",
            "placeholder": "​",
            "_view_module": "@jupyter-widgets/controls",
            "_model_module_version": "1.5.0",
            "value": " 3/3 [00:06&lt;00:00,  2.06s/it]",
            "_view_count": null,
            "_view_module_version": "1.5.0",
            "description_tooltip": null,
            "_model_module": "@jupyter-widgets/controls",
            "layout": "IPY_MODEL_69d85514a4544593ae9a0c9e4396d1b6"
          }
        },
        "f95d9796c1f5483995114cf6641a3d23": {
          "model_module": "@jupyter-widgets/controls",
          "model_name": "ProgressStyleModel",
          "state": {
            "_view_name": "StyleView",
            "_model_name": "ProgressStyleModel",
            "description_width": "initial",
            "_view_module": "@jupyter-widgets/base",
            "_model_module_version": "1.5.0",
            "_view_count": null,
            "_view_module_version": "1.2.0",
            "bar_color": null,
            "_model_module": "@jupyter-widgets/controls"
          }
        },
        "cfd47e7b04d04df5ac265456b5af6020": {
          "model_module": "@jupyter-widgets/base",
          "model_name": "LayoutModel",
          "state": {
            "_view_name": "LayoutView",
            "grid_template_rows": null,
            "right": null,
            "justify_content": null,
            "_view_module": "@jupyter-widgets/base",
            "overflow": null,
            "_model_module_version": "1.2.0",
            "_view_count": null,
            "flex_flow": null,
            "width": null,
            "min_width": null,
            "border": null,
            "align_items": null,
            "bottom": null,
            "_model_module": "@jupyter-widgets/base",
            "top": null,
            "grid_column": null,
            "overflow_y": null,
            "overflow_x": null,
            "grid_auto_flow": null,
            "grid_area": null,
            "grid_template_columns": null,
            "flex": null,
            "_model_name": "LayoutModel",
            "justify_items": null,
            "grid_row": null,
            "max_height": null,
            "align_content": null,
            "visibility": null,
            "align_self": null,
            "height": null,
            "min_height": null,
            "padding": null,
            "grid_auto_rows": null,
            "grid_gap": null,
            "max_width": null,
            "order": null,
            "_view_module_version": "1.2.0",
            "grid_template_areas": null,
            "object_position": null,
            "object_fit": null,
            "grid_auto_columns": null,
            "margin": null,
            "display": null,
            "left": null
          }
        },
        "9e489977ae03485eb2f86e243c44b488": {
          "model_module": "@jupyter-widgets/controls",
          "model_name": "DescriptionStyleModel",
          "state": {
            "_view_name": "StyleView",
            "_model_name": "DescriptionStyleModel",
            "description_width": "",
            "_view_module": "@jupyter-widgets/base",
            "_model_module_version": "1.5.0",
            "_view_count": null,
            "_view_module_version": "1.2.0",
            "_model_module": "@jupyter-widgets/controls"
          }
        },
        "69d85514a4544593ae9a0c9e4396d1b6": {
          "model_module": "@jupyter-widgets/base",
          "model_name": "LayoutModel",
          "state": {
            "_view_name": "LayoutView",
            "grid_template_rows": null,
            "right": null,
            "justify_content": null,
            "_view_module": "@jupyter-widgets/base",
            "overflow": null,
            "_model_module_version": "1.2.0",
            "_view_count": null,
            "flex_flow": null,
            "width": null,
            "min_width": null,
            "border": null,
            "align_items": null,
            "bottom": null,
            "_model_module": "@jupyter-widgets/base",
            "top": null,
            "grid_column": null,
            "overflow_y": null,
            "overflow_x": null,
            "grid_auto_flow": null,
            "grid_area": null,
            "grid_template_columns": null,
            "flex": null,
            "_model_name": "LayoutModel",
            "justify_items": null,
            "grid_row": null,
            "max_height": null,
            "align_content": null,
            "visibility": null,
            "align_self": null,
            "height": null,
            "min_height": null,
            "padding": null,
            "grid_auto_rows": null,
            "grid_gap": null,
            "max_width": null,
            "order": null,
            "_view_module_version": "1.2.0",
            "grid_template_areas": null,
            "object_position": null,
            "object_fit": null,
            "grid_auto_columns": null,
            "margin": null,
            "display": null,
            "left": null
          }
        }
      }
    }
  },
  "cells": [
    {
      "cell_type": "markdown",
      "metadata": {
        "id": "ZlzGDt7_KdeY"
      },
      "source": [
        "#COVID-19 - Pandemic in India!\n",
        "\n",
        "\n",
        "\n"
      ]
    },
    {
      "cell_type": "markdown",
      "metadata": {
        "id": "ErdDl0YJKuXz"
      },
      "source": [
        "##About COVID-19"
      ]
    },
    {
      "cell_type": "markdown",
      "metadata": {
        "id": "wEoR1QzIKyBy"
      },
      "source": [
        "The **coronavirus (COVID-19)** pandemic is the greatest global humanitarian challenge the world has faced since World War II. The pandemic virus has spread widely, and the number of cases is rising daily. The government is working to slow down its spread.\n"
      ]
    },
    {
      "cell_type": "markdown",
      "metadata": {
        "id": "P-zAgjN6LA_H"
      },
      "source": [
        "**Corona Virus Explained in Simple Terms:**\n",
        "\n",
        "\n",
        "![alt text](https://i.imgur.com/nf2kMhF.jpg)"
      ]
    },
    {
      "cell_type": "markdown",
      "metadata": {
        "id": "oq31dsrfLFsd"
      },
      "source": [
        "##Problem Statement:"
      ]
    },
    {
      "cell_type": "markdown",
      "metadata": {
        "id": "77uTUjk6LIyI"
      },
      "source": [
        "India has responded quickly, implementing a proactive, nationwide, lockdown, to flatten the curve and use the time to plan and resource responses adequately.  Globally the Data Scientists are using AI and machine learning to analyze, predict, and take safety measures against COVID-19 in India. \n",
        "\n",
        "### Goal:\n",
        "We need a explore the COVID situation in India and the world, and strong model that predicts how the virus could spread across India in the next 15 days.\n",
        "###Tasks to be performed:\n",
        "- Analyze the present condition in India\n",
        "- Scrape out the COVID-19 from websites\n",
        "- Figure out the death rate and cure rate per 100 across the affected states\n",
        "- Create different charts to visualize the following: \n",
        " - Age group distribution of affected patients\n",
        " - Total sample test done till date\n",
        " - Growth rate of COVID in top 15 states\n",
        " - Top 10 States in each health facility\n",
        " - State wise testing insight\n",
        "- ICMR testing centres in each state\n",
        "- Use Prophet to predict the confirmed cases in India\n",
        "- Use ARIMA to predict the confirmed cases in India\n",
        "- Compare the Indian COVID cases globally"
      ]
    },
    {
      "cell_type": "markdown",
      "metadata": {
        "id": "nwsSD_RcKubQ"
      },
      "source": [
        "##NOTE: \n",
        "Before running the script, ensure-\n",
        "\n",
        "\n",
        "1.   Upload ICMR Testingdetails Data set\n",
        "2.   Update the tbody element from website\n",
        "3.   Change the saving .csv file name to present date\n",
        "\n"
      ]
    },
    {
      "cell_type": "markdown",
      "metadata": {
        "id": "qdYmSo8CLgO0"
      },
      "source": [
        "###Importing the required libraries"
      ]
    },
    {
      "cell_type": "code",
      "metadata": {
        "id": "pA2uVoPbWwfK"
      },
      "source": [
        "# importing the required libraries\n",
        "import pandas as pd\n",
        "\n",
        "# Visualisation libraries\n",
        "import matplotlib.pyplot as plt\n",
        "%matplotlib inline\n",
        "import matplotlib as mplt\n",
        "import seaborn as sns\n",
        "import os\n",
        "import re\n",
        "import time\n",
        "import plotly.express as px\n",
        "import plotly.graph_objects as go\n",
        "import folium \n",
        "from folium import plugins\n",
        "\n",
        "# Manipulating the default plot size\n",
        "plt.rcParams['figure.figsize'] = 10, 12\n",
        "\n",
        "# Disable warnings \n",
        "import warnings\n",
        "warnings.filterwarnings('ignore')"
      ],
      "execution_count": null,
      "outputs": []
    },
    {
      "cell_type": "markdown",
      "metadata": {
        "id": "cgR8A0JdLxB0"
      },
      "source": [
        "# PART 1: Analysing the present condition in India\n"
      ]
    },
    {
      "cell_type": "markdown",
      "metadata": {
        "id": "X2yEIc61L6e5"
      },
      "source": [
        "**How it started in India?:** \n",
        "\n",
        "The first **COVID-19** case was reported on 30th January 2020 when a student arrived **Kerala** from Wuhan. Just in next 2 days, Kerela reported 2 more cases. For almost a month, no new cases were reported in India, however, on 2nd March 2020, five new cases of corona virus were reported in Kerala again and since then the cases have been rising affecting \n"
      ]
    },
    {
      "cell_type": "markdown",
      "metadata": {
        "id": "5xBRMEwGMBB6"
      },
      "source": [
        "## How is AI-ML useful in fighting the COVID-19 pandemic?\n",
        "- Medical resource optimization\n",
        "- Ensuring demand planning stability\n",
        "- Contact tracing \n",
        "- Situational awareness and critical response analysis\n"
      ]
    },
    {
      "cell_type": "markdown",
      "metadata": {
        "id": "056R5WXzME9_"
      },
      "source": [
        "## 1.1 Scraping the datasets from the official Govt. website(https://www.mohfw.gov.in)\n"
      ]
    },
    {
      "cell_type": "code",
      "metadata": {
        "id": "d3XoThRsBqR_"
      },
      "source": [
        "# for date and time opeations\n",
        "from datetime import datetime\n",
        "# for file and folder operations\n",
        "import os\n",
        "# for regular expression opeations\n",
        "import re\n",
        "# for listing files in a folder\n",
        "import glob\n",
        "# for getting web contents\n",
        "import requests \n",
        "# for scraping web contents\n",
        "from bs4 import BeautifulSoup"
      ],
      "execution_count": null,
      "outputs": []
    },
    {
      "cell_type": "code",
      "metadata": {
        "id": "uuz_YFp2ByuS"
      },
      "source": [
        "# get data\n",
        "\n",
        "# link at which web data recides\n",
        "link = 'https://www.mohfw.gov.in/'\n",
        "# get web data\n",
        "req = requests.get(link)\n",
        "# parse web data\n",
        "soup = BeautifulSoup(req.content, \"html.parser\")"
      ],
      "execution_count": null,
      "outputs": []
    },
    {
      "cell_type": "code",
      "metadata": {
        "id": "W7DOkl9RMgHU"
      },
      "source": [
        "# find the table\n",
        "# ==============\n",
        "# our target table is the last table in the page\n",
        "\n",
        "# get the table head\n",
        "# table head may contain the column names, titles, subtitles\n",
        "thead = soup.find_all('thead')[-1]\n",
        "#print(type(thead))\n",
        "#print(thead)\n",
        "\n",
        "# get all the rows in table head\n",
        "# it usually have only one row, which has the column names\n",
        "head = thead.find_all('tr')\n",
        "# print(head)\n",
        "\n",
        "# get the table tbody\n",
        "# it contains the contents\n",
        "#tbody = soup.find_all('tbody')[-1]\n",
        "#print(tbody)\n",
        "\n",
        "# get all the rows in table body\n",
        "# each row is each state's entry\n",
        "#body = tbody.find_all('tr')\n",
        "# print(body)"
      ],
      "execution_count": null,
      "outputs": []
    },
    {
      "cell_type": "code",
      "metadata": {
        "id": "9VFBvCmoMmEK"
      },
      "source": [
        "#get data from inspect element : /html/body/div/div/div/section[3]/div/div/div/div/table/tbody\n",
        "html_doc='''<tbody><tr><td>1</td><td>Andaman and Nicobar Islands</td><td>100</td><td><span class=\"down\"> 5 <i class=\"fa fa-arrow-down\"></i></span> </td><td>7079</td><td><span class=\"cup\"> 30 <i class=\"fa fa-arrow-up\"></i></span> </td><td>127</td><td><span class=\"up\"> 1 <i class=\"fa fa-arrow-up\"></i></span> </td></tr><tr><td>2</td><td>Andhra Pradesh</td><td>71466</td><td><span class=\"down\"> 3668 <i class=\"fa fa-arrow-down\"></i></span> </td><td>1743176</td><td><span class=\"cup\"> 10228 <i class=\"fa fa-arrow-up\"></i></span> </td><td>12109</td><td><span class=\"up\"> 57 <i class=\"fa fa-arrow-up\"></i></span> </td></tr><tr><td>3</td><td>Arunachal Pradesh</td><td>2810</td><td><span class=\"down\"> 39 <i class=\"fa fa-arrow-down\"></i></span> </td><td>29223</td><td><span class=\"cup\"> 289 <i class=\"fa fa-arrow-up\"></i></span> </td><td>155</td><td><span>&nbsp;</span>  </td></tr><tr><td>4</td><td>Assam</td><td>39653</td><td><span class=\"down\"> 1531 <i class=\"fa fa-arrow-down\"></i></span> </td><td>426259</td><td><span class=\"cup\"> 4881 <i class=\"fa fa-arrow-up\"></i></span> </td><td>4064</td><td><span class=\"up\"> 36 <i class=\"fa fa-arrow-up\"></i></span> </td></tr><tr><td>5</td><td>Bihar</td><td>3991</td><td><span class=\"down\"> 369 <i class=\"fa fa-arrow-down\"></i></span> </td><td>704805</td><td><span class=\"cup\"> 730 <i class=\"fa fa-arrow-up\"></i></span> </td><td>9523</td><td><span class=\"up\"> 9 <i class=\"fa fa-arrow-up\"></i></span> </td></tr><tr><td>6</td><td>Chandigarh</td><td>462</td><td><span class=\"down\"> 24 <i class=\"fa fa-arrow-down\"></i></span> </td><td>59980</td><td><span class=\"cup\"> 63 <i class=\"fa fa-arrow-up\"></i></span> </td><td>799</td><td><span class=\"up\"> 2 <i class=\"fa fa-arrow-up\"></i></span> </td></tr><tr><td>7</td><td>Chhattisgarh</td><td>11126</td><td><span class=\"down\"> 591 <i class=\"fa fa-arrow-down\"></i></span> </td><td>964265</td><td><span class=\"cup\"> 1152 <i class=\"fa fa-arrow-up\"></i></span> </td><td>13354</td><td><span class=\"up\"> 12 <i class=\"fa fa-arrow-up\"></i></span> </td></tr><tr><td>8</td><td>Dadra and Nagar Haveli and Daman and Diu</td><td>65</td><td><span class=\"up\"> 4 <i class=\"fa fa-arrow-up\"></i></span> </td><td>10412</td><td><span class=\"cup\"> 4 <i class=\"fa fa-arrow-up\"></i></span> </td><td>4</td><td><span>&nbsp;</span>  </td></tr><tr><td>9</td><td>Delhi</td><td>2749</td><td><span class=\"down\"> 329 <i class=\"fa fa-arrow-down\"></i></span> </td><td>1404085</td><td><span class=\"cup\"> 516 <i class=\"fa fa-arrow-up\"></i></span> </td><td>24876</td><td><span class=\"up\"> 25 <i class=\"fa fa-arrow-up\"></i></span> </td></tr><tr><td>10</td><td>Goa</td><td>4044</td><td><span class=\"down\"> 131 <i class=\"fa fa-arrow-down\"></i></span> </td><td>156354</td><td><span class=\"cup\"> 428 <i class=\"fa fa-arrow-up\"></i></span> </td><td>2960</td><td><span class=\"up\"> 13 <i class=\"fa fa-arrow-up\"></i></span> </td></tr><tr><td>11</td><td>Gujarat</td><td>8242</td><td><span class=\"down\"> 642 <i class=\"fa fa-arrow-down\"></i></span> </td><td>803122</td><td><span class=\"cup\"> 935 <i class=\"fa fa-arrow-up\"></i></span> </td><td>10012</td><td><span class=\"up\"> 5 <i class=\"fa fa-arrow-up\"></i></span> </td></tr><tr><td>12</td><td>Haryana</td><td>3579</td><td><span class=\"down\"> 124 <i class=\"fa fa-arrow-down\"></i></span> </td><td>753918</td><td><span class=\"cup\"> 334 <i class=\"fa fa-arrow-up\"></i></span> </td><td>9109</td><td><span class=\"up\"> 39 <i class=\"fa fa-arrow-up\"></i></span> </td></tr><tr><td>13</td><td>Himachal Pradesh</td><td>3733</td><td><span class=\"down\"> 317 <i class=\"fa fa-arrow-down\"></i></span> </td><td>192260</td><td><span class=\"cup\"> 523 <i class=\"fa fa-arrow-up\"></i></span> </td><td>3414</td><td><span class=\"up\"> 4 <i class=\"fa fa-arrow-up\"></i></span> </td></tr><tr><td>14</td><td>Jammu and Kashmir</td><td>11381</td><td><span class=\"down\"> 1026 <i class=\"fa fa-arrow-down\"></i></span> </td><td>293763</td><td><span class=\"cup\"> 1649 <i class=\"fa fa-arrow-up\"></i></span> </td><td>4217</td><td><span class=\"up\"> 12 <i class=\"fa fa-arrow-up\"></i></span> </td></tr><tr><td>15</td><td>Jharkhand</td><td>2246</td><td><span class=\"down\"> 400 <i class=\"fa fa-arrow-down\"></i></span> </td><td>336645</td><td><span class=\"cup\"> 587 <i class=\"fa fa-arrow-up\"></i></span> </td><td>5092</td><td><span class=\"up\"> 3 <i class=\"fa fa-arrow-up\"></i></span> </td></tr><tr><td>16</td><td>Karnataka</td><td>151587</td><td><span class=\"down\"> 10716 <i class=\"fa fa-arrow-down\"></i></span> </td><td>2599472</td><td><span class=\"cup\"> 17913 <i class=\"fa fa-arrow-up\"></i></span> </td><td>33296</td><td><span class=\"up\"> 148 <i class=\"fa fa-arrow-up\"></i></span> </td></tr><tr><td>17</td><td>Kerala</td><td>110226</td><td><span class=\"down\"> 2566 <i class=\"fa fa-arrow-down\"></i></span> </td><td>2639593</td><td><span class=\"cup\"> 15689 <i class=\"fa fa-arrow-up\"></i></span> </td><td>11655</td><td><span class=\"up\"> 147 <i class=\"fa fa-arrow-up\"></i></span> </td></tr><tr><td>18</td><td>Ladakh</td><td>538</td><td><span class=\"down\"> 14 <i class=\"fa fa-arrow-down\"></i></span> </td><td>18945</td><td><span class=\"cup\"> 47 <i class=\"fa fa-arrow-up\"></i></span> </td><td>199</td><td><span>&nbsp;</span>  </td></tr><tr><td>19</td><td>Lakshadweep</td><td>447</td><td><span class=\"down\"> 37 <i class=\"fa fa-arrow-down\"></i></span> </td><td>8847</td><td><span class=\"cup\"> 79 <i class=\"fa fa-arrow-up\"></i></span> </td><td>45</td><td><span>&nbsp;</span>  </td></tr><tr><td>20</td><td>Madhya Pradesh</td><td>3273</td><td><span class=\"down\"> 337 <i class=\"fa fa-arrow-down\"></i></span> </td><td>776887</td><td><span class=\"cup\"> 463 <i class=\"fa fa-arrow-up\"></i></span> </td><td>8649</td><td><span class=\"up\"> 34 <i class=\"fa fa-arrow-up\"></i></span> </td></tr><tr><td>21</td><td>Maharashtra</td><td>139744</td><td><span class=\"down\"> 1696 <i class=\"fa fa-arrow-down\"></i></span> </td><td>5679746</td><td><span class=\"cup\"> 10567 <i class=\"fa fa-arrow-up\"></i></span> </td><td>115390</td><td><span class=\"up\"> 1236 <i class=\"fa fa-arrow-up\"></i></span> </td></tr><tr><td>22</td><td>Manipur</td><td>9078</td><td><span class=\"up\"> 334 <i class=\"fa fa-arrow-up\"></i></span> </td><td>51762</td><td><span class=\"cup\"> 408 <i class=\"fa fa-arrow-up\"></i></span> </td><td>1008</td><td><span class=\"up\"> 10 <i class=\"fa fa-arrow-up\"></i></span> </td></tr><tr><td>23</td><td>Meghalaya</td><td>4464</td><td><span class=\"up\"> 34 <i class=\"fa fa-arrow-up\"></i></span> </td><td>38032</td><td><span class=\"cup\"> 453 <i class=\"fa fa-arrow-up\"></i></span> </td><td>758</td><td><span class=\"up\"> 8 <i class=\"fa fa-arrow-up\"></i></span> </td></tr><tr><td>24</td><td>Mizoram</td><td>3647</td><td><span class=\"up\"> 10 <i class=\"fa fa-arrow-up\"></i></span> </td><td>12414</td><td><span class=\"cup\"> 223 <i class=\"fa fa-arrow-up\"></i></span> </td><td>74</td><td><span class=\"up\"> 3 <i class=\"fa fa-arrow-up\"></i></span> </td></tr><tr><td>25</td><td>Nagaland</td><td>2699</td><td><span class=\"down\"> 273 <i class=\"fa fa-arrow-down\"></i></span> </td><td>20805</td><td><span class=\"cup\"> 382 <i class=\"fa fa-arrow-up\"></i></span> </td><td>461</td><td><span class=\"up\"> 2 <i class=\"fa fa-arrow-up\"></i></span> </td></tr><tr><td>26</td><td>Odisha</td><td>42270</td><td><span class=\"down\"> 2088 <i class=\"fa fa-arrow-down\"></i></span> </td><td>817359</td><td><span class=\"cup\"> 5579 <i class=\"fa fa-arrow-up\"></i></span> </td><td>3432</td><td><span class=\"up\"> 44 <i class=\"fa fa-arrow-up\"></i></span> </td></tr><tr><td>27</td><td>Puducherry</td><td>4495</td><td><span class=\"down\"> 173 <i class=\"fa fa-arrow-down\"></i></span> </td><td>107425</td><td><span class=\"cup\"> 597 <i class=\"fa fa-arrow-up\"></i></span> </td><td>1702</td><td><span class=\"up\"> 6 <i class=\"fa fa-arrow-up\"></i></span> </td></tr><tr><td>28</td><td>Punjab</td><td>10046</td><td><span class=\"down\"> 756 <i class=\"fa fa-arrow-down\"></i></span> </td><td>564084</td><td><span class=\"cup\"> 1383 <i class=\"fa fa-arrow-up\"></i></span> </td><td>15698</td><td><span class=\"up\"> 48 <i class=\"fa fa-arrow-up\"></i></span> </td></tr><tr><td>29</td><td>Rajasthan</td><td>4962</td><td><span class=\"down\"> 657 <i class=\"fa fa-arrow-down\"></i></span> </td><td>936586</td><td><span class=\"cup\"> 928 <i class=\"fa fa-arrow-up\"></i></span> </td><td>8865</td><td><span class=\"up\"> 9 <i class=\"fa fa-arrow-up\"></i></span> </td></tr><tr><td>30</td><td>Sikkim</td><td>2965</td><td><span class=\"down\"> 274 <i class=\"fa fa-arrow-down\"></i></span> </td><td>15556</td><td><span class=\"cup\"> 420 <i class=\"fa fa-arrow-up\"></i></span> </td><td>285</td><td><span class=\"up\"> 1 <i class=\"fa fa-arrow-up\"></i></span> </td></tr><tr><td>31</td><td>Tamil Nadu</td><td>114335</td><td><span class=\"down\"> 10880 <i class=\"fa fa-arrow-down\"></i></span> </td><td>2244073</td><td><span class=\"cup\"> 21058 <i class=\"fa fa-arrow-up\"></i></span> </td><td>30338</td><td><span class=\"up\"> 270 <i class=\"fa fa-arrow-up\"></i></span> </td></tr><tr><td>32</td><td>Telangana</td><td>19975</td><td><span class=\"up\"> 42 <i class=\"fa fa-arrow-up\"></i></span> </td><td>584429</td><td><span class=\"cup\"> 1436 <i class=\"fa fa-arrow-up\"></i></span> </td><td>3521</td><td><span class=\"up\"> 11 <i class=\"fa fa-arrow-up\"></i></span> </td></tr><tr><td>33</td><td>Tripura</td><td>5122</td><td><span class=\"up\"> 236 <i class=\"fa fa-arrow-up\"></i></span> </td><td>55116</td><td><span class=\"cup\"> 246 <i class=\"fa fa-arrow-up\"></i></span> </td><td>634</td><td><span class=\"up\"> 5 <i class=\"fa fa-arrow-up\"></i></span> </td></tr><tr><td>34</td><td>Uttarakhand</td><td>3572</td><td><span class=\"down\"> 70 <i class=\"fa fa-arrow-down\"></i></span> </td><td>327233</td><td><span class=\"cup\"> 411 <i class=\"fa fa-arrow-up\"></i></span> </td><td>6997</td><td><span class=\"up\"> 12 <i class=\"fa fa-arrow-up\"></i></span> </td></tr><tr><td>35</td><td>Uttar Pradesh</td><td>6496</td><td><span class=\"down\"> 725 <i class=\"fa fa-arrow-down\"></i></span> </td><td>1674999</td><td><span class=\"cup\"> 927 <i class=\"fa fa-arrow-up\"></i></span> </td><td>21963</td><td><span class=\"up\"> 49 <i class=\"fa fa-arrow-up\"></i></span> </td></tr><tr><td>36</td><td>West Bengal</td><td>21152</td><td><span class=\"up\"> 1106 <i class=\"fa fa-arrow-up\"></i></span> </td><td>1432961</td><td><span class=\"cup\"> 2012 <i class=\"fa fa-arrow-up\"></i></span> </td><td>17118</td><td><span class=\"up\"> 69 <i class=\"fa fa-arrow-up\"></i></span> </td></tr><tr><td colspan=\"2\">Total#</td><td>826740</td><td><span class=\"down\"> 38692 <i class=\"fa fa-arrow-down\"></i></span> </td><td>28491670</td><td><span class=\"cup\">  103570 <i class=\"fa fa-arrow-up\"></i></span> </td><td>381903</td><td><span class=\"up\"> 2330 <i class=\"fa fa-arrow-up\"></i></span></td></tr><tr><td align=\"center\" style=\"text-align:center;\" colspan=\"8\"><strong>*(Including foreign Nationals)</strong></td></tr> <tr><td align=\"center\" style=\"text-align:center;\" colspan=\"8\"><strong>**( more than 70% cases due to comorbidities )</strong></td></tr><tr><td align=\"center\" style=\"text-align:center;\" colspan=\"8\"><strong>#States wise distribution is subject to further verification and reconciliation</strong></td></tr> <tr><td align=\"center\" style=\"text-align:center;\" colspan=\"8\"><strong>#Our figures are being reconciled with ICMR</strong></td></tr></tbody>'''\n",
        "\n",
        "html_doc='''<tbody><tr><td>1</td><td>Andaman and Nicobar Islands</td><td>105</td><td><span class=\"down\"> 4 <i class=\"fa fa-arrow-down\"></i></span> </td><td>7049</td><td><span class=\"cup\"> 15 <i class=\"fa fa-arrow-up\"></i></span> </td><td>126</td><td><span>&nbsp;</span>  </td></tr><tr><td>2</td><td>Andhra Pradesh</td><td>75134</td><td><span class=\"down\"> 4879 <i class=\"fa fa-arrow-down\"></i></span> </td><td>1732948</td><td><span class=\"cup\"> 10567 <i class=\"fa fa-arrow-up\"></i></span> </td><td>12052</td><td><span class=\"up\"> 53 <i class=\"fa fa-arrow-up\"></i></span> </td></tr><tr><td>3</td><td>Arunachal Pradesh</td><td>2849</td><td><span class=\"down\"> 40 <i class=\"fa fa-arrow-down\"></i></span> </td><td>28934</td><td><span class=\"cup\"> 326 <i class=\"fa fa-arrow-up\"></i></span> </td><td>155</td><td><span class=\"up\"> 4 <i class=\"fa fa-arrow-up\"></i></span> </td></tr><tr><td>4</td><td>Assam</td><td>41184</td><td><span class=\"up\"> 475 <i class=\"fa fa-arrow-up\"></i></span> </td><td>421378</td><td><span class=\"cup\"> 2906 <i class=\"fa fa-arrow-up\"></i></span> </td><td>4028</td><td><span class=\"up\"> 34 <i class=\"fa fa-arrow-up\"></i></span> </td></tr><tr><td>5</td><td>Bihar</td><td>4360</td><td><span class=\"down\"> 412 <i class=\"fa fa-arrow-down\"></i></span> </td><td>704075</td><td><span class=\"cup\"> 813 <i class=\"fa fa-arrow-up\"></i></span> </td><td>9514</td><td><span class=\"up\"> 9 <i class=\"fa fa-arrow-up\"></i></span> </td></tr><tr><td>6</td><td>Chandigarh</td><td>486</td><td><span class=\"down\"> 21 <i class=\"fa fa-arrow-down\"></i></span> </td><td>59917</td><td><span class=\"cup\"> 58 <i class=\"fa fa-arrow-up\"></i></span> </td><td>797</td><td><span class=\"up\"> 3 <i class=\"fa fa-arrow-up\"></i></span> </td></tr><tr><td>7</td><td>Chhattisgarh</td><td>11717</td><td><span class=\"down\"> 943 <i class=\"fa fa-arrow-down\"></i></span> </td><td>963113</td><td><span class=\"cup\"> 1544 <i class=\"fa fa-arrow-up\"></i></span> </td><td>13342</td><td><span class=\"up\"> 8 <i class=\"fa fa-arrow-up\"></i></span> </td></tr><tr><td>8</td><td>Dadra and Nagar Haveli and Daman and Diu</td><td>61</td><td><span class=\"up\"> 2 <i class=\"fa fa-arrow-up\"></i></span> </td><td>10408</td><td><span class=\"cup\"> 7 <i class=\"fa fa-arrow-up\"></i></span> </td><td>4</td><td><span>&nbsp;</span>  </td></tr><tr><td>9</td><td>Delhi</td><td>3078</td><td><span class=\"down\"> 148 <i class=\"fa fa-arrow-down\"></i></span> </td><td>1403569</td><td><span class=\"cup\"> 364 <i class=\"fa fa-arrow-up\"></i></span> </td><td>24851</td><td><span class=\"up\"> 12 <i class=\"fa fa-arrow-up\"></i></span> </td></tr><tr><td>10</td><td>Goa</td><td>4175</td><td><span class=\"down\"> 231 <i class=\"fa fa-arrow-down\"></i></span> </td><td>155926</td><td><span class=\"cup\"> 548 <i class=\"fa fa-arrow-up\"></i></span> </td><td>2947</td><td><span class=\"up\"> 10 <i class=\"fa fa-arrow-up\"></i></span> </td></tr><tr><td>11</td><td>Gujarat</td><td>8884</td><td><span class=\"down\"> 658 <i class=\"fa fa-arrow-down\"></i></span> </td><td>802187</td><td><span class=\"cup\"> 1006 <i class=\"fa fa-arrow-up\"></i></span> </td><td>10007</td><td><span class=\"up\"> 4 <i class=\"fa fa-arrow-up\"></i></span> </td></tr><tr><td>12</td><td>Haryana</td><td>3703</td><td><span class=\"down\"> 374 <i class=\"fa fa-arrow-down\"></i></span> </td><td>753584</td><td><span class=\"cup\"> 564 <i class=\"fa fa-arrow-up\"></i></span> </td><td>9070</td><td><span class=\"up\"> 38 <i class=\"fa fa-arrow-up\"></i></span> </td></tr><tr><td>13</td><td>Himachal Pradesh</td><td>4050</td><td><span class=\"down\"> 382 <i class=\"fa fa-arrow-down\"></i></span> </td><td>191737</td><td><span class=\"cup\"> 691 <i class=\"fa fa-arrow-up\"></i></span> </td><td>3410</td><td><span class=\"up\"> 12 <i class=\"fa fa-arrow-up\"></i></span> </td></tr><tr><td>14</td><td>Jammu and Kashmir</td><td>12407</td><td><span class=\"down\"> 1125 <i class=\"fa fa-arrow-down\"></i></span> </td><td>292114</td><td><span class=\"cup\"> 1830 <i class=\"fa fa-arrow-up\"></i></span> </td><td>4205</td><td><span class=\"up\"> 10 <i class=\"fa fa-arrow-up\"></i></span> </td></tr><tr><td>15</td><td>Jharkhand</td><td>2646</td><td><span class=\"down\"> 416 <i class=\"fa fa-arrow-down\"></i></span> </td><td>336058</td><td><span class=\"cup\"> 596 <i class=\"fa fa-arrow-up\"></i></span> </td><td>5089</td><td><span class=\"up\"> 4 <i class=\"fa fa-arrow-up\"></i></span> </td></tr><tr><td>16</td><td>Karnataka</td><td>162303</td><td><span class=\"down\"> 9859 <i class=\"fa fa-arrow-down\"></i></span> </td><td>2581559</td><td><span class=\"cup\"> 14785 <i class=\"fa fa-arrow-up\"></i></span> </td><td>33148</td><td><span class=\"up\"> 115 <i class=\"fa fa-arrow-up\"></i></span> </td></tr><tr><td>17</td><td>Kerala</td><td>112792</td><td><span class=\"down\"> 1456 <i class=\"fa fa-arrow-down\"></i></span> </td><td>2623904</td><td><span class=\"cup\"> 13536 <i class=\"fa fa-arrow-up\"></i></span> </td><td>11508</td><td><span class=\"up\"> 166 <i class=\"fa fa-arrow-up\"></i></span> </td></tr><tr><td>18</td><td>Ladakh</td><td>552</td><td><span class=\"down\"> 20 <i class=\"fa fa-arrow-down\"></i></span> </td><td>18898</td><td><span class=\"cup\"> 57 <i class=\"fa fa-arrow-up\"></i></span> </td><td>199</td><td><span class=\"up\"> 1 <i class=\"fa fa-arrow-up\"></i></span> </td></tr><tr><td>19</td><td>Lakshadweep</td><td>484</td><td><span class=\"down\"> 36 <i class=\"fa fa-arrow-down\"></i></span> </td><td>8768</td><td><span class=\"cup\"> 96 <i class=\"fa fa-arrow-up\"></i></span> </td><td>45</td><td><span class=\"up\"> 1 <i class=\"fa fa-arrow-up\"></i></span> </td></tr><tr><td>20</td><td>Madhya Pradesh</td><td>3610</td><td><span class=\"down\"> 331 <i class=\"fa fa-arrow-down\"></i></span> </td><td>776424</td><td><span class=\"cup\"> 528 <i class=\"fa fa-arrow-up\"></i></span> </td><td>8615</td><td><span class=\"up\"> 27 <i class=\"fa fa-arrow-up\"></i></span> </td></tr><tr><td>21</td><td>Maharashtra</td><td>141440</td><td><span class=\"down\"> 8982 <i class=\"fa fa-arrow-down\"></i></span> </td><td>5669179</td><td><span class=\"cup\"> 15176 <i class=\"fa fa-arrow-up\"></i></span> </td><td>114154</td><td><span class=\"up\"> 1458 <i class=\"fa fa-arrow-up\"></i></span> </td></tr><tr><td>22</td><td>Manipur</td><td>8744</td><td><span class=\"up\"> 301 <i class=\"fa fa-arrow-up\"></i></span> </td><td>51354</td><td><span class=\"cup\"> 476 <i class=\"fa fa-arrow-up\"></i></span> </td><td>998</td><td><span class=\"up\"> 8 <i class=\"fa fa-arrow-up\"></i></span> </td></tr><tr><td>23</td><td>Meghalaya</td><td>4430</td><td><span class=\"down\"> 99 <i class=\"fa fa-arrow-down\"></i></span> </td><td>37579</td><td><span class=\"cup\"> 542 <i class=\"fa fa-arrow-up\"></i></span> </td><td>750</td><td><span class=\"up\"> 7 <i class=\"fa fa-arrow-up\"></i></span> </td></tr><tr><td>24</td><td>Mizoram</td><td>3637</td><td><span class=\"down\"> 45 <i class=\"fa fa-arrow-down\"></i></span> </td><td>12191</td><td><span class=\"cup\"> 312 <i class=\"fa fa-arrow-up\"></i></span> </td><td>71</td><td><span class=\"up\"> 1 <i class=\"fa fa-arrow-up\"></i></span> </td></tr><tr><td>25</td><td>Nagaland</td><td>2972</td><td><span class=\"down\"> 229 <i class=\"fa fa-arrow-down\"></i></span> </td><td>20423</td><td><span class=\"cup\"> 327 <i class=\"fa fa-arrow-up\"></i></span> </td><td>459</td><td><span class=\"up\"> 3 <i class=\"fa fa-arrow-up\"></i></span> </td></tr><tr><td>26</td><td>Odisha</td><td>44358</td><td><span class=\"down\"> 3436 <i class=\"fa fa-arrow-down\"></i></span> </td><td>811780</td><td><span class=\"cup\"> 6799 <i class=\"fa fa-arrow-up\"></i></span> </td><td>3388</td><td><span class=\"up\"> 42 <i class=\"fa fa-arrow-up\"></i></span> </td></tr><tr><td>27</td><td>Puducherry</td><td>4668</td><td><span class=\"down\"> 279 <i class=\"fa fa-arrow-down\"></i></span> </td><td>106828</td><td><span class=\"cup\"> 629 <i class=\"fa fa-arrow-up\"></i></span> </td><td>1696</td><td><span class=\"up\"> 5 <i class=\"fa fa-arrow-up\"></i></span> </td></tr><tr><td>28</td><td>Punjab</td><td>10802</td><td><span class=\"down\"> 1111 <i class=\"fa fa-arrow-down\"></i></span> </td><td>562701</td><td><span class=\"cup\"> 1691 <i class=\"fa fa-arrow-up\"></i></span> </td><td>15650</td><td><span class=\"up\"> 48 <i class=\"fa fa-arrow-up\"></i></span> </td></tr><tr><td>29</td><td>Rajasthan</td><td>5619</td><td><span class=\"down\"> 848 <i class=\"fa fa-arrow-down\"></i></span> </td><td>935658</td><td><span class=\"cup\"> 1006 <i class=\"fa fa-arrow-up\"></i></span> </td><td>8856</td><td><span class=\"up\"> 14 <i class=\"fa fa-arrow-up\"></i></span> </td></tr><tr><td>30</td><td>Sikkim</td><td>3239</td><td><span class=\"down\"> 67 <i class=\"fa fa-arrow-down\"></i></span> </td><td>15136</td><td><span class=\"cup\"> 273 <i class=\"fa fa-arrow-up\"></i></span> </td><td>284</td><td><span class=\"up\"> 3 <i class=\"fa fa-arrow-up\"></i></span> </td></tr><tr><td>31</td><td>Tamil Nadu</td><td>125215</td><td><span class=\"down\"> 11669 <i class=\"fa fa-arrow-down\"></i></span> </td><td>2223015</td><td><span class=\"cup\"> 23207 <i class=\"fa fa-arrow-up\"></i></span> </td><td>30068</td><td><span class=\"up\"> 267 <i class=\"fa fa-arrow-up\"></i></span> </td></tr><tr><td>32</td><td>Telangana</td><td>19933</td><td><span class=\"down\"> 528 <i class=\"fa fa-arrow-down\"></i></span> </td><td>582993</td><td><span class=\"cup\"> 2070 <i class=\"fa fa-arrow-up\"></i></span> </td><td>3510</td><td><span class=\"up\"> 14 <i class=\"fa fa-arrow-up\"></i></span> </td></tr><tr><td>33</td><td>Tripura</td><td>4886</td><td><span class=\"down\"> 65 <i class=\"fa fa-arrow-down\"></i></span> </td><td>54870</td><td><span class=\"cup\"> 596 <i class=\"fa fa-arrow-up\"></i></span> </td><td>629</td><td><span class=\"up\"> 5 <i class=\"fa fa-arrow-up\"></i></span> </td></tr><tr><td>34</td><td>Uttarakhand</td><td>3642</td><td><span class=\"down\"> 266 <i class=\"fa fa-arrow-down\"></i></span> </td><td>326822</td><td><span class=\"cup\"> 515 <i class=\"fa fa-arrow-up\"></i></span> </td><td>6985</td><td><span class=\"up\"> 25 <i class=\"fa fa-arrow-up\"></i></span> </td></tr><tr><td>35</td><td>Uttar Pradesh</td><td>7221</td><td><span class=\"down\"> 890 <i class=\"fa fa-arrow-down\"></i></span> </td><td>1674072</td><td><span class=\"cup\"> 1104 <i class=\"fa fa-arrow-up\"></i></span> </td><td>21914</td><td><span class=\"up\"> 56 <i class=\"fa fa-arrow-up\"></i></span> </td></tr><tr><td>36</td><td>West Bengal</td><td>20046</td><td><span class=\"up\"> 1125 <i class=\"fa fa-arrow-up\"></i></span> </td><td>1430949</td><td><span class=\"cup\"> 2068 <i class=\"fa fa-arrow-up\"></i></span> </td><td>17049</td><td><span class=\"up\"> 75 <i class=\"fa fa-arrow-up\"></i></span> </td></tr><tr><td colspan=\"2\">Total#</td><td>865432</td><td><span class=\"down\"> 47946 <i class=\"fa fa-arrow-down\"></i></span> </td><td>28388100</td><td><span class=\"cup\">  107628 <i class=\"fa fa-arrow-up\"></i></span> </td><td>379573</td><td><span class=\"up\"> 2542 <i class=\"fa fa-arrow-up\"></i></span></td></tr><tr><td align=\"center\" style=\"text-align:center;\" colspan=\"8\"><strong>*(Including foreign Nationals)</strong></td></tr> <tr><td align=\"center\" style=\"text-align:center;\" colspan=\"8\"><strong>**( more than 70% cases due to comorbidities )</strong></td></tr><tr><td align=\"center\" style=\"text-align:center;\" colspan=\"8\"><strong>#States wise distribution is subject to further verification and reconciliation</strong></td></tr> <tr><td align=\"center\" style=\"text-align:center;\" colspan=\"8\"><strong>#Our figures are being reconciled with ICMR</strong></td></tr></tbody>'''\n",
        "doc_soup=BeautifulSoup(html_doc, \"html.parser\")\n",
        "\n",
        "tbody = doc_soup.find_all('tbody')[0]\n",
        "body = tbody.find_all('tr')\n"
      ],
      "execution_count": null,
      "outputs": []
    },
    {
      "cell_type": "code",
      "metadata": {
        "colab": {
          "base_uri": "https://localhost:8080/"
        },
        "id": "OK_dPgsmNOG2",
        "outputId": "860ca288-0b83-4feb-b63e-a3f154dcdd8b"
      },
      "source": [
        "# get the table contents\n",
        "# ======================\n",
        "\n",
        "# container for header rows / column title\n",
        "head_rows = []\n",
        "# container for table body / contents\n",
        "body_rows = []\n",
        "\n",
        "# loop through the head and append each row to head\n",
        "for tr in head:\n",
        "    td = tr.find_all(['th', 'td'])\n",
        "    row = [i.text for i in td]\n",
        "    head_rows.append(row)\n",
        "# print(head_rows)\n",
        "\n",
        "# loop through the body and append each row to body\n",
        "for tr in body:\n",
        "    td = tr.find_all(['th', 'td'])\n",
        "    row = [i.text for i in td]\n",
        "    body_rows.append(row)\n",
        "print(head_rows)\n",
        "print(body_rows)"
      ],
      "execution_count": null,
      "outputs": [
        {
          "output_type": "stream",
          "text": [
            "[[], ['S. No.', 'Name of State / UT', 'Active Cases*', 'Cured/Discharged/Migrated*', 'Deaths**'], ['Total', 'Change since yesterdayChange since yesterday', 'Cumulative', 'Change since yesterday', 'Cumulative', 'Change since yesterday']]\n",
            "[['1', 'Andaman and Nicobar Islands', '105', ' 4  ', '7049', ' 15  ', '126', '\\xa0 '], ['2', 'Andhra Pradesh', '75134', ' 4879  ', '1732948', ' 10567  ', '12052', ' 53  '], ['3', 'Arunachal Pradesh', '2849', ' 40  ', '28934', ' 326  ', '155', ' 4  '], ['4', 'Assam', '41184', ' 475  ', '421378', ' 2906  ', '4028', ' 34  '], ['5', 'Bihar', '4360', ' 412  ', '704075', ' 813  ', '9514', ' 9  '], ['6', 'Chandigarh', '486', ' 21  ', '59917', ' 58  ', '797', ' 3  '], ['7', 'Chhattisgarh', '11717', ' 943  ', '963113', ' 1544  ', '13342', ' 8  '], ['8', 'Dadra and Nagar Haveli and Daman and Diu', '61', ' 2  ', '10408', ' 7  ', '4', '\\xa0 '], ['9', 'Delhi', '3078', ' 148  ', '1403569', ' 364  ', '24851', ' 12  '], ['10', 'Goa', '4175', ' 231  ', '155926', ' 548  ', '2947', ' 10  '], ['11', 'Gujarat', '8884', ' 658  ', '802187', ' 1006  ', '10007', ' 4  '], ['12', 'Haryana', '3703', ' 374  ', '753584', ' 564  ', '9070', ' 38  '], ['13', 'Himachal Pradesh', '4050', ' 382  ', '191737', ' 691  ', '3410', ' 12  '], ['14', 'Jammu and Kashmir', '12407', ' 1125  ', '292114', ' 1830  ', '4205', ' 10  '], ['15', 'Jharkhand', '2646', ' 416  ', '336058', ' 596  ', '5089', ' 4  '], ['16', 'Karnataka', '162303', ' 9859  ', '2581559', ' 14785  ', '33148', ' 115  '], ['17', 'Kerala', '112792', ' 1456  ', '2623904', ' 13536  ', '11508', ' 166  '], ['18', 'Ladakh', '552', ' 20  ', '18898', ' 57  ', '199', ' 1  '], ['19', 'Lakshadweep', '484', ' 36  ', '8768', ' 96  ', '45', ' 1  '], ['20', 'Madhya Pradesh', '3610', ' 331  ', '776424', ' 528  ', '8615', ' 27  '], ['21', 'Maharashtra', '141440', ' 8982  ', '5669179', ' 15176  ', '114154', ' 1458  '], ['22', 'Manipur', '8744', ' 301  ', '51354', ' 476  ', '998', ' 8  '], ['23', 'Meghalaya', '4430', ' 99  ', '37579', ' 542  ', '750', ' 7  '], ['24', 'Mizoram', '3637', ' 45  ', '12191', ' 312  ', '71', ' 1  '], ['25', 'Nagaland', '2972', ' 229  ', '20423', ' 327  ', '459', ' 3  '], ['26', 'Odisha', '44358', ' 3436  ', '811780', ' 6799  ', '3388', ' 42  '], ['27', 'Puducherry', '4668', ' 279  ', '106828', ' 629  ', '1696', ' 5  '], ['28', 'Punjab', '10802', ' 1111  ', '562701', ' 1691  ', '15650', ' 48  '], ['29', 'Rajasthan', '5619', ' 848  ', '935658', ' 1006  ', '8856', ' 14  '], ['30', 'Sikkim', '3239', ' 67  ', '15136', ' 273  ', '284', ' 3  '], ['31', 'Tamil Nadu', '125215', ' 11669  ', '2223015', ' 23207  ', '30068', ' 267  '], ['32', 'Telangana', '19933', ' 528  ', '582993', ' 2070  ', '3510', ' 14  '], ['33', 'Tripura', '4886', ' 65  ', '54870', ' 596  ', '629', ' 5  '], ['34', 'Uttarakhand', '3642', ' 266  ', '326822', ' 515  ', '6985', ' 25  '], ['35', 'Uttar Pradesh', '7221', ' 890  ', '1674072', ' 1104  ', '21914', ' 56  '], ['36', 'West Bengal', '20046', ' 1125  ', '1430949', ' 2068  ', '17049', ' 75  '], ['Total#', '865432', ' 47946  ', '28388100', '  107628  ', '379573', ' 2542 '], ['*(Including foreign Nationals)'], ['**( more than 70% cases due to comorbidities )'], ['#States wise distribution is subject to further verification and reconciliation'], ['#Our figures are being reconciled with ICMR']]\n"
          ],
          "name": "stdout"
        }
      ]
    },
    {
      "cell_type": "code",
      "metadata": {
        "colab": {
          "base_uri": "https://localhost:8080/"
        },
        "id": "KaIPbE6d1X_-",
        "outputId": "3415d6b8-2ed5-4386-b54e-c5639ff20ec4"
      },
      "source": [
        "#modify head_rows, for twice appearance of change since yesterday\n",
        "head_rows[2][1]='Change since yesterday'\n",
        "print(head_rows)"
      ],
      "execution_count": null,
      "outputs": [
        {
          "output_type": "stream",
          "text": [
            "[[], ['S. No.', 'Name of State / UT', 'Active Cases*', 'Cured/Discharged/Migrated*', 'Deaths**'], ['Total', 'Change since yesterday', 'Cumulative', 'Change since yesterday', 'Cumulative', 'Change since yesterday']]\n"
          ],
          "name": "stdout"
        }
      ]
    },
    {
      "cell_type": "code",
      "metadata": {
        "colab": {
          "base_uri": "https://localhost:8080/",
          "height": 202
        },
        "id": "CIAfY9puNY1A",
        "outputId": "7327ae5f-2c67-40f8-cc8f-290ca4fe32aa"
      },
      "source": [
        "# save contents in a dataframe\n",
        "# ============================\n",
        "\n",
        "\n",
        "# skip last 5 rows, it contains unwanted info\n",
        "brows=body_rows[0:len(body_rows)-5]\n",
        "#removing unwanted coumns in body_rows in accordance with head_rows\n",
        "for inner in brows:\n",
        "  i2d=[7,5,3]\n",
        "  for j in i2d:\n",
        "    del inner[j]\n",
        "#print(brows)  \n",
        "\n",
        "\n",
        "# head_rows contains column title\n",
        "\n",
        "df_bs = pd.DataFrame(brows,  columns=head_rows[1])         \n",
        "\n",
        "# Drop 'S. No.' column\n",
        "df_bs.drop('S. No.', axis=1, inplace=True)\n",
        "\n",
        "# there are 36 states+UT in India\n",
        "df_bs.head(5)"
      ],
      "execution_count": null,
      "outputs": [
        {
          "output_type": "execute_result",
          "data": {
            "text/html": [
              "<div>\n",
              "<style scoped>\n",
              "    .dataframe tbody tr th:only-of-type {\n",
              "        vertical-align: middle;\n",
              "    }\n",
              "\n",
              "    .dataframe tbody tr th {\n",
              "        vertical-align: top;\n",
              "    }\n",
              "\n",
              "    .dataframe thead th {\n",
              "        text-align: right;\n",
              "    }\n",
              "</style>\n",
              "<table border=\"1\" class=\"dataframe\">\n",
              "  <thead>\n",
              "    <tr style=\"text-align: right;\">\n",
              "      <th></th>\n",
              "      <th>Name of State / UT</th>\n",
              "      <th>Active Cases*</th>\n",
              "      <th>Cured/Discharged/Migrated*</th>\n",
              "      <th>Deaths**</th>\n",
              "    </tr>\n",
              "  </thead>\n",
              "  <tbody>\n",
              "    <tr>\n",
              "      <th>0</th>\n",
              "      <td>Andaman and Nicobar Islands</td>\n",
              "      <td>105</td>\n",
              "      <td>7049</td>\n",
              "      <td>126</td>\n",
              "    </tr>\n",
              "    <tr>\n",
              "      <th>1</th>\n",
              "      <td>Andhra Pradesh</td>\n",
              "      <td>75134</td>\n",
              "      <td>1732948</td>\n",
              "      <td>12052</td>\n",
              "    </tr>\n",
              "    <tr>\n",
              "      <th>2</th>\n",
              "      <td>Arunachal Pradesh</td>\n",
              "      <td>2849</td>\n",
              "      <td>28934</td>\n",
              "      <td>155</td>\n",
              "    </tr>\n",
              "    <tr>\n",
              "      <th>3</th>\n",
              "      <td>Assam</td>\n",
              "      <td>41184</td>\n",
              "      <td>421378</td>\n",
              "      <td>4028</td>\n",
              "    </tr>\n",
              "    <tr>\n",
              "      <th>4</th>\n",
              "      <td>Bihar</td>\n",
              "      <td>4360</td>\n",
              "      <td>704075</td>\n",
              "      <td>9514</td>\n",
              "    </tr>\n",
              "  </tbody>\n",
              "</table>\n",
              "</div>"
            ],
            "text/plain": [
              "            Name of State / UT  ... Deaths**\n",
              "0  Andaman and Nicobar Islands  ...      126\n",
              "1               Andhra Pradesh  ...    12052\n",
              "2            Arunachal Pradesh  ...      155\n",
              "3                        Assam  ...     4028\n",
              "4                        Bihar  ...     9514\n",
              "\n",
              "[5 rows x 4 columns]"
            ]
          },
          "metadata": {
            "tags": []
          },
          "execution_count": 122
        }
      ]
    },
    {
      "cell_type": "markdown",
      "metadata": {
        "id": "ZpqkwAgfNmF1"
      },
      "source": [
        "# Data Cleaning"
      ]
    },
    {
      "cell_type": "code",
      "metadata": {
        "id": "1_PMMlQINoqO"
      },
      "source": [
        "# date-time information\n",
        "# =====================\n",
        "#saving a copy of the dataframe\n",
        "df_India = df_bs.copy()\n",
        "# today's date\n",
        "now  = datetime.now()\n",
        "# format date to month-day-year\n",
        "df_India['Date'] = now.strftime(\"%m/%d/%Y\") \n",
        "\n",
        "# add 'Date' column to dataframe\n",
        "df_India['Date'] = pd.to_datetime(df_India['Date'], format='%m/%d/%Y')\n",
        "\n",
        "# df_India.head(36)"
      ],
      "execution_count": null,
      "outputs": []
    },
    {
      "cell_type": "code",
      "metadata": {
        "id": "xuOS4_X1Nuzn"
      },
      "source": [
        "# remove extra characters from 'Name of State/UT' column\n",
        "df_India['Name of State / UT'] = df_India['Name of State / UT'].str.replace('#', '')\n",
        "df_India['Deaths**'] = df_India['Deaths**'].str.replace('#', '')"
      ],
      "execution_count": null,
      "outputs": []
    },
    {
      "cell_type": "code",
      "metadata": {
        "id": "_yuxWdoyN2_T",
        "colab": {
          "base_uri": "https://localhost:8080/",
          "height": 202
        },
        "outputId": "e09022c7-c28f-4d98-d467-d0473367910d"
      },
      "source": [
        "# latitude and longitude information\n",
        "# ==================================\n",
        "\n",
        "# latitude of the states\n",
        "lat = {'Delhi':28.7041, 'Haryana':29.0588, 'Kerala':10.8505, 'Rajasthan':27.0238,\n",
        "       'Telengana':18.1124, 'Uttar Pradesh':26.8467, 'Ladakh':34.2996, 'Tamil Nadu':11.1271,\n",
        "       'Jammu and Kashmir':33.7782, 'Punjab':31.1471, 'Karnataka':15.3173, 'Maharashtra':19.7515,\n",
        "       'Andhra Pradesh':15.9129, 'Odisha':20.9517, 'Uttarakhand':30.0668, 'West Bengal':22.9868, \n",
        "       'Puducherry': 11.9416, 'Chandigarh': 30.7333, 'Chhattisgarh':21.2787, 'Gujarat': 22.2587, \n",
        "       'Himachal Pradesh': 31.1048, 'Madhya Pradesh': 22.9734, 'Bihar': 25.0961, 'Manipur':24.6637, \n",
        "       'Mizoram':23.1645, 'Goa': 15.2993, 'Andaman and Nicobar Islands': 11.7401, 'Assam' : 26.2006, \n",
        "       'Jharkhand': 23.6102, 'Arunachal Pradesh': 28.2180, 'Tripura': 23.9408, 'Nagaland': 26.1584, \n",
        "       'Meghalaya' : 25.4670, 'Dadar Nagar Haveli' : 20.1809, 'Sikkim': 27.5330}\n",
        "\n",
        "# longitude of the states\n",
        "long = {'Delhi':77.1025, 'Haryana':76.0856, 'Kerala':76.2711, 'Rajasthan':74.2179,\n",
        "        'Telengana':79.0193, 'Uttar Pradesh':80.9462, 'Ladakh':78.2932, 'Tamil Nadu':78.6569,\n",
        "        'Jammu and Kashmir':76.5762, 'Punjab':75.3412, 'Karnataka':75.7139, 'Maharashtra':75.7139,\n",
        "        'Andhra Pradesh':79.7400, 'Odisha':85.0985, 'Uttarakhand':79.0193, 'West Bengal':87.8550, \n",
        "        'Puducherry': 79.8083, 'Chandigarh': 76.7794, 'Chhattisgarh':81.8661, 'Gujarat': 71.1924, \n",
        "        'Himachal Pradesh': 77.1734, 'Madhya Pradesh': 78.6569, 'Bihar': 85.3131, 'Manipur':93.9063, \n",
        "        'Mizoram':92.9376, 'Goa': 74.1240, 'Andaman and Nicobar Islands': 92.6586, 'Assam' : 92.9376, \n",
        "        'Jharkhand': 85.2799, 'Arunachal Pradesh': 94.7278, 'Tripura': 91.9882, 'Nagaland': 94.5624,\n",
        "        'Meghalaya' : 91.3662, 'Dadar Nagar Haveli' : 73.0169, 'Sikkim': 88.5122}\n",
        "\n",
        "# add latitude column based on 'Name of State / UT' column\n",
        "df_India['Latitude'] = df_India['Name of State / UT'].map(lat)\n",
        "\n",
        "# add longitude column based on 'Name of State / UT' column\n",
        "df_India['Longitude'] = df_India['Name of State / UT'].map(long)\n",
        "\n",
        "df_India.head(5)"
      ],
      "execution_count": null,
      "outputs": [
        {
          "output_type": "execute_result",
          "data": {
            "text/html": [
              "<div>\n",
              "<style scoped>\n",
              "    .dataframe tbody tr th:only-of-type {\n",
              "        vertical-align: middle;\n",
              "    }\n",
              "\n",
              "    .dataframe tbody tr th {\n",
              "        vertical-align: top;\n",
              "    }\n",
              "\n",
              "    .dataframe thead th {\n",
              "        text-align: right;\n",
              "    }\n",
              "</style>\n",
              "<table border=\"1\" class=\"dataframe\">\n",
              "  <thead>\n",
              "    <tr style=\"text-align: right;\">\n",
              "      <th></th>\n",
              "      <th>Name of State / UT</th>\n",
              "      <th>Active Cases*</th>\n",
              "      <th>Cured/Discharged/Migrated*</th>\n",
              "      <th>Deaths**</th>\n",
              "      <th>Date</th>\n",
              "      <th>Latitude</th>\n",
              "      <th>Longitude</th>\n",
              "    </tr>\n",
              "  </thead>\n",
              "  <tbody>\n",
              "    <tr>\n",
              "      <th>0</th>\n",
              "      <td>Andaman and Nicobar Islands</td>\n",
              "      <td>105</td>\n",
              "      <td>7049</td>\n",
              "      <td>126</td>\n",
              "      <td>2021-06-17</td>\n",
              "      <td>11.7401</td>\n",
              "      <td>92.6586</td>\n",
              "    </tr>\n",
              "    <tr>\n",
              "      <th>1</th>\n",
              "      <td>Andhra Pradesh</td>\n",
              "      <td>75134</td>\n",
              "      <td>1732948</td>\n",
              "      <td>12052</td>\n",
              "      <td>2021-06-17</td>\n",
              "      <td>15.9129</td>\n",
              "      <td>79.7400</td>\n",
              "    </tr>\n",
              "    <tr>\n",
              "      <th>2</th>\n",
              "      <td>Arunachal Pradesh</td>\n",
              "      <td>2849</td>\n",
              "      <td>28934</td>\n",
              "      <td>155</td>\n",
              "      <td>2021-06-17</td>\n",
              "      <td>28.2180</td>\n",
              "      <td>94.7278</td>\n",
              "    </tr>\n",
              "    <tr>\n",
              "      <th>3</th>\n",
              "      <td>Assam</td>\n",
              "      <td>41184</td>\n",
              "      <td>421378</td>\n",
              "      <td>4028</td>\n",
              "      <td>2021-06-17</td>\n",
              "      <td>26.2006</td>\n",
              "      <td>92.9376</td>\n",
              "    </tr>\n",
              "    <tr>\n",
              "      <th>4</th>\n",
              "      <td>Bihar</td>\n",
              "      <td>4360</td>\n",
              "      <td>704075</td>\n",
              "      <td>9514</td>\n",
              "      <td>2021-06-17</td>\n",
              "      <td>25.0961</td>\n",
              "      <td>85.3131</td>\n",
              "    </tr>\n",
              "  </tbody>\n",
              "</table>\n",
              "</div>"
            ],
            "text/plain": [
              "            Name of State / UT Active Cases*  ... Latitude Longitude\n",
              "0  Andaman and Nicobar Islands           105  ...  11.7401   92.6586\n",
              "1               Andhra Pradesh         75134  ...  15.9129   79.7400\n",
              "2            Arunachal Pradesh          2849  ...  28.2180   94.7278\n",
              "3                        Assam         41184  ...  26.2006   92.9376\n",
              "4                        Bihar          4360  ...  25.0961   85.3131\n",
              "\n",
              "[5 rows x 7 columns]"
            ]
          },
          "metadata": {
            "tags": []
          },
          "execution_count": 125
        }
      ]
    },
    {
      "cell_type": "code",
      "metadata": {
        "id": "rNxatA81N8d8"
      },
      "source": [
        "# rename columns\n",
        "    \n",
        "df_India = df_India.rename(columns={'Cured/Discharged/Migrated' :'Cured/Discharged', \n",
        "                                      'Total Confirmed cases *': 'Confirmed', \n",
        "                                      'Total Confirmed cases ': 'Confirmed', \n",
        "                                      'Total Confirmed cases* ': 'Confirmed'})\n",
        "df_India = df_India.rename(columns={'Cured/Discharged':'Cured'})\n",
        "df_India = df_India.rename(columns={'Name of State / UT':'State/UnionTerritory'})\n",
        "df_India = df_India.rename(columns={'Name of State / UT':'State/UnionTerritory'})\n",
        "\n",
        "df_India = df_India.rename(columns=lambda x: re.sub('Total Confirmed cases \\(Including .* foreign Nationals\\) ',\n",
        "                                                      'Total Confirmed cases',x))\n",
        "df_India = df_India.rename(columns={'Deaths ( more than 70% cases due to comorbidities )':'Deaths', \n",
        "                                      'Deaths**':'Deaths'})"
      ],
      "execution_count": null,
      "outputs": []
    },
    {
      "cell_type": "code",
      "metadata": {
        "id": "Vk4bmvRgOA0p",
        "colab": {
          "base_uri": "https://localhost:8080/"
        },
        "outputId": "ce7853dd-cc5d-423b-ef1d-746748b76336"
      },
      "source": [
        "# unique state names\n",
        "df_India['State/UnionTerritory'].unique()"
      ],
      "execution_count": null,
      "outputs": [
        {
          "output_type": "execute_result",
          "data": {
            "text/plain": [
              "array(['Andaman and Nicobar Islands', 'Andhra Pradesh',\n",
              "       'Arunachal Pradesh', 'Assam', 'Bihar', 'Chandigarh',\n",
              "       'Chhattisgarh', 'Dadra and Nagar Haveli and Daman and Diu',\n",
              "       'Delhi', 'Goa', 'Gujarat', 'Haryana', 'Himachal Pradesh',\n",
              "       'Jammu and Kashmir', 'Jharkhand', 'Karnataka', 'Kerala', 'Ladakh',\n",
              "       'Lakshadweep', 'Madhya Pradesh', 'Maharashtra', 'Manipur',\n",
              "       'Meghalaya', 'Mizoram', 'Nagaland', 'Odisha', 'Puducherry',\n",
              "       'Punjab', 'Rajasthan', 'Sikkim', 'Tamil Nadu', 'Telangana',\n",
              "       'Tripura', 'Uttarakhand', 'Uttar Pradesh', 'West Bengal'],\n",
              "      dtype=object)"
            ]
          },
          "metadata": {
            "tags": []
          },
          "execution_count": 127
        }
      ]
    },
    {
      "cell_type": "code",
      "metadata": {
        "id": "95ujZtReOIRw",
        "colab": {
          "base_uri": "https://localhost:8080/"
        },
        "outputId": "6bba988c-53a1-4875-d77e-0b9f27085318"
      },
      "source": [
        "# number of missing values \n",
        "df_India.isna().sum()"
      ],
      "execution_count": null,
      "outputs": [
        {
          "output_type": "execute_result",
          "data": {
            "text/plain": [
              "State/UnionTerritory          0\n",
              "Active Cases*                 0\n",
              "Cured/Discharged/Migrated*    0\n",
              "Deaths                        0\n",
              "Date                          0\n",
              "Latitude                      3\n",
              "Longitude                     3\n",
              "dtype: int64"
            ]
          },
          "metadata": {
            "tags": []
          },
          "execution_count": 128
        }
      ]
    },
    {
      "cell_type": "code",
      "metadata": {
        "id": "j3hbThp3ONaX",
        "colab": {
          "base_uri": "https://localhost:8080/"
        },
        "outputId": "6145c5d4-c0a9-4677-ff63-56766234fbeb"
      },
      "source": [
        "# number of missing values \n",
        "df_India.isna().sum()"
      ],
      "execution_count": null,
      "outputs": [
        {
          "output_type": "execute_result",
          "data": {
            "text/plain": [
              "State/UnionTerritory          0\n",
              "Active Cases*                 0\n",
              "Cured/Discharged/Migrated*    0\n",
              "Deaths                        0\n",
              "Date                          0\n",
              "Latitude                      3\n",
              "Longitude                     3\n",
              "dtype: int64"
            ]
          },
          "metadata": {
            "tags": []
          },
          "execution_count": 129
        }
      ]
    },
    {
      "cell_type": "code",
      "metadata": {
        "id": "bKoyT16IOOA7",
        "colab": {
          "base_uri": "https://localhost:8080/"
        },
        "outputId": "f9598cb3-cfe0-4282-9755-c683f52c9499"
      },
      "source": [
        "# number of unique values \n",
        "df_India.nunique()"
      ],
      "execution_count": null,
      "outputs": [
        {
          "output_type": "execute_result",
          "data": {
            "text/plain": [
              "State/UnionTerritory          36\n",
              "Active Cases*                 36\n",
              "Cured/Discharged/Migrated*    36\n",
              "Deaths                        36\n",
              "Date                           1\n",
              "Latitude                      33\n",
              "Longitude                     30\n",
              "dtype: int64"
            ]
          },
          "metadata": {
            "tags": []
          },
          "execution_count": 130
        }
      ]
    },
    {
      "cell_type": "markdown",
      "metadata": {
        "id": "JbqbyvTsOXFE"
      },
      "source": [
        "# Saving data"
      ]
    },
    {
      "cell_type": "code",
      "metadata": {
        "id": "qVeT3-NDOcy2"
      },
      "source": [
        "# saving data\n",
        "# ===========\n",
        "\n",
        "# file names as year-month-day.csv format\n",
        "file_name = now.strftime(\"%Y_%m_%d\")+' - COVID-19_India.csv'\n",
        "\n",
        "# location for saving the file\n",
        "file_loc = '/content/'\n",
        "\n",
        "# save file as a csv file\n",
        "df_India.to_csv(file_loc + file_name, index=False)\n",
        "\n",
        "# df_India.head(36)"
      ],
      "execution_count": null,
      "outputs": []
    },
    {
      "cell_type": "code",
      "metadata": {
        "id": "CtdWxAH0OkGC"
      },
      "source": [
        "# fix datatype\n",
        "df_India['Date'] = pd.to_datetime(df_India['Date'])"
      ],
      "execution_count": null,
      "outputs": []
    },
    {
      "cell_type": "code",
      "metadata": {
        "id": "ajFR5LvhOntb"
      },
      "source": [
        "# rename state/UT names\n",
        "df_India['State/UnionTerritory'].replace('Chattisgarh', 'Chhattisgarh', inplace=True)\n",
        "df_India['State/UnionTerritory'].replace('Pondicherry', 'Puducherry', inplace=True) "
      ],
      "execution_count": null,
      "outputs": []
    },
    {
      "cell_type": "markdown",
      "metadata": {
        "id": "IKlJdXPxPOof"
      },
      "source": [
        "##Final Dataframe"
      ]
    },
    {
      "cell_type": "code",
      "metadata": {
        "id": "gVdmSPwrPP67",
        "colab": {
          "base_uri": "https://localhost:8080/",
          "height": 1000
        },
        "outputId": "4ae66add-09de-4c7b-f39a-a5c314446af2"
      },
      "source": [
        "df_India.head(36)"
      ],
      "execution_count": null,
      "outputs": [
        {
          "output_type": "execute_result",
          "data": {
            "text/html": [
              "<div>\n",
              "<style scoped>\n",
              "    .dataframe tbody tr th:only-of-type {\n",
              "        vertical-align: middle;\n",
              "    }\n",
              "\n",
              "    .dataframe tbody tr th {\n",
              "        vertical-align: top;\n",
              "    }\n",
              "\n",
              "    .dataframe thead th {\n",
              "        text-align: right;\n",
              "    }\n",
              "</style>\n",
              "<table border=\"1\" class=\"dataframe\">\n",
              "  <thead>\n",
              "    <tr style=\"text-align: right;\">\n",
              "      <th></th>\n",
              "      <th>State/UnionTerritory</th>\n",
              "      <th>Active Cases*</th>\n",
              "      <th>Cured/Discharged/Migrated*</th>\n",
              "      <th>Deaths</th>\n",
              "      <th>Date</th>\n",
              "      <th>Latitude</th>\n",
              "      <th>Longitude</th>\n",
              "    </tr>\n",
              "  </thead>\n",
              "  <tbody>\n",
              "    <tr>\n",
              "      <th>0</th>\n",
              "      <td>Andaman and Nicobar Islands</td>\n",
              "      <td>105</td>\n",
              "      <td>7049</td>\n",
              "      <td>126</td>\n",
              "      <td>2021-06-17</td>\n",
              "      <td>11.7401</td>\n",
              "      <td>92.6586</td>\n",
              "    </tr>\n",
              "    <tr>\n",
              "      <th>1</th>\n",
              "      <td>Andhra Pradesh</td>\n",
              "      <td>75134</td>\n",
              "      <td>1732948</td>\n",
              "      <td>12052</td>\n",
              "      <td>2021-06-17</td>\n",
              "      <td>15.9129</td>\n",
              "      <td>79.7400</td>\n",
              "    </tr>\n",
              "    <tr>\n",
              "      <th>2</th>\n",
              "      <td>Arunachal Pradesh</td>\n",
              "      <td>2849</td>\n",
              "      <td>28934</td>\n",
              "      <td>155</td>\n",
              "      <td>2021-06-17</td>\n",
              "      <td>28.2180</td>\n",
              "      <td>94.7278</td>\n",
              "    </tr>\n",
              "    <tr>\n",
              "      <th>3</th>\n",
              "      <td>Assam</td>\n",
              "      <td>41184</td>\n",
              "      <td>421378</td>\n",
              "      <td>4028</td>\n",
              "      <td>2021-06-17</td>\n",
              "      <td>26.2006</td>\n",
              "      <td>92.9376</td>\n",
              "    </tr>\n",
              "    <tr>\n",
              "      <th>4</th>\n",
              "      <td>Bihar</td>\n",
              "      <td>4360</td>\n",
              "      <td>704075</td>\n",
              "      <td>9514</td>\n",
              "      <td>2021-06-17</td>\n",
              "      <td>25.0961</td>\n",
              "      <td>85.3131</td>\n",
              "    </tr>\n",
              "    <tr>\n",
              "      <th>5</th>\n",
              "      <td>Chandigarh</td>\n",
              "      <td>486</td>\n",
              "      <td>59917</td>\n",
              "      <td>797</td>\n",
              "      <td>2021-06-17</td>\n",
              "      <td>30.7333</td>\n",
              "      <td>76.7794</td>\n",
              "    </tr>\n",
              "    <tr>\n",
              "      <th>6</th>\n",
              "      <td>Chhattisgarh</td>\n",
              "      <td>11717</td>\n",
              "      <td>963113</td>\n",
              "      <td>13342</td>\n",
              "      <td>2021-06-17</td>\n",
              "      <td>21.2787</td>\n",
              "      <td>81.8661</td>\n",
              "    </tr>\n",
              "    <tr>\n",
              "      <th>7</th>\n",
              "      <td>Dadra and Nagar Haveli and Daman and Diu</td>\n",
              "      <td>61</td>\n",
              "      <td>10408</td>\n",
              "      <td>4</td>\n",
              "      <td>2021-06-17</td>\n",
              "      <td>NaN</td>\n",
              "      <td>NaN</td>\n",
              "    </tr>\n",
              "    <tr>\n",
              "      <th>8</th>\n",
              "      <td>Delhi</td>\n",
              "      <td>3078</td>\n",
              "      <td>1403569</td>\n",
              "      <td>24851</td>\n",
              "      <td>2021-06-17</td>\n",
              "      <td>28.7041</td>\n",
              "      <td>77.1025</td>\n",
              "    </tr>\n",
              "    <tr>\n",
              "      <th>9</th>\n",
              "      <td>Goa</td>\n",
              "      <td>4175</td>\n",
              "      <td>155926</td>\n",
              "      <td>2947</td>\n",
              "      <td>2021-06-17</td>\n",
              "      <td>15.2993</td>\n",
              "      <td>74.1240</td>\n",
              "    </tr>\n",
              "    <tr>\n",
              "      <th>10</th>\n",
              "      <td>Gujarat</td>\n",
              "      <td>8884</td>\n",
              "      <td>802187</td>\n",
              "      <td>10007</td>\n",
              "      <td>2021-06-17</td>\n",
              "      <td>22.2587</td>\n",
              "      <td>71.1924</td>\n",
              "    </tr>\n",
              "    <tr>\n",
              "      <th>11</th>\n",
              "      <td>Haryana</td>\n",
              "      <td>3703</td>\n",
              "      <td>753584</td>\n",
              "      <td>9070</td>\n",
              "      <td>2021-06-17</td>\n",
              "      <td>29.0588</td>\n",
              "      <td>76.0856</td>\n",
              "    </tr>\n",
              "    <tr>\n",
              "      <th>12</th>\n",
              "      <td>Himachal Pradesh</td>\n",
              "      <td>4050</td>\n",
              "      <td>191737</td>\n",
              "      <td>3410</td>\n",
              "      <td>2021-06-17</td>\n",
              "      <td>31.1048</td>\n",
              "      <td>77.1734</td>\n",
              "    </tr>\n",
              "    <tr>\n",
              "      <th>13</th>\n",
              "      <td>Jammu and Kashmir</td>\n",
              "      <td>12407</td>\n",
              "      <td>292114</td>\n",
              "      <td>4205</td>\n",
              "      <td>2021-06-17</td>\n",
              "      <td>33.7782</td>\n",
              "      <td>76.5762</td>\n",
              "    </tr>\n",
              "    <tr>\n",
              "      <th>14</th>\n",
              "      <td>Jharkhand</td>\n",
              "      <td>2646</td>\n",
              "      <td>336058</td>\n",
              "      <td>5089</td>\n",
              "      <td>2021-06-17</td>\n",
              "      <td>23.6102</td>\n",
              "      <td>85.2799</td>\n",
              "    </tr>\n",
              "    <tr>\n",
              "      <th>15</th>\n",
              "      <td>Karnataka</td>\n",
              "      <td>162303</td>\n",
              "      <td>2581559</td>\n",
              "      <td>33148</td>\n",
              "      <td>2021-06-17</td>\n",
              "      <td>15.3173</td>\n",
              "      <td>75.7139</td>\n",
              "    </tr>\n",
              "    <tr>\n",
              "      <th>16</th>\n",
              "      <td>Kerala</td>\n",
              "      <td>112792</td>\n",
              "      <td>2623904</td>\n",
              "      <td>11508</td>\n",
              "      <td>2021-06-17</td>\n",
              "      <td>10.8505</td>\n",
              "      <td>76.2711</td>\n",
              "    </tr>\n",
              "    <tr>\n",
              "      <th>17</th>\n",
              "      <td>Ladakh</td>\n",
              "      <td>552</td>\n",
              "      <td>18898</td>\n",
              "      <td>199</td>\n",
              "      <td>2021-06-17</td>\n",
              "      <td>34.2996</td>\n",
              "      <td>78.2932</td>\n",
              "    </tr>\n",
              "    <tr>\n",
              "      <th>18</th>\n",
              "      <td>Lakshadweep</td>\n",
              "      <td>484</td>\n",
              "      <td>8768</td>\n",
              "      <td>45</td>\n",
              "      <td>2021-06-17</td>\n",
              "      <td>NaN</td>\n",
              "      <td>NaN</td>\n",
              "    </tr>\n",
              "    <tr>\n",
              "      <th>19</th>\n",
              "      <td>Madhya Pradesh</td>\n",
              "      <td>3610</td>\n",
              "      <td>776424</td>\n",
              "      <td>8615</td>\n",
              "      <td>2021-06-17</td>\n",
              "      <td>22.9734</td>\n",
              "      <td>78.6569</td>\n",
              "    </tr>\n",
              "    <tr>\n",
              "      <th>20</th>\n",
              "      <td>Maharashtra</td>\n",
              "      <td>141440</td>\n",
              "      <td>5669179</td>\n",
              "      <td>114154</td>\n",
              "      <td>2021-06-17</td>\n",
              "      <td>19.7515</td>\n",
              "      <td>75.7139</td>\n",
              "    </tr>\n",
              "    <tr>\n",
              "      <th>21</th>\n",
              "      <td>Manipur</td>\n",
              "      <td>8744</td>\n",
              "      <td>51354</td>\n",
              "      <td>998</td>\n",
              "      <td>2021-06-17</td>\n",
              "      <td>24.6637</td>\n",
              "      <td>93.9063</td>\n",
              "    </tr>\n",
              "    <tr>\n",
              "      <th>22</th>\n",
              "      <td>Meghalaya</td>\n",
              "      <td>4430</td>\n",
              "      <td>37579</td>\n",
              "      <td>750</td>\n",
              "      <td>2021-06-17</td>\n",
              "      <td>25.4670</td>\n",
              "      <td>91.3662</td>\n",
              "    </tr>\n",
              "    <tr>\n",
              "      <th>23</th>\n",
              "      <td>Mizoram</td>\n",
              "      <td>3637</td>\n",
              "      <td>12191</td>\n",
              "      <td>71</td>\n",
              "      <td>2021-06-17</td>\n",
              "      <td>23.1645</td>\n",
              "      <td>92.9376</td>\n",
              "    </tr>\n",
              "    <tr>\n",
              "      <th>24</th>\n",
              "      <td>Nagaland</td>\n",
              "      <td>2972</td>\n",
              "      <td>20423</td>\n",
              "      <td>459</td>\n",
              "      <td>2021-06-17</td>\n",
              "      <td>26.1584</td>\n",
              "      <td>94.5624</td>\n",
              "    </tr>\n",
              "    <tr>\n",
              "      <th>25</th>\n",
              "      <td>Odisha</td>\n",
              "      <td>44358</td>\n",
              "      <td>811780</td>\n",
              "      <td>3388</td>\n",
              "      <td>2021-06-17</td>\n",
              "      <td>20.9517</td>\n",
              "      <td>85.0985</td>\n",
              "    </tr>\n",
              "    <tr>\n",
              "      <th>26</th>\n",
              "      <td>Puducherry</td>\n",
              "      <td>4668</td>\n",
              "      <td>106828</td>\n",
              "      <td>1696</td>\n",
              "      <td>2021-06-17</td>\n",
              "      <td>11.9416</td>\n",
              "      <td>79.8083</td>\n",
              "    </tr>\n",
              "    <tr>\n",
              "      <th>27</th>\n",
              "      <td>Punjab</td>\n",
              "      <td>10802</td>\n",
              "      <td>562701</td>\n",
              "      <td>15650</td>\n",
              "      <td>2021-06-17</td>\n",
              "      <td>31.1471</td>\n",
              "      <td>75.3412</td>\n",
              "    </tr>\n",
              "    <tr>\n",
              "      <th>28</th>\n",
              "      <td>Rajasthan</td>\n",
              "      <td>5619</td>\n",
              "      <td>935658</td>\n",
              "      <td>8856</td>\n",
              "      <td>2021-06-17</td>\n",
              "      <td>27.0238</td>\n",
              "      <td>74.2179</td>\n",
              "    </tr>\n",
              "    <tr>\n",
              "      <th>29</th>\n",
              "      <td>Sikkim</td>\n",
              "      <td>3239</td>\n",
              "      <td>15136</td>\n",
              "      <td>284</td>\n",
              "      <td>2021-06-17</td>\n",
              "      <td>27.5330</td>\n",
              "      <td>88.5122</td>\n",
              "    </tr>\n",
              "    <tr>\n",
              "      <th>30</th>\n",
              "      <td>Tamil Nadu</td>\n",
              "      <td>125215</td>\n",
              "      <td>2223015</td>\n",
              "      <td>30068</td>\n",
              "      <td>2021-06-17</td>\n",
              "      <td>11.1271</td>\n",
              "      <td>78.6569</td>\n",
              "    </tr>\n",
              "    <tr>\n",
              "      <th>31</th>\n",
              "      <td>Telangana</td>\n",
              "      <td>19933</td>\n",
              "      <td>582993</td>\n",
              "      <td>3510</td>\n",
              "      <td>2021-06-17</td>\n",
              "      <td>NaN</td>\n",
              "      <td>NaN</td>\n",
              "    </tr>\n",
              "    <tr>\n",
              "      <th>32</th>\n",
              "      <td>Tripura</td>\n",
              "      <td>4886</td>\n",
              "      <td>54870</td>\n",
              "      <td>629</td>\n",
              "      <td>2021-06-17</td>\n",
              "      <td>23.9408</td>\n",
              "      <td>91.9882</td>\n",
              "    </tr>\n",
              "    <tr>\n",
              "      <th>33</th>\n",
              "      <td>Uttarakhand</td>\n",
              "      <td>3642</td>\n",
              "      <td>326822</td>\n",
              "      <td>6985</td>\n",
              "      <td>2021-06-17</td>\n",
              "      <td>30.0668</td>\n",
              "      <td>79.0193</td>\n",
              "    </tr>\n",
              "    <tr>\n",
              "      <th>34</th>\n",
              "      <td>Uttar Pradesh</td>\n",
              "      <td>7221</td>\n",
              "      <td>1674072</td>\n",
              "      <td>21914</td>\n",
              "      <td>2021-06-17</td>\n",
              "      <td>26.8467</td>\n",
              "      <td>80.9462</td>\n",
              "    </tr>\n",
              "    <tr>\n",
              "      <th>35</th>\n",
              "      <td>West Bengal</td>\n",
              "      <td>20046</td>\n",
              "      <td>1430949</td>\n",
              "      <td>17049</td>\n",
              "      <td>2021-06-17</td>\n",
              "      <td>22.9868</td>\n",
              "      <td>87.8550</td>\n",
              "    </tr>\n",
              "  </tbody>\n",
              "</table>\n",
              "</div>"
            ],
            "text/plain": [
              "                        State/UnionTerritory Active Cases*  ... Latitude Longitude\n",
              "0                Andaman and Nicobar Islands           105  ...  11.7401   92.6586\n",
              "1                             Andhra Pradesh         75134  ...  15.9129   79.7400\n",
              "2                          Arunachal Pradesh          2849  ...  28.2180   94.7278\n",
              "3                                      Assam         41184  ...  26.2006   92.9376\n",
              "4                                      Bihar          4360  ...  25.0961   85.3131\n",
              "5                                 Chandigarh           486  ...  30.7333   76.7794\n",
              "6                               Chhattisgarh         11717  ...  21.2787   81.8661\n",
              "7   Dadra and Nagar Haveli and Daman and Diu            61  ...      NaN       NaN\n",
              "8                                      Delhi          3078  ...  28.7041   77.1025\n",
              "9                                        Goa          4175  ...  15.2993   74.1240\n",
              "10                                   Gujarat          8884  ...  22.2587   71.1924\n",
              "11                                   Haryana          3703  ...  29.0588   76.0856\n",
              "12                          Himachal Pradesh          4050  ...  31.1048   77.1734\n",
              "13                         Jammu and Kashmir         12407  ...  33.7782   76.5762\n",
              "14                                 Jharkhand          2646  ...  23.6102   85.2799\n",
              "15                                 Karnataka        162303  ...  15.3173   75.7139\n",
              "16                                    Kerala        112792  ...  10.8505   76.2711\n",
              "17                                    Ladakh           552  ...  34.2996   78.2932\n",
              "18                               Lakshadweep           484  ...      NaN       NaN\n",
              "19                            Madhya Pradesh          3610  ...  22.9734   78.6569\n",
              "20                               Maharashtra        141440  ...  19.7515   75.7139\n",
              "21                                   Manipur          8744  ...  24.6637   93.9063\n",
              "22                                 Meghalaya          4430  ...  25.4670   91.3662\n",
              "23                                   Mizoram          3637  ...  23.1645   92.9376\n",
              "24                                  Nagaland          2972  ...  26.1584   94.5624\n",
              "25                                    Odisha         44358  ...  20.9517   85.0985\n",
              "26                                Puducherry          4668  ...  11.9416   79.8083\n",
              "27                                    Punjab         10802  ...  31.1471   75.3412\n",
              "28                                 Rajasthan          5619  ...  27.0238   74.2179\n",
              "29                                    Sikkim          3239  ...  27.5330   88.5122\n",
              "30                                Tamil Nadu        125215  ...  11.1271   78.6569\n",
              "31                                 Telangana         19933  ...      NaN       NaN\n",
              "32                                   Tripura          4886  ...  23.9408   91.9882\n",
              "33                               Uttarakhand          3642  ...  30.0668   79.0193\n",
              "34                             Uttar Pradesh          7221  ...  26.8467   80.9462\n",
              "35                               West Bengal         20046  ...  22.9868   87.8550\n",
              "\n",
              "[36 rows x 7 columns]"
            ]
          },
          "metadata": {
            "tags": []
          },
          "execution_count": 134
        }
      ]
    },
    {
      "cell_type": "code",
      "metadata": {
        "id": "-VYvblhBPTj0",
        "colab": {
          "base_uri": "https://localhost:8080/"
        },
        "outputId": "a77ef5aa-c3d3-4aed-e49b-d16ec21083e0"
      },
      "source": [
        "# complete data info\n",
        "df_India.info()"
      ],
      "execution_count": null,
      "outputs": [
        {
          "output_type": "stream",
          "text": [
            "<class 'pandas.core.frame.DataFrame'>\n",
            "RangeIndex: 36 entries, 0 to 35\n",
            "Data columns (total 7 columns):\n",
            " #   Column                      Non-Null Count  Dtype         \n",
            "---  ------                      --------------  -----         \n",
            " 0   State/UnionTerritory        36 non-null     object        \n",
            " 1   Active Cases*               36 non-null     object        \n",
            " 2   Cured/Discharged/Migrated*  36 non-null     object        \n",
            " 3   Deaths                      36 non-null     object        \n",
            " 4   Date                        36 non-null     datetime64[ns]\n",
            " 5   Latitude                    33 non-null     float64       \n",
            " 6   Longitude                   33 non-null     float64       \n",
            "dtypes: datetime64[ns](1), float64(2), object(4)\n",
            "memory usage: 2.1+ KB\n"
          ],
          "name": "stdout"
        }
      ]
    },
    {
      "cell_type": "markdown",
      "metadata": {
        "id": "REJJrupOPeHS"
      },
      "source": [
        "##Save as .csv file"
      ]
    },
    {
      "cell_type": "code",
      "metadata": {
        "id": "EoYUKWojPe1r"
      },
      "source": [
        "# saving data\n",
        "# ===========\n",
        "\n",
        "# file names as year-month-day.csv format\n",
        "file_name = now.strftime(\"%Y_%m_%d\")+' - COVID-19_India_preprocessed.csv'\n",
        "\n",
        "# location for saving the file\n",
        "file_loc = '/content/'\n",
        "\n",
        "# save file as a scv file\n",
        "df_India.to_csv(file_loc + file_name, index=False)"
      ],
      "execution_count": null,
      "outputs": []
    },
    {
      "cell_type": "code",
      "metadata": {
        "id": "DNrEsHaFPmPL"
      },
      "source": [
        "#Learn how to read a .csv file by creating a dataframe using pandas\n",
        "# Reading the datasets\n",
        "df= pd.read_csv('/content/2021_06_17 - COVID-19_India_preprocessed.csv')        #change to present date\n",
        "df_india = df.copy()                                                            #this was used later in folium"
      ],
      "execution_count": null,
      "outputs": []
    },
    {
      "cell_type": "markdown",
      "metadata": {
        "id": "Nx7hZhX_P4Fd"
      },
      "source": [
        "## 1.2 Analysing COVID19 Cases in INDIA"
      ]
    },
    {
      "cell_type": "code",
      "metadata": {
        "id": "tGO6ZsW1QA6d",
        "colab": {
          "base_uri": "https://localhost:8080/"
        },
        "outputId": "f36aea3e-faea-4dee-d1fc-c30967e94313"
      },
      "source": [
        "total_cases = df['Active Cases*'].sum()\n",
        "total_cases+=df['Cured/Discharged/Migrated*'].sum()\n",
        "total_cases+=df['Deaths'].sum()\n",
        "print('Total number of confirmed COVID 2019 cases across India till date (14th June, 2021):', total_cases)   ##CHANGE HERE"
      ],
      "execution_count": null,
      "outputs": [
        {
          "output_type": "stream",
          "text": [
            "Total number of confirmed COVID 2019 cases across India till date (14th June, 2021): 29633105\n"
          ],
          "name": "stdout"
        }
      ]
    },
    {
      "cell_type": "code",
      "metadata": {
        "id": "XoY_k7ddP8Ty",
        "colab": {
          "base_uri": "https://localhost:8080/",
          "height": 765
        },
        "outputId": "bb4a0485-ec9b-419b-d20b-bcdd675a2e9b"
      },
      "source": [
        "#highlight your dataframe\n",
        "df_temp = df.drop(['Latitude', 'Longitude', 'Date'], axis = 1) #Removing Date, Latitude and Longitude and other extra columns\n",
        "df_temp.style.background_gradient(cmap='Reds')"
      ],
      "execution_count": null,
      "outputs": [
        {
          "output_type": "execute_result",
          "data": {
            "text/html": [
              "<style  type=\"text/css\" >\n",
              "#T_5993790c_cf80_11eb_bd73_0242ac1c0002row0_col1,#T_5993790c_cf80_11eb_bd73_0242ac1c0002row0_col2,#T_5993790c_cf80_11eb_bd73_0242ac1c0002row0_col3,#T_5993790c_cf80_11eb_bd73_0242ac1c0002row2_col2,#T_5993790c_cf80_11eb_bd73_0242ac1c0002row2_col3,#T_5993790c_cf80_11eb_bd73_0242ac1c0002row5_col1,#T_5993790c_cf80_11eb_bd73_0242ac1c0002row7_col1,#T_5993790c_cf80_11eb_bd73_0242ac1c0002row7_col2,#T_5993790c_cf80_11eb_bd73_0242ac1c0002row7_col3,#T_5993790c_cf80_11eb_bd73_0242ac1c0002row17_col1,#T_5993790c_cf80_11eb_bd73_0242ac1c0002row17_col2,#T_5993790c_cf80_11eb_bd73_0242ac1c0002row17_col3,#T_5993790c_cf80_11eb_bd73_0242ac1c0002row18_col1,#T_5993790c_cf80_11eb_bd73_0242ac1c0002row18_col2,#T_5993790c_cf80_11eb_bd73_0242ac1c0002row18_col3,#T_5993790c_cf80_11eb_bd73_0242ac1c0002row23_col2,#T_5993790c_cf80_11eb_bd73_0242ac1c0002row23_col3,#T_5993790c_cf80_11eb_bd73_0242ac1c0002row24_col2,#T_5993790c_cf80_11eb_bd73_0242ac1c0002row29_col2,#T_5993790c_cf80_11eb_bd73_0242ac1c0002row29_col3{\n",
              "            background-color:  #fff5f0;\n",
              "            color:  #000000;\n",
              "        }#T_5993790c_cf80_11eb_bd73_0242ac1c0002row1_col1,#T_5993790c_cf80_11eb_bd73_0242ac1c0002row16_col2{\n",
              "            background-color:  #fb7656;\n",
              "            color:  #000000;\n",
              "        }#T_5993790c_cf80_11eb_bd73_0242ac1c0002row1_col2{\n",
              "            background-color:  #fca98c;\n",
              "            color:  #000000;\n",
              "        }#T_5993790c_cf80_11eb_bd73_0242ac1c0002row1_col3{\n",
              "            background-color:  #fee3d7;\n",
              "            color:  #000000;\n",
              "        }#T_5993790c_cf80_11eb_bd73_0242ac1c0002row2_col1,#T_5993790c_cf80_11eb_bd73_0242ac1c0002row8_col1,#T_5993790c_cf80_11eb_bd73_0242ac1c0002row14_col1,#T_5993790c_cf80_11eb_bd73_0242ac1c0002row24_col1,#T_5993790c_cf80_11eb_bd73_0242ac1c0002row26_col2{\n",
              "            background-color:  #fff2ec;\n",
              "            color:  #000000;\n",
              "        }#T_5993790c_cf80_11eb_bd73_0242ac1c0002row3_col1,#T_5993790c_cf80_11eb_bd73_0242ac1c0002row35_col2{\n",
              "            background-color:  #fcbba1;\n",
              "            color:  #000000;\n",
              "        }#T_5993790c_cf80_11eb_bd73_0242ac1c0002row3_col2,#T_5993790c_cf80_11eb_bd73_0242ac1c0002row6_col1{\n",
              "            background-color:  #fee9df;\n",
              "            color:  #000000;\n",
              "        }#T_5993790c_cf80_11eb_bd73_0242ac1c0002row3_col3,#T_5993790c_cf80_11eb_bd73_0242ac1c0002row13_col3{\n",
              "            background-color:  #ffefe8;\n",
              "            color:  #000000;\n",
              "        }#T_5993790c_cf80_11eb_bd73_0242ac1c0002row4_col1,#T_5993790c_cf80_11eb_bd73_0242ac1c0002row9_col1,#T_5993790c_cf80_11eb_bd73_0242ac1c0002row9_col2,#T_5993790c_cf80_11eb_bd73_0242ac1c0002row9_col3,#T_5993790c_cf80_11eb_bd73_0242ac1c0002row12_col1,#T_5993790c_cf80_11eb_bd73_0242ac1c0002row22_col1{\n",
              "            background-color:  #fff1ea;\n",
              "            color:  #000000;\n",
              "        }#T_5993790c_cf80_11eb_bd73_0242ac1c0002row4_col2,#T_5993790c_cf80_11eb_bd73_0242ac1c0002row31_col1,#T_5993790c_cf80_11eb_bd73_0242ac1c0002row35_col1{\n",
              "            background-color:  #fee1d3;\n",
              "            color:  #000000;\n",
              "        }#T_5993790c_cf80_11eb_bd73_0242ac1c0002row4_col3{\n",
              "            background-color:  #fee7dc;\n",
              "            color:  #000000;\n",
              "        }#T_5993790c_cf80_11eb_bd73_0242ac1c0002row5_col2,#T_5993790c_cf80_11eb_bd73_0242ac1c0002row21_col2,#T_5993790c_cf80_11eb_bd73_0242ac1c0002row21_col3,#T_5993790c_cf80_11eb_bd73_0242ac1c0002row32_col2{\n",
              "            background-color:  #fff4ee;\n",
              "            color:  #000000;\n",
              "        }#T_5993790c_cf80_11eb_bd73_0242ac1c0002row5_col3,#T_5993790c_cf80_11eb_bd73_0242ac1c0002row22_col2,#T_5993790c_cf80_11eb_bd73_0242ac1c0002row22_col3,#T_5993790c_cf80_11eb_bd73_0242ac1c0002row24_col3,#T_5993790c_cf80_11eb_bd73_0242ac1c0002row32_col3{\n",
              "            background-color:  #fff4ef;\n",
              "            color:  #000000;\n",
              "        }#T_5993790c_cf80_11eb_bd73_0242ac1c0002row6_col2{\n",
              "            background-color:  #fdd3c1;\n",
              "            color:  #000000;\n",
              "        }#T_5993790c_cf80_11eb_bd73_0242ac1c0002row6_col3{\n",
              "            background-color:  #fee2d5;\n",
              "            color:  #000000;\n",
              "        }#T_5993790c_cf80_11eb_bd73_0242ac1c0002row8_col2{\n",
              "            background-color:  #fcbca2;\n",
              "            color:  #000000;\n",
              "        }#T_5993790c_cf80_11eb_bd73_0242ac1c0002row8_col3{\n",
              "            background-color:  #fdc5ae;\n",
              "            color:  #000000;\n",
              "        }#T_5993790c_cf80_11eb_bd73_0242ac1c0002row10_col1,#T_5993790c_cf80_11eb_bd73_0242ac1c0002row21_col1{\n",
              "            background-color:  #ffece4;\n",
              "            color:  #000000;\n",
              "        }#T_5993790c_cf80_11eb_bd73_0242ac1c0002row10_col2,#T_5993790c_cf80_11eb_bd73_0242ac1c0002row27_col3{\n",
              "            background-color:  #fedccd;\n",
              "            color:  #000000;\n",
              "        }#T_5993790c_cf80_11eb_bd73_0242ac1c0002row10_col3{\n",
              "            background-color:  #fee7db;\n",
              "            color:  #000000;\n",
              "        }#T_5993790c_cf80_11eb_bd73_0242ac1c0002row11_col1,#T_5993790c_cf80_11eb_bd73_0242ac1c0002row19_col1,#T_5993790c_cf80_11eb_bd73_0242ac1c0002row23_col1,#T_5993790c_cf80_11eb_bd73_0242ac1c0002row29_col1,#T_5993790c_cf80_11eb_bd73_0242ac1c0002row33_col1{\n",
              "            background-color:  #fff2eb;\n",
              "            color:  #000000;\n",
              "        }#T_5993790c_cf80_11eb_bd73_0242ac1c0002row11_col2{\n",
              "            background-color:  #fedfd0;\n",
              "            color:  #000000;\n",
              "        }#T_5993790c_cf80_11eb_bd73_0242ac1c0002row11_col3{\n",
              "            background-color:  #fee8dd;\n",
              "            color:  #000000;\n",
              "        }#T_5993790c_cf80_11eb_bd73_0242ac1c0002row12_col2,#T_5993790c_cf80_11eb_bd73_0242ac1c0002row28_col1{\n",
              "            background-color:  #fff0e8;\n",
              "            color:  #000000;\n",
              "        }#T_5993790c_cf80_11eb_bd73_0242ac1c0002row12_col3,#T_5993790c_cf80_11eb_bd73_0242ac1c0002row25_col3,#T_5993790c_cf80_11eb_bd73_0242ac1c0002row26_col1,#T_5993790c_cf80_11eb_bd73_0242ac1c0002row31_col3,#T_5993790c_cf80_11eb_bd73_0242ac1c0002row32_col1{\n",
              "            background-color:  #fff0e9;\n",
              "            color:  #000000;\n",
              "        }#T_5993790c_cf80_11eb_bd73_0242ac1c0002row13_col1,#T_5993790c_cf80_11eb_bd73_0242ac1c0002row19_col3,#T_5993790c_cf80_11eb_bd73_0242ac1c0002row28_col3{\n",
              "            background-color:  #fee8de;\n",
              "            color:  #000000;\n",
              "        }#T_5993790c_cf80_11eb_bd73_0242ac1c0002row13_col2{\n",
              "            background-color:  #ffede5;\n",
              "            color:  #000000;\n",
              "        }#T_5993790c_cf80_11eb_bd73_0242ac1c0002row14_col2,#T_5993790c_cf80_11eb_bd73_0242ac1c0002row33_col2{\n",
              "            background-color:  #ffece3;\n",
              "            color:  #000000;\n",
              "        }#T_5993790c_cf80_11eb_bd73_0242ac1c0002row14_col3,#T_5993790c_cf80_11eb_bd73_0242ac1c0002row34_col1{\n",
              "            background-color:  #ffeee6;\n",
              "            color:  #000000;\n",
              "        }#T_5993790c_cf80_11eb_bd73_0242ac1c0002row15_col1,#T_5993790c_cf80_11eb_bd73_0242ac1c0002row20_col2,#T_5993790c_cf80_11eb_bd73_0242ac1c0002row20_col3{\n",
              "            background-color:  #67000d;\n",
              "            color:  #f1f1f1;\n",
              "        }#T_5993790c_cf80_11eb_bd73_0242ac1c0002row15_col2{\n",
              "            background-color:  #fb7858;\n",
              "            color:  #000000;\n",
              "        }#T_5993790c_cf80_11eb_bd73_0242ac1c0002row15_col3{\n",
              "            background-color:  #fcae92;\n",
              "            color:  #000000;\n",
              "        }#T_5993790c_cf80_11eb_bd73_0242ac1c0002row16_col1{\n",
              "            background-color:  #db2824;\n",
              "            color:  #f1f1f1;\n",
              "        }#T_5993790c_cf80_11eb_bd73_0242ac1c0002row16_col3,#T_5993790c_cf80_11eb_bd73_0242ac1c0002row27_col2{\n",
              "            background-color:  #fee5d8;\n",
              "            color:  #000000;\n",
              "        }#T_5993790c_cf80_11eb_bd73_0242ac1c0002row19_col2{\n",
              "            background-color:  #fedecf;\n",
              "            color:  #000000;\n",
              "        }#T_5993790c_cf80_11eb_bd73_0242ac1c0002row20_col1{\n",
              "            background-color:  #a50f15;\n",
              "            color:  #f1f1f1;\n",
              "        }#T_5993790c_cf80_11eb_bd73_0242ac1c0002row25_col1{\n",
              "            background-color:  #fcb499;\n",
              "            color:  #000000;\n",
              "        }#T_5993790c_cf80_11eb_bd73_0242ac1c0002row25_col2{\n",
              "            background-color:  #fedbcc;\n",
              "            color:  #000000;\n",
              "        }#T_5993790c_cf80_11eb_bd73_0242ac1c0002row26_col3{\n",
              "            background-color:  #fff3ed;\n",
              "            color:  #000000;\n",
              "        }#T_5993790c_cf80_11eb_bd73_0242ac1c0002row27_col1{\n",
              "            background-color:  #feeae1;\n",
              "            color:  #000000;\n",
              "        }#T_5993790c_cf80_11eb_bd73_0242ac1c0002row28_col2{\n",
              "            background-color:  #fdd5c4;\n",
              "            color:  #000000;\n",
              "        }#T_5993790c_cf80_11eb_bd73_0242ac1c0002row30_col1{\n",
              "            background-color:  #c4161c;\n",
              "            color:  #f1f1f1;\n",
              "        }#T_5993790c_cf80_11eb_bd73_0242ac1c0002row30_col2{\n",
              "            background-color:  #fc8d6d;\n",
              "            color:  #000000;\n",
              "        }#T_5993790c_cf80_11eb_bd73_0242ac1c0002row30_col3{\n",
              "            background-color:  #fcb79c;\n",
              "            color:  #000000;\n",
              "        }#T_5993790c_cf80_11eb_bd73_0242ac1c0002row31_col2{\n",
              "            background-color:  #fee4d8;\n",
              "            color:  #000000;\n",
              "        }#T_5993790c_cf80_11eb_bd73_0242ac1c0002row33_col3{\n",
              "            background-color:  #ffebe2;\n",
              "            color:  #000000;\n",
              "        }#T_5993790c_cf80_11eb_bd73_0242ac1c0002row34_col2{\n",
              "            background-color:  #fcad90;\n",
              "            color:  #000000;\n",
              "        }#T_5993790c_cf80_11eb_bd73_0242ac1c0002row34_col3{\n",
              "            background-color:  #fdccb8;\n",
              "            color:  #000000;\n",
              "        }#T_5993790c_cf80_11eb_bd73_0242ac1c0002row35_col3{\n",
              "            background-color:  #fed9c9;\n",
              "            color:  #000000;\n",
              "        }</style><table id=\"T_5993790c_cf80_11eb_bd73_0242ac1c0002\" ><thead>    <tr>        <th class=\"blank level0\" ></th>        <th class=\"col_heading level0 col0\" >State/UnionTerritory</th>        <th class=\"col_heading level0 col1\" >Active Cases*</th>        <th class=\"col_heading level0 col2\" >Cured/Discharged/Migrated*</th>        <th class=\"col_heading level0 col3\" >Deaths</th>    </tr></thead><tbody>\n",
              "                <tr>\n",
              "                        <th id=\"T_5993790c_cf80_11eb_bd73_0242ac1c0002level0_row0\" class=\"row_heading level0 row0\" >0</th>\n",
              "                        <td id=\"T_5993790c_cf80_11eb_bd73_0242ac1c0002row0_col0\" class=\"data row0 col0\" >Andaman and Nicobar Islands</td>\n",
              "                        <td id=\"T_5993790c_cf80_11eb_bd73_0242ac1c0002row0_col1\" class=\"data row0 col1\" >105</td>\n",
              "                        <td id=\"T_5993790c_cf80_11eb_bd73_0242ac1c0002row0_col2\" class=\"data row0 col2\" >7049</td>\n",
              "                        <td id=\"T_5993790c_cf80_11eb_bd73_0242ac1c0002row0_col3\" class=\"data row0 col3\" >126</td>\n",
              "            </tr>\n",
              "            <tr>\n",
              "                        <th id=\"T_5993790c_cf80_11eb_bd73_0242ac1c0002level0_row1\" class=\"row_heading level0 row1\" >1</th>\n",
              "                        <td id=\"T_5993790c_cf80_11eb_bd73_0242ac1c0002row1_col0\" class=\"data row1 col0\" >Andhra Pradesh</td>\n",
              "                        <td id=\"T_5993790c_cf80_11eb_bd73_0242ac1c0002row1_col1\" class=\"data row1 col1\" >75134</td>\n",
              "                        <td id=\"T_5993790c_cf80_11eb_bd73_0242ac1c0002row1_col2\" class=\"data row1 col2\" >1732948</td>\n",
              "                        <td id=\"T_5993790c_cf80_11eb_bd73_0242ac1c0002row1_col3\" class=\"data row1 col3\" >12052</td>\n",
              "            </tr>\n",
              "            <tr>\n",
              "                        <th id=\"T_5993790c_cf80_11eb_bd73_0242ac1c0002level0_row2\" class=\"row_heading level0 row2\" >2</th>\n",
              "                        <td id=\"T_5993790c_cf80_11eb_bd73_0242ac1c0002row2_col0\" class=\"data row2 col0\" >Arunachal Pradesh</td>\n",
              "                        <td id=\"T_5993790c_cf80_11eb_bd73_0242ac1c0002row2_col1\" class=\"data row2 col1\" >2849</td>\n",
              "                        <td id=\"T_5993790c_cf80_11eb_bd73_0242ac1c0002row2_col2\" class=\"data row2 col2\" >28934</td>\n",
              "                        <td id=\"T_5993790c_cf80_11eb_bd73_0242ac1c0002row2_col3\" class=\"data row2 col3\" >155</td>\n",
              "            </tr>\n",
              "            <tr>\n",
              "                        <th id=\"T_5993790c_cf80_11eb_bd73_0242ac1c0002level0_row3\" class=\"row_heading level0 row3\" >3</th>\n",
              "                        <td id=\"T_5993790c_cf80_11eb_bd73_0242ac1c0002row3_col0\" class=\"data row3 col0\" >Assam</td>\n",
              "                        <td id=\"T_5993790c_cf80_11eb_bd73_0242ac1c0002row3_col1\" class=\"data row3 col1\" >41184</td>\n",
              "                        <td id=\"T_5993790c_cf80_11eb_bd73_0242ac1c0002row3_col2\" class=\"data row3 col2\" >421378</td>\n",
              "                        <td id=\"T_5993790c_cf80_11eb_bd73_0242ac1c0002row3_col3\" class=\"data row3 col3\" >4028</td>\n",
              "            </tr>\n",
              "            <tr>\n",
              "                        <th id=\"T_5993790c_cf80_11eb_bd73_0242ac1c0002level0_row4\" class=\"row_heading level0 row4\" >4</th>\n",
              "                        <td id=\"T_5993790c_cf80_11eb_bd73_0242ac1c0002row4_col0\" class=\"data row4 col0\" >Bihar</td>\n",
              "                        <td id=\"T_5993790c_cf80_11eb_bd73_0242ac1c0002row4_col1\" class=\"data row4 col1\" >4360</td>\n",
              "                        <td id=\"T_5993790c_cf80_11eb_bd73_0242ac1c0002row4_col2\" class=\"data row4 col2\" >704075</td>\n",
              "                        <td id=\"T_5993790c_cf80_11eb_bd73_0242ac1c0002row4_col3\" class=\"data row4 col3\" >9514</td>\n",
              "            </tr>\n",
              "            <tr>\n",
              "                        <th id=\"T_5993790c_cf80_11eb_bd73_0242ac1c0002level0_row5\" class=\"row_heading level0 row5\" >5</th>\n",
              "                        <td id=\"T_5993790c_cf80_11eb_bd73_0242ac1c0002row5_col0\" class=\"data row5 col0\" >Chandigarh</td>\n",
              "                        <td id=\"T_5993790c_cf80_11eb_bd73_0242ac1c0002row5_col1\" class=\"data row5 col1\" >486</td>\n",
              "                        <td id=\"T_5993790c_cf80_11eb_bd73_0242ac1c0002row5_col2\" class=\"data row5 col2\" >59917</td>\n",
              "                        <td id=\"T_5993790c_cf80_11eb_bd73_0242ac1c0002row5_col3\" class=\"data row5 col3\" >797</td>\n",
              "            </tr>\n",
              "            <tr>\n",
              "                        <th id=\"T_5993790c_cf80_11eb_bd73_0242ac1c0002level0_row6\" class=\"row_heading level0 row6\" >6</th>\n",
              "                        <td id=\"T_5993790c_cf80_11eb_bd73_0242ac1c0002row6_col0\" class=\"data row6 col0\" >Chhattisgarh</td>\n",
              "                        <td id=\"T_5993790c_cf80_11eb_bd73_0242ac1c0002row6_col1\" class=\"data row6 col1\" >11717</td>\n",
              "                        <td id=\"T_5993790c_cf80_11eb_bd73_0242ac1c0002row6_col2\" class=\"data row6 col2\" >963113</td>\n",
              "                        <td id=\"T_5993790c_cf80_11eb_bd73_0242ac1c0002row6_col3\" class=\"data row6 col3\" >13342</td>\n",
              "            </tr>\n",
              "            <tr>\n",
              "                        <th id=\"T_5993790c_cf80_11eb_bd73_0242ac1c0002level0_row7\" class=\"row_heading level0 row7\" >7</th>\n",
              "                        <td id=\"T_5993790c_cf80_11eb_bd73_0242ac1c0002row7_col0\" class=\"data row7 col0\" >Dadra and Nagar Haveli and Daman and Diu</td>\n",
              "                        <td id=\"T_5993790c_cf80_11eb_bd73_0242ac1c0002row7_col1\" class=\"data row7 col1\" >61</td>\n",
              "                        <td id=\"T_5993790c_cf80_11eb_bd73_0242ac1c0002row7_col2\" class=\"data row7 col2\" >10408</td>\n",
              "                        <td id=\"T_5993790c_cf80_11eb_bd73_0242ac1c0002row7_col3\" class=\"data row7 col3\" >4</td>\n",
              "            </tr>\n",
              "            <tr>\n",
              "                        <th id=\"T_5993790c_cf80_11eb_bd73_0242ac1c0002level0_row8\" class=\"row_heading level0 row8\" >8</th>\n",
              "                        <td id=\"T_5993790c_cf80_11eb_bd73_0242ac1c0002row8_col0\" class=\"data row8 col0\" >Delhi</td>\n",
              "                        <td id=\"T_5993790c_cf80_11eb_bd73_0242ac1c0002row8_col1\" class=\"data row8 col1\" >3078</td>\n",
              "                        <td id=\"T_5993790c_cf80_11eb_bd73_0242ac1c0002row8_col2\" class=\"data row8 col2\" >1403569</td>\n",
              "                        <td id=\"T_5993790c_cf80_11eb_bd73_0242ac1c0002row8_col3\" class=\"data row8 col3\" >24851</td>\n",
              "            </tr>\n",
              "            <tr>\n",
              "                        <th id=\"T_5993790c_cf80_11eb_bd73_0242ac1c0002level0_row9\" class=\"row_heading level0 row9\" >9</th>\n",
              "                        <td id=\"T_5993790c_cf80_11eb_bd73_0242ac1c0002row9_col0\" class=\"data row9 col0\" >Goa</td>\n",
              "                        <td id=\"T_5993790c_cf80_11eb_bd73_0242ac1c0002row9_col1\" class=\"data row9 col1\" >4175</td>\n",
              "                        <td id=\"T_5993790c_cf80_11eb_bd73_0242ac1c0002row9_col2\" class=\"data row9 col2\" >155926</td>\n",
              "                        <td id=\"T_5993790c_cf80_11eb_bd73_0242ac1c0002row9_col3\" class=\"data row9 col3\" >2947</td>\n",
              "            </tr>\n",
              "            <tr>\n",
              "                        <th id=\"T_5993790c_cf80_11eb_bd73_0242ac1c0002level0_row10\" class=\"row_heading level0 row10\" >10</th>\n",
              "                        <td id=\"T_5993790c_cf80_11eb_bd73_0242ac1c0002row10_col0\" class=\"data row10 col0\" >Gujarat</td>\n",
              "                        <td id=\"T_5993790c_cf80_11eb_bd73_0242ac1c0002row10_col1\" class=\"data row10 col1\" >8884</td>\n",
              "                        <td id=\"T_5993790c_cf80_11eb_bd73_0242ac1c0002row10_col2\" class=\"data row10 col2\" >802187</td>\n",
              "                        <td id=\"T_5993790c_cf80_11eb_bd73_0242ac1c0002row10_col3\" class=\"data row10 col3\" >10007</td>\n",
              "            </tr>\n",
              "            <tr>\n",
              "                        <th id=\"T_5993790c_cf80_11eb_bd73_0242ac1c0002level0_row11\" class=\"row_heading level0 row11\" >11</th>\n",
              "                        <td id=\"T_5993790c_cf80_11eb_bd73_0242ac1c0002row11_col0\" class=\"data row11 col0\" >Haryana</td>\n",
              "                        <td id=\"T_5993790c_cf80_11eb_bd73_0242ac1c0002row11_col1\" class=\"data row11 col1\" >3703</td>\n",
              "                        <td id=\"T_5993790c_cf80_11eb_bd73_0242ac1c0002row11_col2\" class=\"data row11 col2\" >753584</td>\n",
              "                        <td id=\"T_5993790c_cf80_11eb_bd73_0242ac1c0002row11_col3\" class=\"data row11 col3\" >9070</td>\n",
              "            </tr>\n",
              "            <tr>\n",
              "                        <th id=\"T_5993790c_cf80_11eb_bd73_0242ac1c0002level0_row12\" class=\"row_heading level0 row12\" >12</th>\n",
              "                        <td id=\"T_5993790c_cf80_11eb_bd73_0242ac1c0002row12_col0\" class=\"data row12 col0\" >Himachal Pradesh</td>\n",
              "                        <td id=\"T_5993790c_cf80_11eb_bd73_0242ac1c0002row12_col1\" class=\"data row12 col1\" >4050</td>\n",
              "                        <td id=\"T_5993790c_cf80_11eb_bd73_0242ac1c0002row12_col2\" class=\"data row12 col2\" >191737</td>\n",
              "                        <td id=\"T_5993790c_cf80_11eb_bd73_0242ac1c0002row12_col3\" class=\"data row12 col3\" >3410</td>\n",
              "            </tr>\n",
              "            <tr>\n",
              "                        <th id=\"T_5993790c_cf80_11eb_bd73_0242ac1c0002level0_row13\" class=\"row_heading level0 row13\" >13</th>\n",
              "                        <td id=\"T_5993790c_cf80_11eb_bd73_0242ac1c0002row13_col0\" class=\"data row13 col0\" >Jammu and Kashmir</td>\n",
              "                        <td id=\"T_5993790c_cf80_11eb_bd73_0242ac1c0002row13_col1\" class=\"data row13 col1\" >12407</td>\n",
              "                        <td id=\"T_5993790c_cf80_11eb_bd73_0242ac1c0002row13_col2\" class=\"data row13 col2\" >292114</td>\n",
              "                        <td id=\"T_5993790c_cf80_11eb_bd73_0242ac1c0002row13_col3\" class=\"data row13 col3\" >4205</td>\n",
              "            </tr>\n",
              "            <tr>\n",
              "                        <th id=\"T_5993790c_cf80_11eb_bd73_0242ac1c0002level0_row14\" class=\"row_heading level0 row14\" >14</th>\n",
              "                        <td id=\"T_5993790c_cf80_11eb_bd73_0242ac1c0002row14_col0\" class=\"data row14 col0\" >Jharkhand</td>\n",
              "                        <td id=\"T_5993790c_cf80_11eb_bd73_0242ac1c0002row14_col1\" class=\"data row14 col1\" >2646</td>\n",
              "                        <td id=\"T_5993790c_cf80_11eb_bd73_0242ac1c0002row14_col2\" class=\"data row14 col2\" >336058</td>\n",
              "                        <td id=\"T_5993790c_cf80_11eb_bd73_0242ac1c0002row14_col3\" class=\"data row14 col3\" >5089</td>\n",
              "            </tr>\n",
              "            <tr>\n",
              "                        <th id=\"T_5993790c_cf80_11eb_bd73_0242ac1c0002level0_row15\" class=\"row_heading level0 row15\" >15</th>\n",
              "                        <td id=\"T_5993790c_cf80_11eb_bd73_0242ac1c0002row15_col0\" class=\"data row15 col0\" >Karnataka</td>\n",
              "                        <td id=\"T_5993790c_cf80_11eb_bd73_0242ac1c0002row15_col1\" class=\"data row15 col1\" >162303</td>\n",
              "                        <td id=\"T_5993790c_cf80_11eb_bd73_0242ac1c0002row15_col2\" class=\"data row15 col2\" >2581559</td>\n",
              "                        <td id=\"T_5993790c_cf80_11eb_bd73_0242ac1c0002row15_col3\" class=\"data row15 col3\" >33148</td>\n",
              "            </tr>\n",
              "            <tr>\n",
              "                        <th id=\"T_5993790c_cf80_11eb_bd73_0242ac1c0002level0_row16\" class=\"row_heading level0 row16\" >16</th>\n",
              "                        <td id=\"T_5993790c_cf80_11eb_bd73_0242ac1c0002row16_col0\" class=\"data row16 col0\" >Kerala</td>\n",
              "                        <td id=\"T_5993790c_cf80_11eb_bd73_0242ac1c0002row16_col1\" class=\"data row16 col1\" >112792</td>\n",
              "                        <td id=\"T_5993790c_cf80_11eb_bd73_0242ac1c0002row16_col2\" class=\"data row16 col2\" >2623904</td>\n",
              "                        <td id=\"T_5993790c_cf80_11eb_bd73_0242ac1c0002row16_col3\" class=\"data row16 col3\" >11508</td>\n",
              "            </tr>\n",
              "            <tr>\n",
              "                        <th id=\"T_5993790c_cf80_11eb_bd73_0242ac1c0002level0_row17\" class=\"row_heading level0 row17\" >17</th>\n",
              "                        <td id=\"T_5993790c_cf80_11eb_bd73_0242ac1c0002row17_col0\" class=\"data row17 col0\" >Ladakh</td>\n",
              "                        <td id=\"T_5993790c_cf80_11eb_bd73_0242ac1c0002row17_col1\" class=\"data row17 col1\" >552</td>\n",
              "                        <td id=\"T_5993790c_cf80_11eb_bd73_0242ac1c0002row17_col2\" class=\"data row17 col2\" >18898</td>\n",
              "                        <td id=\"T_5993790c_cf80_11eb_bd73_0242ac1c0002row17_col3\" class=\"data row17 col3\" >199</td>\n",
              "            </tr>\n",
              "            <tr>\n",
              "                        <th id=\"T_5993790c_cf80_11eb_bd73_0242ac1c0002level0_row18\" class=\"row_heading level0 row18\" >18</th>\n",
              "                        <td id=\"T_5993790c_cf80_11eb_bd73_0242ac1c0002row18_col0\" class=\"data row18 col0\" >Lakshadweep</td>\n",
              "                        <td id=\"T_5993790c_cf80_11eb_bd73_0242ac1c0002row18_col1\" class=\"data row18 col1\" >484</td>\n",
              "                        <td id=\"T_5993790c_cf80_11eb_bd73_0242ac1c0002row18_col2\" class=\"data row18 col2\" >8768</td>\n",
              "                        <td id=\"T_5993790c_cf80_11eb_bd73_0242ac1c0002row18_col3\" class=\"data row18 col3\" >45</td>\n",
              "            </tr>\n",
              "            <tr>\n",
              "                        <th id=\"T_5993790c_cf80_11eb_bd73_0242ac1c0002level0_row19\" class=\"row_heading level0 row19\" >19</th>\n",
              "                        <td id=\"T_5993790c_cf80_11eb_bd73_0242ac1c0002row19_col0\" class=\"data row19 col0\" >Madhya Pradesh</td>\n",
              "                        <td id=\"T_5993790c_cf80_11eb_bd73_0242ac1c0002row19_col1\" class=\"data row19 col1\" >3610</td>\n",
              "                        <td id=\"T_5993790c_cf80_11eb_bd73_0242ac1c0002row19_col2\" class=\"data row19 col2\" >776424</td>\n",
              "                        <td id=\"T_5993790c_cf80_11eb_bd73_0242ac1c0002row19_col3\" class=\"data row19 col3\" >8615</td>\n",
              "            </tr>\n",
              "            <tr>\n",
              "                        <th id=\"T_5993790c_cf80_11eb_bd73_0242ac1c0002level0_row20\" class=\"row_heading level0 row20\" >20</th>\n",
              "                        <td id=\"T_5993790c_cf80_11eb_bd73_0242ac1c0002row20_col0\" class=\"data row20 col0\" >Maharashtra</td>\n",
              "                        <td id=\"T_5993790c_cf80_11eb_bd73_0242ac1c0002row20_col1\" class=\"data row20 col1\" >141440</td>\n",
              "                        <td id=\"T_5993790c_cf80_11eb_bd73_0242ac1c0002row20_col2\" class=\"data row20 col2\" >5669179</td>\n",
              "                        <td id=\"T_5993790c_cf80_11eb_bd73_0242ac1c0002row20_col3\" class=\"data row20 col3\" >114154</td>\n",
              "            </tr>\n",
              "            <tr>\n",
              "                        <th id=\"T_5993790c_cf80_11eb_bd73_0242ac1c0002level0_row21\" class=\"row_heading level0 row21\" >21</th>\n",
              "                        <td id=\"T_5993790c_cf80_11eb_bd73_0242ac1c0002row21_col0\" class=\"data row21 col0\" >Manipur</td>\n",
              "                        <td id=\"T_5993790c_cf80_11eb_bd73_0242ac1c0002row21_col1\" class=\"data row21 col1\" >8744</td>\n",
              "                        <td id=\"T_5993790c_cf80_11eb_bd73_0242ac1c0002row21_col2\" class=\"data row21 col2\" >51354</td>\n",
              "                        <td id=\"T_5993790c_cf80_11eb_bd73_0242ac1c0002row21_col3\" class=\"data row21 col3\" >998</td>\n",
              "            </tr>\n",
              "            <tr>\n",
              "                        <th id=\"T_5993790c_cf80_11eb_bd73_0242ac1c0002level0_row22\" class=\"row_heading level0 row22\" >22</th>\n",
              "                        <td id=\"T_5993790c_cf80_11eb_bd73_0242ac1c0002row22_col0\" class=\"data row22 col0\" >Meghalaya</td>\n",
              "                        <td id=\"T_5993790c_cf80_11eb_bd73_0242ac1c0002row22_col1\" class=\"data row22 col1\" >4430</td>\n",
              "                        <td id=\"T_5993790c_cf80_11eb_bd73_0242ac1c0002row22_col2\" class=\"data row22 col2\" >37579</td>\n",
              "                        <td id=\"T_5993790c_cf80_11eb_bd73_0242ac1c0002row22_col3\" class=\"data row22 col3\" >750</td>\n",
              "            </tr>\n",
              "            <tr>\n",
              "                        <th id=\"T_5993790c_cf80_11eb_bd73_0242ac1c0002level0_row23\" class=\"row_heading level0 row23\" >23</th>\n",
              "                        <td id=\"T_5993790c_cf80_11eb_bd73_0242ac1c0002row23_col0\" class=\"data row23 col0\" >Mizoram</td>\n",
              "                        <td id=\"T_5993790c_cf80_11eb_bd73_0242ac1c0002row23_col1\" class=\"data row23 col1\" >3637</td>\n",
              "                        <td id=\"T_5993790c_cf80_11eb_bd73_0242ac1c0002row23_col2\" class=\"data row23 col2\" >12191</td>\n",
              "                        <td id=\"T_5993790c_cf80_11eb_bd73_0242ac1c0002row23_col3\" class=\"data row23 col3\" >71</td>\n",
              "            </tr>\n",
              "            <tr>\n",
              "                        <th id=\"T_5993790c_cf80_11eb_bd73_0242ac1c0002level0_row24\" class=\"row_heading level0 row24\" >24</th>\n",
              "                        <td id=\"T_5993790c_cf80_11eb_bd73_0242ac1c0002row24_col0\" class=\"data row24 col0\" >Nagaland</td>\n",
              "                        <td id=\"T_5993790c_cf80_11eb_bd73_0242ac1c0002row24_col1\" class=\"data row24 col1\" >2972</td>\n",
              "                        <td id=\"T_5993790c_cf80_11eb_bd73_0242ac1c0002row24_col2\" class=\"data row24 col2\" >20423</td>\n",
              "                        <td id=\"T_5993790c_cf80_11eb_bd73_0242ac1c0002row24_col3\" class=\"data row24 col3\" >459</td>\n",
              "            </tr>\n",
              "            <tr>\n",
              "                        <th id=\"T_5993790c_cf80_11eb_bd73_0242ac1c0002level0_row25\" class=\"row_heading level0 row25\" >25</th>\n",
              "                        <td id=\"T_5993790c_cf80_11eb_bd73_0242ac1c0002row25_col0\" class=\"data row25 col0\" >Odisha</td>\n",
              "                        <td id=\"T_5993790c_cf80_11eb_bd73_0242ac1c0002row25_col1\" class=\"data row25 col1\" >44358</td>\n",
              "                        <td id=\"T_5993790c_cf80_11eb_bd73_0242ac1c0002row25_col2\" class=\"data row25 col2\" >811780</td>\n",
              "                        <td id=\"T_5993790c_cf80_11eb_bd73_0242ac1c0002row25_col3\" class=\"data row25 col3\" >3388</td>\n",
              "            </tr>\n",
              "            <tr>\n",
              "                        <th id=\"T_5993790c_cf80_11eb_bd73_0242ac1c0002level0_row26\" class=\"row_heading level0 row26\" >26</th>\n",
              "                        <td id=\"T_5993790c_cf80_11eb_bd73_0242ac1c0002row26_col0\" class=\"data row26 col0\" >Puducherry</td>\n",
              "                        <td id=\"T_5993790c_cf80_11eb_bd73_0242ac1c0002row26_col1\" class=\"data row26 col1\" >4668</td>\n",
              "                        <td id=\"T_5993790c_cf80_11eb_bd73_0242ac1c0002row26_col2\" class=\"data row26 col2\" >106828</td>\n",
              "                        <td id=\"T_5993790c_cf80_11eb_bd73_0242ac1c0002row26_col3\" class=\"data row26 col3\" >1696</td>\n",
              "            </tr>\n",
              "            <tr>\n",
              "                        <th id=\"T_5993790c_cf80_11eb_bd73_0242ac1c0002level0_row27\" class=\"row_heading level0 row27\" >27</th>\n",
              "                        <td id=\"T_5993790c_cf80_11eb_bd73_0242ac1c0002row27_col0\" class=\"data row27 col0\" >Punjab</td>\n",
              "                        <td id=\"T_5993790c_cf80_11eb_bd73_0242ac1c0002row27_col1\" class=\"data row27 col1\" >10802</td>\n",
              "                        <td id=\"T_5993790c_cf80_11eb_bd73_0242ac1c0002row27_col2\" class=\"data row27 col2\" >562701</td>\n",
              "                        <td id=\"T_5993790c_cf80_11eb_bd73_0242ac1c0002row27_col3\" class=\"data row27 col3\" >15650</td>\n",
              "            </tr>\n",
              "            <tr>\n",
              "                        <th id=\"T_5993790c_cf80_11eb_bd73_0242ac1c0002level0_row28\" class=\"row_heading level0 row28\" >28</th>\n",
              "                        <td id=\"T_5993790c_cf80_11eb_bd73_0242ac1c0002row28_col0\" class=\"data row28 col0\" >Rajasthan</td>\n",
              "                        <td id=\"T_5993790c_cf80_11eb_bd73_0242ac1c0002row28_col1\" class=\"data row28 col1\" >5619</td>\n",
              "                        <td id=\"T_5993790c_cf80_11eb_bd73_0242ac1c0002row28_col2\" class=\"data row28 col2\" >935658</td>\n",
              "                        <td id=\"T_5993790c_cf80_11eb_bd73_0242ac1c0002row28_col3\" class=\"data row28 col3\" >8856</td>\n",
              "            </tr>\n",
              "            <tr>\n",
              "                        <th id=\"T_5993790c_cf80_11eb_bd73_0242ac1c0002level0_row29\" class=\"row_heading level0 row29\" >29</th>\n",
              "                        <td id=\"T_5993790c_cf80_11eb_bd73_0242ac1c0002row29_col0\" class=\"data row29 col0\" >Sikkim</td>\n",
              "                        <td id=\"T_5993790c_cf80_11eb_bd73_0242ac1c0002row29_col1\" class=\"data row29 col1\" >3239</td>\n",
              "                        <td id=\"T_5993790c_cf80_11eb_bd73_0242ac1c0002row29_col2\" class=\"data row29 col2\" >15136</td>\n",
              "                        <td id=\"T_5993790c_cf80_11eb_bd73_0242ac1c0002row29_col3\" class=\"data row29 col3\" >284</td>\n",
              "            </tr>\n",
              "            <tr>\n",
              "                        <th id=\"T_5993790c_cf80_11eb_bd73_0242ac1c0002level0_row30\" class=\"row_heading level0 row30\" >30</th>\n",
              "                        <td id=\"T_5993790c_cf80_11eb_bd73_0242ac1c0002row30_col0\" class=\"data row30 col0\" >Tamil Nadu</td>\n",
              "                        <td id=\"T_5993790c_cf80_11eb_bd73_0242ac1c0002row30_col1\" class=\"data row30 col1\" >125215</td>\n",
              "                        <td id=\"T_5993790c_cf80_11eb_bd73_0242ac1c0002row30_col2\" class=\"data row30 col2\" >2223015</td>\n",
              "                        <td id=\"T_5993790c_cf80_11eb_bd73_0242ac1c0002row30_col3\" class=\"data row30 col3\" >30068</td>\n",
              "            </tr>\n",
              "            <tr>\n",
              "                        <th id=\"T_5993790c_cf80_11eb_bd73_0242ac1c0002level0_row31\" class=\"row_heading level0 row31\" >31</th>\n",
              "                        <td id=\"T_5993790c_cf80_11eb_bd73_0242ac1c0002row31_col0\" class=\"data row31 col0\" >Telangana</td>\n",
              "                        <td id=\"T_5993790c_cf80_11eb_bd73_0242ac1c0002row31_col1\" class=\"data row31 col1\" >19933</td>\n",
              "                        <td id=\"T_5993790c_cf80_11eb_bd73_0242ac1c0002row31_col2\" class=\"data row31 col2\" >582993</td>\n",
              "                        <td id=\"T_5993790c_cf80_11eb_bd73_0242ac1c0002row31_col3\" class=\"data row31 col3\" >3510</td>\n",
              "            </tr>\n",
              "            <tr>\n",
              "                        <th id=\"T_5993790c_cf80_11eb_bd73_0242ac1c0002level0_row32\" class=\"row_heading level0 row32\" >32</th>\n",
              "                        <td id=\"T_5993790c_cf80_11eb_bd73_0242ac1c0002row32_col0\" class=\"data row32 col0\" >Tripura</td>\n",
              "                        <td id=\"T_5993790c_cf80_11eb_bd73_0242ac1c0002row32_col1\" class=\"data row32 col1\" >4886</td>\n",
              "                        <td id=\"T_5993790c_cf80_11eb_bd73_0242ac1c0002row32_col2\" class=\"data row32 col2\" >54870</td>\n",
              "                        <td id=\"T_5993790c_cf80_11eb_bd73_0242ac1c0002row32_col3\" class=\"data row32 col3\" >629</td>\n",
              "            </tr>\n",
              "            <tr>\n",
              "                        <th id=\"T_5993790c_cf80_11eb_bd73_0242ac1c0002level0_row33\" class=\"row_heading level0 row33\" >33</th>\n",
              "                        <td id=\"T_5993790c_cf80_11eb_bd73_0242ac1c0002row33_col0\" class=\"data row33 col0\" >Uttarakhand</td>\n",
              "                        <td id=\"T_5993790c_cf80_11eb_bd73_0242ac1c0002row33_col1\" class=\"data row33 col1\" >3642</td>\n",
              "                        <td id=\"T_5993790c_cf80_11eb_bd73_0242ac1c0002row33_col2\" class=\"data row33 col2\" >326822</td>\n",
              "                        <td id=\"T_5993790c_cf80_11eb_bd73_0242ac1c0002row33_col3\" class=\"data row33 col3\" >6985</td>\n",
              "            </tr>\n",
              "            <tr>\n",
              "                        <th id=\"T_5993790c_cf80_11eb_bd73_0242ac1c0002level0_row34\" class=\"row_heading level0 row34\" >34</th>\n",
              "                        <td id=\"T_5993790c_cf80_11eb_bd73_0242ac1c0002row34_col0\" class=\"data row34 col0\" >Uttar Pradesh</td>\n",
              "                        <td id=\"T_5993790c_cf80_11eb_bd73_0242ac1c0002row34_col1\" class=\"data row34 col1\" >7221</td>\n",
              "                        <td id=\"T_5993790c_cf80_11eb_bd73_0242ac1c0002row34_col2\" class=\"data row34 col2\" >1674072</td>\n",
              "                        <td id=\"T_5993790c_cf80_11eb_bd73_0242ac1c0002row34_col3\" class=\"data row34 col3\" >21914</td>\n",
              "            </tr>\n",
              "            <tr>\n",
              "                        <th id=\"T_5993790c_cf80_11eb_bd73_0242ac1c0002level0_row35\" class=\"row_heading level0 row35\" >35</th>\n",
              "                        <td id=\"T_5993790c_cf80_11eb_bd73_0242ac1c0002row35_col0\" class=\"data row35 col0\" >West Bengal</td>\n",
              "                        <td id=\"T_5993790c_cf80_11eb_bd73_0242ac1c0002row35_col1\" class=\"data row35 col1\" >20046</td>\n",
              "                        <td id=\"T_5993790c_cf80_11eb_bd73_0242ac1c0002row35_col2\" class=\"data row35 col2\" >1430949</td>\n",
              "                        <td id=\"T_5993790c_cf80_11eb_bd73_0242ac1c0002row35_col3\" class=\"data row35 col3\" >17049</td>\n",
              "            </tr>\n",
              "    </tbody></table>"
            ],
            "text/plain": [
              "<pandas.io.formats.style.Styler at 0x7f54daa81f10>"
            ]
          },
          "metadata": {
            "tags": []
          },
          "execution_count": 139
        }
      ]
    },
    {
      "cell_type": "code",
      "metadata": {
        "id": "EcE0JErgP8c4",
        "colab": {
          "base_uri": "https://localhost:8080/"
        },
        "outputId": "3a16cc4d-7b4d-472d-eaa3-47e48c49b500"
      },
      "source": [
        "today = now.strftime(\"%Y_%m_%d\")\n",
        "total_cured = df['Cured/Discharged/Migrated*'].sum()\n",
        "print(\"Total people who were cured as of \"+today+\" are: \", total_cured)\n",
        "#total_cases = df['Confirmed'].sum()\n",
        "print(\"Total people who were detected COVID+ve as of \"+today+\" are: \", total_cases)\n",
        "total_death = df['Deaths'].sum()\n",
        "print(\"Total people who died due to COVID19 as of \"+today+\" are: \",total_death)\n",
        "total_active = df['Active Cases*'].sum()\n",
        "print(\"Total active COVID19 cases as of \"+today+\" are: \",total_active)"
      ],
      "execution_count": null,
      "outputs": [
        {
          "output_type": "stream",
          "text": [
            "Total people who were cured as of 2021_06_17 are:  28388100\n",
            "Total people who were detected COVID+ve as of 2021_06_17 are:  29633105\n",
            "Total people who died due to COVID19 as of 2021_06_17 are:  379573\n",
            "Total active COVID19 cases as of 2021_06_17 are:  865432\n"
          ],
          "name": "stdout"
        }
      ]
    },
    {
      "cell_type": "code",
      "metadata": {
        "id": "f8tBe47zP8lq",
        "colab": {
          "base_uri": "https://localhost:8080/",
          "height": 802
        },
        "outputId": "18857e63-aeb8-4555-cde6-0f55d2f5ac9a"
      },
      "source": [
        "print('Total number of active COVID 2019 cases across India:', total_active)\n",
        "Tot_Cases = df.groupby('State/UnionTerritory')['Active Cases*'].sum().sort_values(ascending=False).to_frame()\n",
        "Tot_Cases.style.background_gradient(cmap='Reds')"
      ],
      "execution_count": null,
      "outputs": [
        {
          "output_type": "stream",
          "text": [
            "Total number of active COVID 2019 cases across India: 865432\n"
          ],
          "name": "stdout"
        },
        {
          "output_type": "execute_result",
          "data": {
            "text/html": [
              "<style  type=\"text/css\" >\n",
              "#T_59a37b22_cf80_11eb_bd73_0242ac1c0002row0_col0{\n",
              "            background-color:  #67000d;\n",
              "            color:  #f1f1f1;\n",
              "        }#T_59a37b22_cf80_11eb_bd73_0242ac1c0002row1_col0{\n",
              "            background-color:  #a50f15;\n",
              "            color:  #f1f1f1;\n",
              "        }#T_59a37b22_cf80_11eb_bd73_0242ac1c0002row2_col0{\n",
              "            background-color:  #c4161c;\n",
              "            color:  #f1f1f1;\n",
              "        }#T_59a37b22_cf80_11eb_bd73_0242ac1c0002row3_col0{\n",
              "            background-color:  #db2824;\n",
              "            color:  #f1f1f1;\n",
              "        }#T_59a37b22_cf80_11eb_bd73_0242ac1c0002row4_col0{\n",
              "            background-color:  #fb7656;\n",
              "            color:  #000000;\n",
              "        }#T_59a37b22_cf80_11eb_bd73_0242ac1c0002row5_col0{\n",
              "            background-color:  #fcb499;\n",
              "            color:  #000000;\n",
              "        }#T_59a37b22_cf80_11eb_bd73_0242ac1c0002row6_col0{\n",
              "            background-color:  #fcbba1;\n",
              "            color:  #000000;\n",
              "        }#T_59a37b22_cf80_11eb_bd73_0242ac1c0002row7_col0,#T_59a37b22_cf80_11eb_bd73_0242ac1c0002row8_col0{\n",
              "            background-color:  #fee1d3;\n",
              "            color:  #000000;\n",
              "        }#T_59a37b22_cf80_11eb_bd73_0242ac1c0002row9_col0{\n",
              "            background-color:  #fee8de;\n",
              "            color:  #000000;\n",
              "        }#T_59a37b22_cf80_11eb_bd73_0242ac1c0002row10_col0{\n",
              "            background-color:  #fee9df;\n",
              "            color:  #000000;\n",
              "        }#T_59a37b22_cf80_11eb_bd73_0242ac1c0002row11_col0{\n",
              "            background-color:  #feeae1;\n",
              "            color:  #000000;\n",
              "        }#T_59a37b22_cf80_11eb_bd73_0242ac1c0002row12_col0,#T_59a37b22_cf80_11eb_bd73_0242ac1c0002row13_col0{\n",
              "            background-color:  #ffece4;\n",
              "            color:  #000000;\n",
              "        }#T_59a37b22_cf80_11eb_bd73_0242ac1c0002row14_col0{\n",
              "            background-color:  #ffeee6;\n",
              "            color:  #000000;\n",
              "        }#T_59a37b22_cf80_11eb_bd73_0242ac1c0002row15_col0{\n",
              "            background-color:  #fff0e8;\n",
              "            color:  #000000;\n",
              "        }#T_59a37b22_cf80_11eb_bd73_0242ac1c0002row16_col0,#T_59a37b22_cf80_11eb_bd73_0242ac1c0002row17_col0{\n",
              "            background-color:  #fff0e9;\n",
              "            color:  #000000;\n",
              "        }#T_59a37b22_cf80_11eb_bd73_0242ac1c0002row18_col0,#T_59a37b22_cf80_11eb_bd73_0242ac1c0002row19_col0,#T_59a37b22_cf80_11eb_bd73_0242ac1c0002row20_col0,#T_59a37b22_cf80_11eb_bd73_0242ac1c0002row21_col0{\n",
              "            background-color:  #fff1ea;\n",
              "            color:  #000000;\n",
              "        }#T_59a37b22_cf80_11eb_bd73_0242ac1c0002row22_col0,#T_59a37b22_cf80_11eb_bd73_0242ac1c0002row23_col0,#T_59a37b22_cf80_11eb_bd73_0242ac1c0002row24_col0,#T_59a37b22_cf80_11eb_bd73_0242ac1c0002row25_col0,#T_59a37b22_cf80_11eb_bd73_0242ac1c0002row26_col0{\n",
              "            background-color:  #fff2eb;\n",
              "            color:  #000000;\n",
              "        }#T_59a37b22_cf80_11eb_bd73_0242ac1c0002row27_col0,#T_59a37b22_cf80_11eb_bd73_0242ac1c0002row28_col0,#T_59a37b22_cf80_11eb_bd73_0242ac1c0002row29_col0,#T_59a37b22_cf80_11eb_bd73_0242ac1c0002row30_col0{\n",
              "            background-color:  #fff2ec;\n",
              "            color:  #000000;\n",
              "        }#T_59a37b22_cf80_11eb_bd73_0242ac1c0002row31_col0,#T_59a37b22_cf80_11eb_bd73_0242ac1c0002row32_col0,#T_59a37b22_cf80_11eb_bd73_0242ac1c0002row33_col0,#T_59a37b22_cf80_11eb_bd73_0242ac1c0002row34_col0,#T_59a37b22_cf80_11eb_bd73_0242ac1c0002row35_col0{\n",
              "            background-color:  #fff5f0;\n",
              "            color:  #000000;\n",
              "        }</style><table id=\"T_59a37b22_cf80_11eb_bd73_0242ac1c0002\" ><thead>    <tr>        <th class=\"blank level0\" ></th>        <th class=\"col_heading level0 col0\" >Active Cases*</th>    </tr>    <tr>        <th class=\"index_name level0\" >State/UnionTerritory</th>        <th class=\"blank\" ></th>    </tr></thead><tbody>\n",
              "                <tr>\n",
              "                        <th id=\"T_59a37b22_cf80_11eb_bd73_0242ac1c0002level0_row0\" class=\"row_heading level0 row0\" >Karnataka</th>\n",
              "                        <td id=\"T_59a37b22_cf80_11eb_bd73_0242ac1c0002row0_col0\" class=\"data row0 col0\" >162303</td>\n",
              "            </tr>\n",
              "            <tr>\n",
              "                        <th id=\"T_59a37b22_cf80_11eb_bd73_0242ac1c0002level0_row1\" class=\"row_heading level0 row1\" >Maharashtra</th>\n",
              "                        <td id=\"T_59a37b22_cf80_11eb_bd73_0242ac1c0002row1_col0\" class=\"data row1 col0\" >141440</td>\n",
              "            </tr>\n",
              "            <tr>\n",
              "                        <th id=\"T_59a37b22_cf80_11eb_bd73_0242ac1c0002level0_row2\" class=\"row_heading level0 row2\" >Tamil Nadu</th>\n",
              "                        <td id=\"T_59a37b22_cf80_11eb_bd73_0242ac1c0002row2_col0\" class=\"data row2 col0\" >125215</td>\n",
              "            </tr>\n",
              "            <tr>\n",
              "                        <th id=\"T_59a37b22_cf80_11eb_bd73_0242ac1c0002level0_row3\" class=\"row_heading level0 row3\" >Kerala</th>\n",
              "                        <td id=\"T_59a37b22_cf80_11eb_bd73_0242ac1c0002row3_col0\" class=\"data row3 col0\" >112792</td>\n",
              "            </tr>\n",
              "            <tr>\n",
              "                        <th id=\"T_59a37b22_cf80_11eb_bd73_0242ac1c0002level0_row4\" class=\"row_heading level0 row4\" >Andhra Pradesh</th>\n",
              "                        <td id=\"T_59a37b22_cf80_11eb_bd73_0242ac1c0002row4_col0\" class=\"data row4 col0\" >75134</td>\n",
              "            </tr>\n",
              "            <tr>\n",
              "                        <th id=\"T_59a37b22_cf80_11eb_bd73_0242ac1c0002level0_row5\" class=\"row_heading level0 row5\" >Odisha</th>\n",
              "                        <td id=\"T_59a37b22_cf80_11eb_bd73_0242ac1c0002row5_col0\" class=\"data row5 col0\" >44358</td>\n",
              "            </tr>\n",
              "            <tr>\n",
              "                        <th id=\"T_59a37b22_cf80_11eb_bd73_0242ac1c0002level0_row6\" class=\"row_heading level0 row6\" >Assam</th>\n",
              "                        <td id=\"T_59a37b22_cf80_11eb_bd73_0242ac1c0002row6_col0\" class=\"data row6 col0\" >41184</td>\n",
              "            </tr>\n",
              "            <tr>\n",
              "                        <th id=\"T_59a37b22_cf80_11eb_bd73_0242ac1c0002level0_row7\" class=\"row_heading level0 row7\" >West Bengal</th>\n",
              "                        <td id=\"T_59a37b22_cf80_11eb_bd73_0242ac1c0002row7_col0\" class=\"data row7 col0\" >20046</td>\n",
              "            </tr>\n",
              "            <tr>\n",
              "                        <th id=\"T_59a37b22_cf80_11eb_bd73_0242ac1c0002level0_row8\" class=\"row_heading level0 row8\" >Telangana</th>\n",
              "                        <td id=\"T_59a37b22_cf80_11eb_bd73_0242ac1c0002row8_col0\" class=\"data row8 col0\" >19933</td>\n",
              "            </tr>\n",
              "            <tr>\n",
              "                        <th id=\"T_59a37b22_cf80_11eb_bd73_0242ac1c0002level0_row9\" class=\"row_heading level0 row9\" >Jammu and Kashmir</th>\n",
              "                        <td id=\"T_59a37b22_cf80_11eb_bd73_0242ac1c0002row9_col0\" class=\"data row9 col0\" >12407</td>\n",
              "            </tr>\n",
              "            <tr>\n",
              "                        <th id=\"T_59a37b22_cf80_11eb_bd73_0242ac1c0002level0_row10\" class=\"row_heading level0 row10\" >Chhattisgarh</th>\n",
              "                        <td id=\"T_59a37b22_cf80_11eb_bd73_0242ac1c0002row10_col0\" class=\"data row10 col0\" >11717</td>\n",
              "            </tr>\n",
              "            <tr>\n",
              "                        <th id=\"T_59a37b22_cf80_11eb_bd73_0242ac1c0002level0_row11\" class=\"row_heading level0 row11\" >Punjab</th>\n",
              "                        <td id=\"T_59a37b22_cf80_11eb_bd73_0242ac1c0002row11_col0\" class=\"data row11 col0\" >10802</td>\n",
              "            </tr>\n",
              "            <tr>\n",
              "                        <th id=\"T_59a37b22_cf80_11eb_bd73_0242ac1c0002level0_row12\" class=\"row_heading level0 row12\" >Gujarat</th>\n",
              "                        <td id=\"T_59a37b22_cf80_11eb_bd73_0242ac1c0002row12_col0\" class=\"data row12 col0\" >8884</td>\n",
              "            </tr>\n",
              "            <tr>\n",
              "                        <th id=\"T_59a37b22_cf80_11eb_bd73_0242ac1c0002level0_row13\" class=\"row_heading level0 row13\" >Manipur</th>\n",
              "                        <td id=\"T_59a37b22_cf80_11eb_bd73_0242ac1c0002row13_col0\" class=\"data row13 col0\" >8744</td>\n",
              "            </tr>\n",
              "            <tr>\n",
              "                        <th id=\"T_59a37b22_cf80_11eb_bd73_0242ac1c0002level0_row14\" class=\"row_heading level0 row14\" >Uttar Pradesh</th>\n",
              "                        <td id=\"T_59a37b22_cf80_11eb_bd73_0242ac1c0002row14_col0\" class=\"data row14 col0\" >7221</td>\n",
              "            </tr>\n",
              "            <tr>\n",
              "                        <th id=\"T_59a37b22_cf80_11eb_bd73_0242ac1c0002level0_row15\" class=\"row_heading level0 row15\" >Rajasthan</th>\n",
              "                        <td id=\"T_59a37b22_cf80_11eb_bd73_0242ac1c0002row15_col0\" class=\"data row15 col0\" >5619</td>\n",
              "            </tr>\n",
              "            <tr>\n",
              "                        <th id=\"T_59a37b22_cf80_11eb_bd73_0242ac1c0002level0_row16\" class=\"row_heading level0 row16\" >Tripura</th>\n",
              "                        <td id=\"T_59a37b22_cf80_11eb_bd73_0242ac1c0002row16_col0\" class=\"data row16 col0\" >4886</td>\n",
              "            </tr>\n",
              "            <tr>\n",
              "                        <th id=\"T_59a37b22_cf80_11eb_bd73_0242ac1c0002level0_row17\" class=\"row_heading level0 row17\" >Puducherry</th>\n",
              "                        <td id=\"T_59a37b22_cf80_11eb_bd73_0242ac1c0002row17_col0\" class=\"data row17 col0\" >4668</td>\n",
              "            </tr>\n",
              "            <tr>\n",
              "                        <th id=\"T_59a37b22_cf80_11eb_bd73_0242ac1c0002level0_row18\" class=\"row_heading level0 row18\" >Meghalaya</th>\n",
              "                        <td id=\"T_59a37b22_cf80_11eb_bd73_0242ac1c0002row18_col0\" class=\"data row18 col0\" >4430</td>\n",
              "            </tr>\n",
              "            <tr>\n",
              "                        <th id=\"T_59a37b22_cf80_11eb_bd73_0242ac1c0002level0_row19\" class=\"row_heading level0 row19\" >Bihar</th>\n",
              "                        <td id=\"T_59a37b22_cf80_11eb_bd73_0242ac1c0002row19_col0\" class=\"data row19 col0\" >4360</td>\n",
              "            </tr>\n",
              "            <tr>\n",
              "                        <th id=\"T_59a37b22_cf80_11eb_bd73_0242ac1c0002level0_row20\" class=\"row_heading level0 row20\" >Goa</th>\n",
              "                        <td id=\"T_59a37b22_cf80_11eb_bd73_0242ac1c0002row20_col0\" class=\"data row20 col0\" >4175</td>\n",
              "            </tr>\n",
              "            <tr>\n",
              "                        <th id=\"T_59a37b22_cf80_11eb_bd73_0242ac1c0002level0_row21\" class=\"row_heading level0 row21\" >Himachal Pradesh</th>\n",
              "                        <td id=\"T_59a37b22_cf80_11eb_bd73_0242ac1c0002row21_col0\" class=\"data row21 col0\" >4050</td>\n",
              "            </tr>\n",
              "            <tr>\n",
              "                        <th id=\"T_59a37b22_cf80_11eb_bd73_0242ac1c0002level0_row22\" class=\"row_heading level0 row22\" >Haryana</th>\n",
              "                        <td id=\"T_59a37b22_cf80_11eb_bd73_0242ac1c0002row22_col0\" class=\"data row22 col0\" >3703</td>\n",
              "            </tr>\n",
              "            <tr>\n",
              "                        <th id=\"T_59a37b22_cf80_11eb_bd73_0242ac1c0002level0_row23\" class=\"row_heading level0 row23\" >Uttarakhand</th>\n",
              "                        <td id=\"T_59a37b22_cf80_11eb_bd73_0242ac1c0002row23_col0\" class=\"data row23 col0\" >3642</td>\n",
              "            </tr>\n",
              "            <tr>\n",
              "                        <th id=\"T_59a37b22_cf80_11eb_bd73_0242ac1c0002level0_row24\" class=\"row_heading level0 row24\" >Mizoram</th>\n",
              "                        <td id=\"T_59a37b22_cf80_11eb_bd73_0242ac1c0002row24_col0\" class=\"data row24 col0\" >3637</td>\n",
              "            </tr>\n",
              "            <tr>\n",
              "                        <th id=\"T_59a37b22_cf80_11eb_bd73_0242ac1c0002level0_row25\" class=\"row_heading level0 row25\" >Madhya Pradesh</th>\n",
              "                        <td id=\"T_59a37b22_cf80_11eb_bd73_0242ac1c0002row25_col0\" class=\"data row25 col0\" >3610</td>\n",
              "            </tr>\n",
              "            <tr>\n",
              "                        <th id=\"T_59a37b22_cf80_11eb_bd73_0242ac1c0002level0_row26\" class=\"row_heading level0 row26\" >Sikkim</th>\n",
              "                        <td id=\"T_59a37b22_cf80_11eb_bd73_0242ac1c0002row26_col0\" class=\"data row26 col0\" >3239</td>\n",
              "            </tr>\n",
              "            <tr>\n",
              "                        <th id=\"T_59a37b22_cf80_11eb_bd73_0242ac1c0002level0_row27\" class=\"row_heading level0 row27\" >Delhi</th>\n",
              "                        <td id=\"T_59a37b22_cf80_11eb_bd73_0242ac1c0002row27_col0\" class=\"data row27 col0\" >3078</td>\n",
              "            </tr>\n",
              "            <tr>\n",
              "                        <th id=\"T_59a37b22_cf80_11eb_bd73_0242ac1c0002level0_row28\" class=\"row_heading level0 row28\" >Nagaland</th>\n",
              "                        <td id=\"T_59a37b22_cf80_11eb_bd73_0242ac1c0002row28_col0\" class=\"data row28 col0\" >2972</td>\n",
              "            </tr>\n",
              "            <tr>\n",
              "                        <th id=\"T_59a37b22_cf80_11eb_bd73_0242ac1c0002level0_row29\" class=\"row_heading level0 row29\" >Arunachal Pradesh</th>\n",
              "                        <td id=\"T_59a37b22_cf80_11eb_bd73_0242ac1c0002row29_col0\" class=\"data row29 col0\" >2849</td>\n",
              "            </tr>\n",
              "            <tr>\n",
              "                        <th id=\"T_59a37b22_cf80_11eb_bd73_0242ac1c0002level0_row30\" class=\"row_heading level0 row30\" >Jharkhand</th>\n",
              "                        <td id=\"T_59a37b22_cf80_11eb_bd73_0242ac1c0002row30_col0\" class=\"data row30 col0\" >2646</td>\n",
              "            </tr>\n",
              "            <tr>\n",
              "                        <th id=\"T_59a37b22_cf80_11eb_bd73_0242ac1c0002level0_row31\" class=\"row_heading level0 row31\" >Ladakh</th>\n",
              "                        <td id=\"T_59a37b22_cf80_11eb_bd73_0242ac1c0002row31_col0\" class=\"data row31 col0\" >552</td>\n",
              "            </tr>\n",
              "            <tr>\n",
              "                        <th id=\"T_59a37b22_cf80_11eb_bd73_0242ac1c0002level0_row32\" class=\"row_heading level0 row32\" >Chandigarh</th>\n",
              "                        <td id=\"T_59a37b22_cf80_11eb_bd73_0242ac1c0002row32_col0\" class=\"data row32 col0\" >486</td>\n",
              "            </tr>\n",
              "            <tr>\n",
              "                        <th id=\"T_59a37b22_cf80_11eb_bd73_0242ac1c0002level0_row33\" class=\"row_heading level0 row33\" >Lakshadweep</th>\n",
              "                        <td id=\"T_59a37b22_cf80_11eb_bd73_0242ac1c0002row33_col0\" class=\"data row33 col0\" >484</td>\n",
              "            </tr>\n",
              "            <tr>\n",
              "                        <th id=\"T_59a37b22_cf80_11eb_bd73_0242ac1c0002level0_row34\" class=\"row_heading level0 row34\" >Andaman and Nicobar Islands</th>\n",
              "                        <td id=\"T_59a37b22_cf80_11eb_bd73_0242ac1c0002row34_col0\" class=\"data row34 col0\" >105</td>\n",
              "            </tr>\n",
              "            <tr>\n",
              "                        <th id=\"T_59a37b22_cf80_11eb_bd73_0242ac1c0002level0_row35\" class=\"row_heading level0 row35\" >Dadra and Nagar Haveli and Daman and Diu</th>\n",
              "                        <td id=\"T_59a37b22_cf80_11eb_bd73_0242ac1c0002row35_col0\" class=\"data row35 col0\" >61</td>\n",
              "            </tr>\n",
              "    </tbody></table>"
            ],
            "text/plain": [
              "<pandas.io.formats.style.Styler at 0x7f54fcd4add0>"
            ]
          },
          "metadata": {
            "tags": []
          },
          "execution_count": 141
        }
      ]
    },
    {
      "cell_type": "code",
      "metadata": {
        "id": "55GDFCbPRd9x",
        "colab": {
          "base_uri": "https://localhost:8080/",
          "height": 798
        },
        "outputId": "b03cd316-7f97-4843-9ab1-ccaee98f43c1"
      },
      "source": [
        "import numpy as np\n",
        "state_cases = df_india.groupby('State/UnionTerritory')['Active Cases*','Deaths','Cured/Discharged/Migrated*'].max().reset_index()\n",
        "\n",
        "#state_cases = state_cases.astype({'Deaths': 'int'})\n",
        "state_cases['Confirmed'] = state_cases['Active Cases*'] + (state_cases['Deaths']+state_cases['Cured/Discharged/Migrated*'])\n",
        "state_cases[\"Death Rate (per 100)\"] = np.round(100*state_cases[\"Deaths\"]/state_cases[\"Confirmed\"],2)\n",
        "state_cases[\"Cure Rate (per 100)\"] = np.round(100*state_cases[\"Cured/Discharged/Migrated*\"]/state_cases[\"Confirmed\"],2)\n",
        "state_cases.sort_values('Confirmed', ascending= False).fillna(0).style.background_gradient(cmap='Blues',subset=[\"Confirmed\"])\\\n",
        "                        .background_gradient(cmap='Blues',subset=[\"Deaths\"])\\\n",
        "                        .background_gradient(cmap='Blues',subset=[\"Cured/Discharged/Migrated*\"])\\\n",
        "                        .background_gradient(cmap='Blues',subset=[\"Active Cases*\"])\\\n",
        "                        .background_gradient(cmap='Blues',subset=[\"Death Rate (per 100)\"])\\\n",
        "                        .background_gradient(cmap='Blues',subset=[\"Cure Rate (per 100)\"])"
      ],
      "execution_count": null,
      "outputs": [
        {
          "output_type": "execute_result",
          "data": {
            "text/html": [
              "<style  type=\"text/css\" >\n",
              "#T_59b1c6e6_cf80_11eb_bd73_0242ac1c0002row0_col1{\n",
              "            background-color:  #08519c;\n",
              "            color:  #f1f1f1;\n",
              "        }#T_59b1c6e6_cf80_11eb_bd73_0242ac1c0002row0_col2,#T_59b1c6e6_cf80_11eb_bd73_0242ac1c0002row0_col3,#T_59b1c6e6_cf80_11eb_bd73_0242ac1c0002row0_col4,#T_59b1c6e6_cf80_11eb_bd73_0242ac1c0002row1_col1,#T_59b1c6e6_cf80_11eb_bd73_0242ac1c0002row16_col5,#T_59b1c6e6_cf80_11eb_bd73_0242ac1c0002row33_col6{\n",
              "            background-color:  #08306b;\n",
              "            color:  #f1f1f1;\n",
              "        }#T_59b1c6e6_cf80_11eb_bd73_0242ac1c0002row0_col5{\n",
              "            background-color:  #2979b9;\n",
              "            color:  #000000;\n",
              "        }#T_59b1c6e6_cf80_11eb_bd73_0242ac1c0002row0_col6{\n",
              "            background-color:  #0f5aa3;\n",
              "            color:  #f1f1f1;\n",
              "        }#T_59b1c6e6_cf80_11eb_bd73_0242ac1c0002row1_col2{\n",
              "            background-color:  #b9d6ea;\n",
              "            color:  #000000;\n",
              "        }#T_59b1c6e6_cf80_11eb_bd73_0242ac1c0002row1_col3{\n",
              "            background-color:  #7db8da;\n",
              "            color:  #000000;\n",
              "        }#T_59b1c6e6_cf80_11eb_bd73_0242ac1c0002row1_col4,#T_59b1c6e6_cf80_11eb_bd73_0242ac1c0002row3_col5{\n",
              "            background-color:  #79b5d9;\n",
              "            color:  #000000;\n",
              "        }#T_59b1c6e6_cf80_11eb_bd73_0242ac1c0002row1_col5{\n",
              "            background-color:  #84bcdb;\n",
              "            color:  #000000;\n",
              "        }#T_59b1c6e6_cf80_11eb_bd73_0242ac1c0002row1_col6,#T_59b1c6e6_cf80_11eb_bd73_0242ac1c0002row29_col5{\n",
              "            background-color:  #2a7ab9;\n",
              "            color:  #000000;\n",
              "        }#T_59b1c6e6_cf80_11eb_bd73_0242ac1c0002row2_col1{\n",
              "            background-color:  #3080bd;\n",
              "            color:  #000000;\n",
              "        }#T_59b1c6e6_cf80_11eb_bd73_0242ac1c0002row2_col2,#T_59b1c6e6_cf80_11eb_bd73_0242ac1c0002row15_col4,#T_59b1c6e6_cf80_11eb_bd73_0242ac1c0002row16_col3,#T_59b1c6e6_cf80_11eb_bd73_0242ac1c0002row16_col4{\n",
              "            background-color:  #e3eef9;\n",
              "            color:  #000000;\n",
              "        }#T_59b1c6e6_cf80_11eb_bd73_0242ac1c0002row2_col3,#T_59b1c6e6_cf80_11eb_bd73_0242ac1c0002row2_col4,#T_59b1c6e6_cf80_11eb_bd73_0242ac1c0002row4_col1{\n",
              "            background-color:  #7ab6d9;\n",
              "            color:  #000000;\n",
              "        }#T_59b1c6e6_cf80_11eb_bd73_0242ac1c0002row2_col5{\n",
              "            background-color:  #dae8f6;\n",
              "            color:  #000000;\n",
              "        }#T_59b1c6e6_cf80_11eb_bd73_0242ac1c0002row2_col6,#T_59b1c6e6_cf80_11eb_bd73_0242ac1c0002row16_col6{\n",
              "            background-color:  #115ca5;\n",
              "            color:  #f1f1f1;\n",
              "        }#T_59b1c6e6_cf80_11eb_bd73_0242ac1c0002row3_col1{\n",
              "            background-color:  #1c6bb0;\n",
              "            color:  #f1f1f1;\n",
              "        }#T_59b1c6e6_cf80_11eb_bd73_0242ac1c0002row3_col2{\n",
              "            background-color:  #c2d9ee;\n",
              "            color:  #000000;\n",
              "        }#T_59b1c6e6_cf80_11eb_bd73_0242ac1c0002row3_col3,#T_59b1c6e6_cf80_11eb_bd73_0242ac1c0002row29_col6{\n",
              "            background-color:  #97c6df;\n",
              "            color:  #000000;\n",
              "        }#T_59b1c6e6_cf80_11eb_bd73_0242ac1c0002row3_col4,#T_59b1c6e6_cf80_11eb_bd73_0242ac1c0002row12_col5{\n",
              "            background-color:  #94c4df;\n",
              "            color:  #000000;\n",
              "        }#T_59b1c6e6_cf80_11eb_bd73_0242ac1c0002row3_col6{\n",
              "            background-color:  #2373b6;\n",
              "            color:  #f1f1f1;\n",
              "        }#T_59b1c6e6_cf80_11eb_bd73_0242ac1c0002row4_col2{\n",
              "            background-color:  #e2edf8;\n",
              "            color:  #000000;\n",
              "        }#T_59b1c6e6_cf80_11eb_bd73_0242ac1c0002row4_col3,#T_59b1c6e6_cf80_11eb_bd73_0242ac1c0002row4_col4{\n",
              "            background-color:  #b4d3e9;\n",
              "            color:  #000000;\n",
              "        }#T_59b1c6e6_cf80_11eb_bd73_0242ac1c0002row4_col5{\n",
              "            background-color:  #c9ddf0;\n",
              "            color:  #000000;\n",
              "        }#T_59b1c6e6_cf80_11eb_bd73_0242ac1c0002row4_col6{\n",
              "            background-color:  #1460a8;\n",
              "            color:  #f1f1f1;\n",
              "        }#T_59b1c6e6_cf80_11eb_bd73_0242ac1c0002row5_col1,#T_59b1c6e6_cf80_11eb_bd73_0242ac1c0002row18_col2,#T_59b1c6e6_cf80_11eb_bd73_0242ac1c0002row20_col3{\n",
              "            background-color:  #eef5fc;\n",
              "            color:  #000000;\n",
              "        }#T_59b1c6e6_cf80_11eb_bd73_0242ac1c0002row5_col2{\n",
              "            background-color:  #d1e2f3;\n",
              "            color:  #000000;\n",
              "        }#T_59b1c6e6_cf80_11eb_bd73_0242ac1c0002row5_col3{\n",
              "            background-color:  #b8d5ea;\n",
              "            color:  #000000;\n",
              "        }#T_59b1c6e6_cf80_11eb_bd73_0242ac1c0002row5_col4{\n",
              "            background-color:  #bad6eb;\n",
              "            color:  #000000;\n",
              "        }#T_59b1c6e6_cf80_11eb_bd73_0242ac1c0002row5_col5{\n",
              "            background-color:  #74b3d8;\n",
              "            color:  #000000;\n",
              "        }#T_59b1c6e6_cf80_11eb_bd73_0242ac1c0002row5_col6{\n",
              "            background-color:  #083c7d;\n",
              "            color:  #f1f1f1;\n",
              "        }#T_59b1c6e6_cf80_11eb_bd73_0242ac1c0002row6_col1,#T_59b1c6e6_cf80_11eb_bd73_0242ac1c0002row14_col3,#T_59b1c6e6_cf80_11eb_bd73_0242ac1c0002row15_col1{\n",
              "            background-color:  #dfebf7;\n",
              "            color:  #000000;\n",
              "        }#T_59b1c6e6_cf80_11eb_bd73_0242ac1c0002row6_col2{\n",
              "            background-color:  #d9e8f5;\n",
              "            color:  #000000;\n",
              "        }#T_59b1c6e6_cf80_11eb_bd73_0242ac1c0002row6_col3,#T_59b1c6e6_cf80_11eb_bd73_0242ac1c0002row17_col1{\n",
              "            background-color:  #c6dbef;\n",
              "            color:  #000000;\n",
              "        }#T_59b1c6e6_cf80_11eb_bd73_0242ac1c0002row6_col4,#T_59b1c6e6_cf80_11eb_bd73_0242ac1c0002row7_col3{\n",
              "            background-color:  #c7dbef;\n",
              "            color:  #000000;\n",
              "        }#T_59b1c6e6_cf80_11eb_bd73_0242ac1c0002row6_col5{\n",
              "            background-color:  #89bedc;\n",
              "            color:  #000000;\n",
              "        }#T_59b1c6e6_cf80_11eb_bd73_0242ac1c0002row6_col6,#T_59b1c6e6_cf80_11eb_bd73_0242ac1c0002row8_col6{\n",
              "            background-color:  #08468b;\n",
              "            color:  #f1f1f1;\n",
              "        }#T_59b1c6e6_cf80_11eb_bd73_0242ac1c0002row7_col1,#T_59b1c6e6_cf80_11eb_bd73_0242ac1c0002row18_col1,#T_59b1c6e6_cf80_11eb_bd73_0242ac1c0002row23_col3,#T_59b1c6e6_cf80_11eb_bd73_0242ac1c0002row23_col4,#T_59b1c6e6_cf80_11eb_bd73_0242ac1c0002row28_col1,#T_59b1c6e6_cf80_11eb_bd73_0242ac1c0002row29_col1{\n",
              "            background-color:  #f4f9fe;\n",
              "            color:  #000000;\n",
              "        }#T_59b1c6e6_cf80_11eb_bd73_0242ac1c0002row7_col2{\n",
              "            background-color:  #cddff1;\n",
              "            color:  #000000;\n",
              "        }#T_59b1c6e6_cf80_11eb_bd73_0242ac1c0002row7_col4{\n",
              "            background-color:  #c8dcf0;\n",
              "            color:  #000000;\n",
              "        }#T_59b1c6e6_cf80_11eb_bd73_0242ac1c0002row7_col5{\n",
              "            background-color:  #3b8bc2;\n",
              "            color:  #000000;\n",
              "        }#T_59b1c6e6_cf80_11eb_bd73_0242ac1c0002row7_col6,#T_59b1c6e6_cf80_11eb_bd73_0242ac1c0002row14_col6{\n",
              "            background-color:  #083e81;\n",
              "            color:  #f1f1f1;\n",
              "        }#T_59b1c6e6_cf80_11eb_bd73_0242ac1c0002row8_col1,#T_59b1c6e6_cf80_11eb_bd73_0242ac1c0002row17_col3{\n",
              "            background-color:  #e9f2fa;\n",
              "            color:  #000000;\n",
              "        }#T_59b1c6e6_cf80_11eb_bd73_0242ac1c0002row8_col2{\n",
              "            background-color:  #e0ecf8;\n",
              "            color:  #000000;\n",
              "        }#T_59b1c6e6_cf80_11eb_bd73_0242ac1c0002row8_col3,#T_59b1c6e6_cf80_11eb_bd73_0242ac1c0002row28_col5{\n",
              "            background-color:  #d6e5f4;\n",
              "            color:  #000000;\n",
              "        }#T_59b1c6e6_cf80_11eb_bd73_0242ac1c0002row8_col4,#T_59b1c6e6_cf80_11eb_bd73_0242ac1c0002row34_col5{\n",
              "            background-color:  #d6e6f4;\n",
              "            color:  #000000;\n",
              "        }#T_59b1c6e6_cf80_11eb_bd73_0242ac1c0002row8_col5,#T_59b1c6e6_cf80_11eb_bd73_0242ac1c0002row20_col5{\n",
              "            background-color:  #6aaed6;\n",
              "            color:  #000000;\n",
              "        }#T_59b1c6e6_cf80_11eb_bd73_0242ac1c0002row9_col1,#T_59b1c6e6_cf80_11eb_bd73_0242ac1c0002row21_col3,#T_59b1c6e6_cf80_11eb_bd73_0242ac1c0002row21_col4{\n",
              "            background-color:  #f1f7fd;\n",
              "            color:  #000000;\n",
              "        }#T_59b1c6e6_cf80_11eb_bd73_0242ac1c0002row9_col2,#T_59b1c6e6_cf80_11eb_bd73_0242ac1c0002row12_col2,#T_59b1c6e6_cf80_11eb_bd73_0242ac1c0002row17_col4,#T_59b1c6e6_cf80_11eb_bd73_0242ac1c0002row20_col1{\n",
              "            background-color:  #e8f1fa;\n",
              "            color:  #000000;\n",
              "        }#T_59b1c6e6_cf80_11eb_bd73_0242ac1c0002row9_col3{\n",
              "            background-color:  #d7e6f5;\n",
              "            color:  #000000;\n",
              "        }#T_59b1c6e6_cf80_11eb_bd73_0242ac1c0002row9_col4,#T_59b1c6e6_cf80_11eb_bd73_0242ac1c0002row32_col5{\n",
              "            background-color:  #d8e7f5;\n",
              "            color:  #000000;\n",
              "        }#T_59b1c6e6_cf80_11eb_bd73_0242ac1c0002row9_col5{\n",
              "            background-color:  #aacfe5;\n",
              "            color:  #000000;\n",
              "        }#T_59b1c6e6_cf80_11eb_bd73_0242ac1c0002row9_col6,#T_59b1c6e6_cf80_11eb_bd73_0242ac1c0002row12_col6{\n",
              "            background-color:  #083a7a;\n",
              "            color:  #f1f1f1;\n",
              "        }#T_59b1c6e6_cf80_11eb_bd73_0242ac1c0002row10_col1{\n",
              "            background-color:  #bfd8ed;\n",
              "            color:  #000000;\n",
              "        }#T_59b1c6e6_cf80_11eb_bd73_0242ac1c0002row10_col2,#T_59b1c6e6_cf80_11eb_bd73_0242ac1c0002row15_col2,#T_59b1c6e6_cf80_11eb_bd73_0242ac1c0002row21_col2,#T_59b1c6e6_cf80_11eb_bd73_0242ac1c0002row23_col1,#T_59b1c6e6_cf80_11eb_bd73_0242ac1c0002row26_col1{\n",
              "            background-color:  #f2f7fd;\n",
              "            color:  #000000;\n",
              "        }#T_59b1c6e6_cf80_11eb_bd73_0242ac1c0002row10_col3,#T_59b1c6e6_cf80_11eb_bd73_0242ac1c0002row10_col4{\n",
              "            background-color:  #dbe9f6;\n",
              "            color:  #000000;\n",
              "        }#T_59b1c6e6_cf80_11eb_bd73_0242ac1c0002row10_col5,#T_59b1c6e6_cf80_11eb_bd73_0242ac1c0002row12_col3{\n",
              "            background-color:  #dceaf6;\n",
              "            color:  #000000;\n",
              "        }#T_59b1c6e6_cf80_11eb_bd73_0242ac1c0002row10_col6{\n",
              "            background-color:  #1a68ae;\n",
              "            color:  #f1f1f1;\n",
              "        }#T_59b1c6e6_cf80_11eb_bd73_0242ac1c0002row11_col1,#T_59b1c6e6_cf80_11eb_bd73_0242ac1c0002row20_col4,#T_59b1c6e6_cf80_11eb_bd73_0242ac1c0002row25_col1{\n",
              "            background-color:  #edf4fc;\n",
              "            color:  #000000;\n",
              "        }#T_59b1c6e6_cf80_11eb_bd73_0242ac1c0002row11_col2{\n",
              "            background-color:  #e6f0f9;\n",
              "            color:  #000000;\n",
              "        }#T_59b1c6e6_cf80_11eb_bd73_0242ac1c0002row11_col3,#T_59b1c6e6_cf80_11eb_bd73_0242ac1c0002row11_col4,#T_59b1c6e6_cf80_11eb_bd73_0242ac1c0002row16_col2{\n",
              "            background-color:  #dce9f6;\n",
              "            color:  #000000;\n",
              "        }#T_59b1c6e6_cf80_11eb_bd73_0242ac1c0002row11_col5{\n",
              "            background-color:  #7fb9da;\n",
              "            color:  #000000;\n",
              "        }#T_59b1c6e6_cf80_11eb_bd73_0242ac1c0002row11_col6,#T_59b1c6e6_cf80_11eb_bd73_0242ac1c0002row18_col6{\n",
              "            background-color:  #084387;\n",
              "            color:  #f1f1f1;\n",
              "        }#T_59b1c6e6_cf80_11eb_bd73_0242ac1c0002row12_col1,#T_59b1c6e6_cf80_11eb_bd73_0242ac1c0002row13_col1,#T_59b1c6e6_cf80_11eb_bd73_0242ac1c0002row19_col1,#T_59b1c6e6_cf80_11eb_bd73_0242ac1c0002row31_col1,#T_59b1c6e6_cf80_11eb_bd73_0242ac1c0002row32_col1{\n",
              "            background-color:  #f3f8fe;\n",
              "            color:  #000000;\n",
              "        }#T_59b1c6e6_cf80_11eb_bd73_0242ac1c0002row12_col4,#T_59b1c6e6_cf80_11eb_bd73_0242ac1c0002row13_col3{\n",
              "            background-color:  #ddeaf7;\n",
              "            color:  #000000;\n",
              "        }#T_59b1c6e6_cf80_11eb_bd73_0242ac1c0002row13_col2{\n",
              "            background-color:  #e7f1fa;\n",
              "            color:  #000000;\n",
              "        }#T_59b1c6e6_cf80_11eb_bd73_0242ac1c0002row13_col4{\n",
              "            background-color:  #deebf7;\n",
              "            color:  #000000;\n",
              "        }#T_59b1c6e6_cf80_11eb_bd73_0242ac1c0002row13_col5{\n",
              "            background-color:  #85bcdc;\n",
              "            color:  #000000;\n",
              "        }#T_59b1c6e6_cf80_11eb_bd73_0242ac1c0002row13_col6{\n",
              "            background-color:  #083b7c;\n",
              "            color:  #f1f1f1;\n",
              "        }#T_59b1c6e6_cf80_11eb_bd73_0242ac1c0002row14_col1,#T_59b1c6e6_cf80_11eb_bd73_0242ac1c0002row21_col1,#T_59b1c6e6_cf80_11eb_bd73_0242ac1c0002row22_col1,#T_59b1c6e6_cf80_11eb_bd73_0242ac1c0002row22_col2,#T_59b1c6e6_cf80_11eb_bd73_0242ac1c0002row22_col3,#T_59b1c6e6_cf80_11eb_bd73_0242ac1c0002row22_col4,#T_59b1c6e6_cf80_11eb_bd73_0242ac1c0002row27_col1{\n",
              "            background-color:  #f2f8fd;\n",
              "            color:  #000000;\n",
              "        }#T_59b1c6e6_cf80_11eb_bd73_0242ac1c0002row14_col2{\n",
              "            background-color:  #e7f0fa;\n",
              "            color:  #000000;\n",
              "        }#T_59b1c6e6_cf80_11eb_bd73_0242ac1c0002row14_col4{\n",
              "            background-color:  #dfecf7;\n",
              "            color:  #000000;\n",
              "        }#T_59b1c6e6_cf80_11eb_bd73_0242ac1c0002row14_col5,#T_59b1c6e6_cf80_11eb_bd73_0242ac1c0002row27_col6{\n",
              "            background-color:  #6dafd7;\n",
              "            color:  #000000;\n",
              "        }#T_59b1c6e6_cf80_11eb_bd73_0242ac1c0002row15_col3{\n",
              "            background-color:  #e3eef8;\n",
              "            color:  #000000;\n",
              "        }#T_59b1c6e6_cf80_11eb_bd73_0242ac1c0002row15_col5{\n",
              "            background-color:  #cfe1f2;\n",
              "            color:  #000000;\n",
              "        }#T_59b1c6e6_cf80_11eb_bd73_0242ac1c0002row15_col6,#T_59b1c6e6_cf80_11eb_bd73_0242ac1c0002row30_col6{\n",
              "            background-color:  #0b559f;\n",
              "            color:  #f1f1f1;\n",
              "        }#T_59b1c6e6_cf80_11eb_bd73_0242ac1c0002row16_col1{\n",
              "            background-color:  #eaf3fb;\n",
              "            color:  #000000;\n",
              "        }#T_59b1c6e6_cf80_11eb_bd73_0242ac1c0002row17_col2,#T_59b1c6e6_cf80_11eb_bd73_0242ac1c0002row20_col2{\n",
              "            background-color:  #f0f6fd;\n",
              "            color:  #000000;\n",
              "        }#T_59b1c6e6_cf80_11eb_bd73_0242ac1c0002row17_col5{\n",
              "            background-color:  #b2d2e8;\n",
              "            color:  #000000;\n",
              "        }#T_59b1c6e6_cf80_11eb_bd73_0242ac1c0002row17_col6{\n",
              "            background-color:  #4a98c9;\n",
              "            color:  #000000;\n",
              "        }#T_59b1c6e6_cf80_11eb_bd73_0242ac1c0002row18_col3,#T_59b1c6e6_cf80_11eb_bd73_0242ac1c0002row18_col4,#T_59b1c6e6_cf80_11eb_bd73_0242ac1c0002row19_col3,#T_59b1c6e6_cf80_11eb_bd73_0242ac1c0002row19_col4{\n",
              "            background-color:  #ecf4fb;\n",
              "            color:  #000000;\n",
              "        }#T_59b1c6e6_cf80_11eb_bd73_0242ac1c0002row18_col5{\n",
              "            background-color:  #5ba3d0;\n",
              "            color:  #000000;\n",
              "        }#T_59b1c6e6_cf80_11eb_bd73_0242ac1c0002row19_col2{\n",
              "            background-color:  #ebf3fb;\n",
              "            color:  #000000;\n",
              "        }#T_59b1c6e6_cf80_11eb_bd73_0242ac1c0002row19_col5,#T_59b1c6e6_cf80_11eb_bd73_0242ac1c0002row34_col6{\n",
              "            background-color:  #1c6ab0;\n",
              "            color:  #f1f1f1;\n",
              "        }#T_59b1c6e6_cf80_11eb_bd73_0242ac1c0002row19_col6,#T_59b1c6e6_cf80_11eb_bd73_0242ac1c0002row35_col6{\n",
              "            background-color:  #084d96;\n",
              "            color:  #f1f1f1;\n",
              "        }#T_59b1c6e6_cf80_11eb_bd73_0242ac1c0002row20_col6{\n",
              "            background-color:  #1966ad;\n",
              "            color:  #f1f1f1;\n",
              "        }#T_59b1c6e6_cf80_11eb_bd73_0242ac1c0002row21_col5{\n",
              "            background-color:  #3e8ec4;\n",
              "            color:  #000000;\n",
              "        }#T_59b1c6e6_cf80_11eb_bd73_0242ac1c0002row21_col6{\n",
              "            background-color:  #0a549e;\n",
              "            color:  #f1f1f1;\n",
              "        }#T_59b1c6e6_cf80_11eb_bd73_0242ac1c0002row22_col5{\n",
              "            background-color:  #3585bf;\n",
              "            color:  #000000;\n",
              "        }#T_59b1c6e6_cf80_11eb_bd73_0242ac1c0002row22_col6{\n",
              "            background-color:  #105ba4;\n",
              "            color:  #f1f1f1;\n",
              "        }#T_59b1c6e6_cf80_11eb_bd73_0242ac1c0002row23_col2{\n",
              "            background-color:  #f5f9fe;\n",
              "            color:  #000000;\n",
              "        }#T_59b1c6e6_cf80_11eb_bd73_0242ac1c0002row23_col5{\n",
              "            background-color:  #58a1cf;\n",
              "            color:  #000000;\n",
              "        }#T_59b1c6e6_cf80_11eb_bd73_0242ac1c0002row23_col6{\n",
              "            background-color:  #1b69af;\n",
              "            color:  #f1f1f1;\n",
              "        }#T_59b1c6e6_cf80_11eb_bd73_0242ac1c0002row24_col1,#T_59b1c6e6_cf80_11eb_bd73_0242ac1c0002row28_col2,#T_59b1c6e6_cf80_11eb_bd73_0242ac1c0002row28_col3,#T_59b1c6e6_cf80_11eb_bd73_0242ac1c0002row29_col3,#T_59b1c6e6_cf80_11eb_bd73_0242ac1c0002row29_col4,#T_59b1c6e6_cf80_11eb_bd73_0242ac1c0002row30_col1,#T_59b1c6e6_cf80_11eb_bd73_0242ac1c0002row30_col2,#T_59b1c6e6_cf80_11eb_bd73_0242ac1c0002row30_col3,#T_59b1c6e6_cf80_11eb_bd73_0242ac1c0002row30_col4,#T_59b1c6e6_cf80_11eb_bd73_0242ac1c0002row31_col2,#T_59b1c6e6_cf80_11eb_bd73_0242ac1c0002row31_col3,#T_59b1c6e6_cf80_11eb_bd73_0242ac1c0002row31_col4,#T_59b1c6e6_cf80_11eb_bd73_0242ac1c0002row32_col2,#T_59b1c6e6_cf80_11eb_bd73_0242ac1c0002row32_col3,#T_59b1c6e6_cf80_11eb_bd73_0242ac1c0002row32_col4,#T_59b1c6e6_cf80_11eb_bd73_0242ac1c0002row32_col6,#T_59b1c6e6_cf80_11eb_bd73_0242ac1c0002row33_col1,#T_59b1c6e6_cf80_11eb_bd73_0242ac1c0002row33_col2,#T_59b1c6e6_cf80_11eb_bd73_0242ac1c0002row33_col3,#T_59b1c6e6_cf80_11eb_bd73_0242ac1c0002row33_col4,#T_59b1c6e6_cf80_11eb_bd73_0242ac1c0002row33_col5,#T_59b1c6e6_cf80_11eb_bd73_0242ac1c0002row34_col1,#T_59b1c6e6_cf80_11eb_bd73_0242ac1c0002row34_col2,#T_59b1c6e6_cf80_11eb_bd73_0242ac1c0002row34_col3,#T_59b1c6e6_cf80_11eb_bd73_0242ac1c0002row34_col4,#T_59b1c6e6_cf80_11eb_bd73_0242ac1c0002row35_col1,#T_59b1c6e6_cf80_11eb_bd73_0242ac1c0002row35_col2,#T_59b1c6e6_cf80_11eb_bd73_0242ac1c0002row35_col3,#T_59b1c6e6_cf80_11eb_bd73_0242ac1c0002row35_col4{\n",
              "            background-color:  #f7fbff;\n",
              "            color:  #000000;\n",
              "        }#T_59b1c6e6_cf80_11eb_bd73_0242ac1c0002row24_col2,#T_59b1c6e6_cf80_11eb_bd73_0242ac1c0002row26_col2,#T_59b1c6e6_cf80_11eb_bd73_0242ac1c0002row27_col2,#T_59b1c6e6_cf80_11eb_bd73_0242ac1c0002row27_col3,#T_59b1c6e6_cf80_11eb_bd73_0242ac1c0002row27_col4,#T_59b1c6e6_cf80_11eb_bd73_0242ac1c0002row28_col4,#T_59b1c6e6_cf80_11eb_bd73_0242ac1c0002row29_col2{\n",
              "            background-color:  #f6faff;\n",
              "            color:  #000000;\n",
              "        }#T_59b1c6e6_cf80_11eb_bd73_0242ac1c0002row24_col3,#T_59b1c6e6_cf80_11eb_bd73_0242ac1c0002row24_col4,#T_59b1c6e6_cf80_11eb_bd73_0242ac1c0002row25_col2,#T_59b1c6e6_cf80_11eb_bd73_0242ac1c0002row25_col3,#T_59b1c6e6_cf80_11eb_bd73_0242ac1c0002row25_col4,#T_59b1c6e6_cf80_11eb_bd73_0242ac1c0002row26_col3,#T_59b1c6e6_cf80_11eb_bd73_0242ac1c0002row26_col4{\n",
              "            background-color:  #f5fafe;\n",
              "            color:  #000000;\n",
              "        }#T_59b1c6e6_cf80_11eb_bd73_0242ac1c0002row24_col5{\n",
              "            background-color:  #72b2d8;\n",
              "            color:  #000000;\n",
              "        }#T_59b1c6e6_cf80_11eb_bd73_0242ac1c0002row24_col6{\n",
              "            background-color:  #084184;\n",
              "            color:  #f1f1f1;\n",
              "        }#T_59b1c6e6_cf80_11eb_bd73_0242ac1c0002row25_col5{\n",
              "            background-color:  #4896c8;\n",
              "            color:  #000000;\n",
              "        }#T_59b1c6e6_cf80_11eb_bd73_0242ac1c0002row25_col6{\n",
              "            background-color:  #aed1e7;\n",
              "            color:  #000000;\n",
              "        }#T_59b1c6e6_cf80_11eb_bd73_0242ac1c0002row26_col5{\n",
              "            background-color:  #9cc9e1;\n",
              "            color:  #000000;\n",
              "        }#T_59b1c6e6_cf80_11eb_bd73_0242ac1c0002row26_col6{\n",
              "            background-color:  #4191c6;\n",
              "            color:  #000000;\n",
              "        }#T_59b1c6e6_cf80_11eb_bd73_0242ac1c0002row27_col5{\n",
              "            background-color:  #3a8ac2;\n",
              "            color:  #000000;\n",
              "        }#T_59b1c6e6_cf80_11eb_bd73_0242ac1c0002row28_col6{\n",
              "            background-color:  #4695c8;\n",
              "            color:  #000000;\n",
              "        }#T_59b1c6e6_cf80_11eb_bd73_0242ac1c0002row30_col5{\n",
              "            background-color:  #a0cbe2;\n",
              "            color:  #000000;\n",
              "        }#T_59b1c6e6_cf80_11eb_bd73_0242ac1c0002row31_col5{\n",
              "            background-color:  #56a0ce;\n",
              "            color:  #000000;\n",
              "        }#T_59b1c6e6_cf80_11eb_bd73_0242ac1c0002row31_col6{\n",
              "            background-color:  #d0e2f2;\n",
              "            color:  #000000;\n",
              "        }#T_59b1c6e6_cf80_11eb_bd73_0242ac1c0002row35_col5{\n",
              "            background-color:  #3c8cc3;\n",
              "            color:  #000000;\n",
              "        }</style><table id=\"T_59b1c6e6_cf80_11eb_bd73_0242ac1c0002\" ><thead>    <tr>        <th class=\"blank level0\" ></th>        <th class=\"col_heading level0 col0\" >State/UnionTerritory</th>        <th class=\"col_heading level0 col1\" >Active Cases*</th>        <th class=\"col_heading level0 col2\" >Deaths</th>        <th class=\"col_heading level0 col3\" >Cured/Discharged/Migrated*</th>        <th class=\"col_heading level0 col4\" >Confirmed</th>        <th class=\"col_heading level0 col5\" >Death Rate (per 100)</th>        <th class=\"col_heading level0 col6\" >Cure Rate (per 100)</th>    </tr></thead><tbody>\n",
              "                <tr>\n",
              "                        <th id=\"T_59b1c6e6_cf80_11eb_bd73_0242ac1c0002level0_row0\" class=\"row_heading level0 row0\" >20</th>\n",
              "                        <td id=\"T_59b1c6e6_cf80_11eb_bd73_0242ac1c0002row0_col0\" class=\"data row0 col0\" >Maharashtra</td>\n",
              "                        <td id=\"T_59b1c6e6_cf80_11eb_bd73_0242ac1c0002row0_col1\" class=\"data row0 col1\" >141440</td>\n",
              "                        <td id=\"T_59b1c6e6_cf80_11eb_bd73_0242ac1c0002row0_col2\" class=\"data row0 col2\" >114154</td>\n",
              "                        <td id=\"T_59b1c6e6_cf80_11eb_bd73_0242ac1c0002row0_col3\" class=\"data row0 col3\" >5669179</td>\n",
              "                        <td id=\"T_59b1c6e6_cf80_11eb_bd73_0242ac1c0002row0_col4\" class=\"data row0 col4\" >5924773</td>\n",
              "                        <td id=\"T_59b1c6e6_cf80_11eb_bd73_0242ac1c0002row0_col5\" class=\"data row0 col5\" >1.930000</td>\n",
              "                        <td id=\"T_59b1c6e6_cf80_11eb_bd73_0242ac1c0002row0_col6\" class=\"data row0 col6\" >95.690000</td>\n",
              "            </tr>\n",
              "            <tr>\n",
              "                        <th id=\"T_59b1c6e6_cf80_11eb_bd73_0242ac1c0002level0_row1\" class=\"row_heading level0 row1\" >15</th>\n",
              "                        <td id=\"T_59b1c6e6_cf80_11eb_bd73_0242ac1c0002row1_col0\" class=\"data row1 col0\" >Karnataka</td>\n",
              "                        <td id=\"T_59b1c6e6_cf80_11eb_bd73_0242ac1c0002row1_col1\" class=\"data row1 col1\" >162303</td>\n",
              "                        <td id=\"T_59b1c6e6_cf80_11eb_bd73_0242ac1c0002row1_col2\" class=\"data row1 col2\" >33148</td>\n",
              "                        <td id=\"T_59b1c6e6_cf80_11eb_bd73_0242ac1c0002row1_col3\" class=\"data row1 col3\" >2581559</td>\n",
              "                        <td id=\"T_59b1c6e6_cf80_11eb_bd73_0242ac1c0002row1_col4\" class=\"data row1 col4\" >2777010</td>\n",
              "                        <td id=\"T_59b1c6e6_cf80_11eb_bd73_0242ac1c0002row1_col5\" class=\"data row1 col5\" >1.190000</td>\n",
              "                        <td id=\"T_59b1c6e6_cf80_11eb_bd73_0242ac1c0002row1_col6\" class=\"data row1 col6\" >92.960000</td>\n",
              "            </tr>\n",
              "            <tr>\n",
              "                        <th id=\"T_59b1c6e6_cf80_11eb_bd73_0242ac1c0002level0_row2\" class=\"row_heading level0 row2\" >16</th>\n",
              "                        <td id=\"T_59b1c6e6_cf80_11eb_bd73_0242ac1c0002row2_col0\" class=\"data row2 col0\" >Kerala</td>\n",
              "                        <td id=\"T_59b1c6e6_cf80_11eb_bd73_0242ac1c0002row2_col1\" class=\"data row2 col1\" >112792</td>\n",
              "                        <td id=\"T_59b1c6e6_cf80_11eb_bd73_0242ac1c0002row2_col2\" class=\"data row2 col2\" >11508</td>\n",
              "                        <td id=\"T_59b1c6e6_cf80_11eb_bd73_0242ac1c0002row2_col3\" class=\"data row2 col3\" >2623904</td>\n",
              "                        <td id=\"T_59b1c6e6_cf80_11eb_bd73_0242ac1c0002row2_col4\" class=\"data row2 col4\" >2748204</td>\n",
              "                        <td id=\"T_59b1c6e6_cf80_11eb_bd73_0242ac1c0002row2_col5\" class=\"data row2 col5\" >0.420000</td>\n",
              "                        <td id=\"T_59b1c6e6_cf80_11eb_bd73_0242ac1c0002row2_col6\" class=\"data row2 col6\" >95.480000</td>\n",
              "            </tr>\n",
              "            <tr>\n",
              "                        <th id=\"T_59b1c6e6_cf80_11eb_bd73_0242ac1c0002level0_row3\" class=\"row_heading level0 row3\" >30</th>\n",
              "                        <td id=\"T_59b1c6e6_cf80_11eb_bd73_0242ac1c0002row3_col0\" class=\"data row3 col0\" >Tamil Nadu</td>\n",
              "                        <td id=\"T_59b1c6e6_cf80_11eb_bd73_0242ac1c0002row3_col1\" class=\"data row3 col1\" >125215</td>\n",
              "                        <td id=\"T_59b1c6e6_cf80_11eb_bd73_0242ac1c0002row3_col2\" class=\"data row3 col2\" >30068</td>\n",
              "                        <td id=\"T_59b1c6e6_cf80_11eb_bd73_0242ac1c0002row3_col3\" class=\"data row3 col3\" >2223015</td>\n",
              "                        <td id=\"T_59b1c6e6_cf80_11eb_bd73_0242ac1c0002row3_col4\" class=\"data row3 col4\" >2378298</td>\n",
              "                        <td id=\"T_59b1c6e6_cf80_11eb_bd73_0242ac1c0002row3_col5\" class=\"data row3 col5\" >1.260000</td>\n",
              "                        <td id=\"T_59b1c6e6_cf80_11eb_bd73_0242ac1c0002row3_col6\" class=\"data row3 col6\" >93.470000</td>\n",
              "            </tr>\n",
              "            <tr>\n",
              "                        <th id=\"T_59b1c6e6_cf80_11eb_bd73_0242ac1c0002level0_row4\" class=\"row_heading level0 row4\" >1</th>\n",
              "                        <td id=\"T_59b1c6e6_cf80_11eb_bd73_0242ac1c0002row4_col0\" class=\"data row4 col0\" >Andhra Pradesh</td>\n",
              "                        <td id=\"T_59b1c6e6_cf80_11eb_bd73_0242ac1c0002row4_col1\" class=\"data row4 col1\" >75134</td>\n",
              "                        <td id=\"T_59b1c6e6_cf80_11eb_bd73_0242ac1c0002row4_col2\" class=\"data row4 col2\" >12052</td>\n",
              "                        <td id=\"T_59b1c6e6_cf80_11eb_bd73_0242ac1c0002row4_col3\" class=\"data row4 col3\" >1732948</td>\n",
              "                        <td id=\"T_59b1c6e6_cf80_11eb_bd73_0242ac1c0002row4_col4\" class=\"data row4 col4\" >1820134</td>\n",
              "                        <td id=\"T_59b1c6e6_cf80_11eb_bd73_0242ac1c0002row4_col5\" class=\"data row4 col5\" >0.660000</td>\n",
              "                        <td id=\"T_59b1c6e6_cf80_11eb_bd73_0242ac1c0002row4_col6\" class=\"data row4 col6\" >95.210000</td>\n",
              "            </tr>\n",
              "            <tr>\n",
              "                        <th id=\"T_59b1c6e6_cf80_11eb_bd73_0242ac1c0002level0_row5\" class=\"row_heading level0 row5\" >33</th>\n",
              "                        <td id=\"T_59b1c6e6_cf80_11eb_bd73_0242ac1c0002row5_col0\" class=\"data row5 col0\" >Uttar Pradesh</td>\n",
              "                        <td id=\"T_59b1c6e6_cf80_11eb_bd73_0242ac1c0002row5_col1\" class=\"data row5 col1\" >7221</td>\n",
              "                        <td id=\"T_59b1c6e6_cf80_11eb_bd73_0242ac1c0002row5_col2\" class=\"data row5 col2\" >21914</td>\n",
              "                        <td id=\"T_59b1c6e6_cf80_11eb_bd73_0242ac1c0002row5_col3\" class=\"data row5 col3\" >1674072</td>\n",
              "                        <td id=\"T_59b1c6e6_cf80_11eb_bd73_0242ac1c0002row5_col4\" class=\"data row5 col4\" >1703207</td>\n",
              "                        <td id=\"T_59b1c6e6_cf80_11eb_bd73_0242ac1c0002row5_col5\" class=\"data row5 col5\" >1.290000</td>\n",
              "                        <td id=\"T_59b1c6e6_cf80_11eb_bd73_0242ac1c0002row5_col6\" class=\"data row5 col6\" >98.290000</td>\n",
              "            </tr>\n",
              "            <tr>\n",
              "                        <th id=\"T_59b1c6e6_cf80_11eb_bd73_0242ac1c0002level0_row6\" class=\"row_heading level0 row6\" >35</th>\n",
              "                        <td id=\"T_59b1c6e6_cf80_11eb_bd73_0242ac1c0002row6_col0\" class=\"data row6 col0\" >West Bengal</td>\n",
              "                        <td id=\"T_59b1c6e6_cf80_11eb_bd73_0242ac1c0002row6_col1\" class=\"data row6 col1\" >20046</td>\n",
              "                        <td id=\"T_59b1c6e6_cf80_11eb_bd73_0242ac1c0002row6_col2\" class=\"data row6 col2\" >17049</td>\n",
              "                        <td id=\"T_59b1c6e6_cf80_11eb_bd73_0242ac1c0002row6_col3\" class=\"data row6 col3\" >1430949</td>\n",
              "                        <td id=\"T_59b1c6e6_cf80_11eb_bd73_0242ac1c0002row6_col4\" class=\"data row6 col4\" >1468044</td>\n",
              "                        <td id=\"T_59b1c6e6_cf80_11eb_bd73_0242ac1c0002row6_col5\" class=\"data row6 col5\" >1.160000</td>\n",
              "                        <td id=\"T_59b1c6e6_cf80_11eb_bd73_0242ac1c0002row6_col6\" class=\"data row6 col6\" >97.470000</td>\n",
              "            </tr>\n",
              "            <tr>\n",
              "                        <th id=\"T_59b1c6e6_cf80_11eb_bd73_0242ac1c0002level0_row7\" class=\"row_heading level0 row7\" >8</th>\n",
              "                        <td id=\"T_59b1c6e6_cf80_11eb_bd73_0242ac1c0002row7_col0\" class=\"data row7 col0\" >Delhi</td>\n",
              "                        <td id=\"T_59b1c6e6_cf80_11eb_bd73_0242ac1c0002row7_col1\" class=\"data row7 col1\" >3078</td>\n",
              "                        <td id=\"T_59b1c6e6_cf80_11eb_bd73_0242ac1c0002row7_col2\" class=\"data row7 col2\" >24851</td>\n",
              "                        <td id=\"T_59b1c6e6_cf80_11eb_bd73_0242ac1c0002row7_col3\" class=\"data row7 col3\" >1403569</td>\n",
              "                        <td id=\"T_59b1c6e6_cf80_11eb_bd73_0242ac1c0002row7_col4\" class=\"data row7 col4\" >1431498</td>\n",
              "                        <td id=\"T_59b1c6e6_cf80_11eb_bd73_0242ac1c0002row7_col5\" class=\"data row7 col5\" >1.740000</td>\n",
              "                        <td id=\"T_59b1c6e6_cf80_11eb_bd73_0242ac1c0002row7_col6\" class=\"data row7 col6\" >98.050000</td>\n",
              "            </tr>\n",
              "            <tr>\n",
              "                        <th id=\"T_59b1c6e6_cf80_11eb_bd73_0242ac1c0002level0_row8\" class=\"row_heading level0 row8\" >6</th>\n",
              "                        <td id=\"T_59b1c6e6_cf80_11eb_bd73_0242ac1c0002row8_col0\" class=\"data row8 col0\" >Chhattisgarh</td>\n",
              "                        <td id=\"T_59b1c6e6_cf80_11eb_bd73_0242ac1c0002row8_col1\" class=\"data row8 col1\" >11717</td>\n",
              "                        <td id=\"T_59b1c6e6_cf80_11eb_bd73_0242ac1c0002row8_col2\" class=\"data row8 col2\" >13342</td>\n",
              "                        <td id=\"T_59b1c6e6_cf80_11eb_bd73_0242ac1c0002row8_col3\" class=\"data row8 col3\" >963113</td>\n",
              "                        <td id=\"T_59b1c6e6_cf80_11eb_bd73_0242ac1c0002row8_col4\" class=\"data row8 col4\" >988172</td>\n",
              "                        <td id=\"T_59b1c6e6_cf80_11eb_bd73_0242ac1c0002row8_col5\" class=\"data row8 col5\" >1.350000</td>\n",
              "                        <td id=\"T_59b1c6e6_cf80_11eb_bd73_0242ac1c0002row8_col6\" class=\"data row8 col6\" >97.460000</td>\n",
              "            </tr>\n",
              "            <tr>\n",
              "                        <th id=\"T_59b1c6e6_cf80_11eb_bd73_0242ac1c0002level0_row9\" class=\"row_heading level0 row9\" >28</th>\n",
              "                        <td id=\"T_59b1c6e6_cf80_11eb_bd73_0242ac1c0002row9_col0\" class=\"data row9 col0\" >Rajasthan</td>\n",
              "                        <td id=\"T_59b1c6e6_cf80_11eb_bd73_0242ac1c0002row9_col1\" class=\"data row9 col1\" >5619</td>\n",
              "                        <td id=\"T_59b1c6e6_cf80_11eb_bd73_0242ac1c0002row9_col2\" class=\"data row9 col2\" >8856</td>\n",
              "                        <td id=\"T_59b1c6e6_cf80_11eb_bd73_0242ac1c0002row9_col3\" class=\"data row9 col3\" >935658</td>\n",
              "                        <td id=\"T_59b1c6e6_cf80_11eb_bd73_0242ac1c0002row9_col4\" class=\"data row9 col4\" >950133</td>\n",
              "                        <td id=\"T_59b1c6e6_cf80_11eb_bd73_0242ac1c0002row9_col5\" class=\"data row9 col5\" >0.930000</td>\n",
              "                        <td id=\"T_59b1c6e6_cf80_11eb_bd73_0242ac1c0002row9_col6\" class=\"data row9 col6\" >98.480000</td>\n",
              "            </tr>\n",
              "            <tr>\n",
              "                        <th id=\"T_59b1c6e6_cf80_11eb_bd73_0242ac1c0002level0_row10\" class=\"row_heading level0 row10\" >25</th>\n",
              "                        <td id=\"T_59b1c6e6_cf80_11eb_bd73_0242ac1c0002row10_col0\" class=\"data row10 col0\" >Odisha</td>\n",
              "                        <td id=\"T_59b1c6e6_cf80_11eb_bd73_0242ac1c0002row10_col1\" class=\"data row10 col1\" >44358</td>\n",
              "                        <td id=\"T_59b1c6e6_cf80_11eb_bd73_0242ac1c0002row10_col2\" class=\"data row10 col2\" >3388</td>\n",
              "                        <td id=\"T_59b1c6e6_cf80_11eb_bd73_0242ac1c0002row10_col3\" class=\"data row10 col3\" >811780</td>\n",
              "                        <td id=\"T_59b1c6e6_cf80_11eb_bd73_0242ac1c0002row10_col4\" class=\"data row10 col4\" >859526</td>\n",
              "                        <td id=\"T_59b1c6e6_cf80_11eb_bd73_0242ac1c0002row10_col5\" class=\"data row10 col5\" >0.390000</td>\n",
              "                        <td id=\"T_59b1c6e6_cf80_11eb_bd73_0242ac1c0002row10_col6\" class=\"data row10 col6\" >94.450000</td>\n",
              "            </tr>\n",
              "            <tr>\n",
              "                        <th id=\"T_59b1c6e6_cf80_11eb_bd73_0242ac1c0002level0_row11\" class=\"row_heading level0 row11\" >10</th>\n",
              "                        <td id=\"T_59b1c6e6_cf80_11eb_bd73_0242ac1c0002row11_col0\" class=\"data row11 col0\" >Gujarat</td>\n",
              "                        <td id=\"T_59b1c6e6_cf80_11eb_bd73_0242ac1c0002row11_col1\" class=\"data row11 col1\" >8884</td>\n",
              "                        <td id=\"T_59b1c6e6_cf80_11eb_bd73_0242ac1c0002row11_col2\" class=\"data row11 col2\" >10007</td>\n",
              "                        <td id=\"T_59b1c6e6_cf80_11eb_bd73_0242ac1c0002row11_col3\" class=\"data row11 col3\" >802187</td>\n",
              "                        <td id=\"T_59b1c6e6_cf80_11eb_bd73_0242ac1c0002row11_col4\" class=\"data row11 col4\" >821078</td>\n",
              "                        <td id=\"T_59b1c6e6_cf80_11eb_bd73_0242ac1c0002row11_col5\" class=\"data row11 col5\" >1.220000</td>\n",
              "                        <td id=\"T_59b1c6e6_cf80_11eb_bd73_0242ac1c0002row11_col6\" class=\"data row11 col6\" >97.700000</td>\n",
              "            </tr>\n",
              "            <tr>\n",
              "                        <th id=\"T_59b1c6e6_cf80_11eb_bd73_0242ac1c0002level0_row12\" class=\"row_heading level0 row12\" >19</th>\n",
              "                        <td id=\"T_59b1c6e6_cf80_11eb_bd73_0242ac1c0002row12_col0\" class=\"data row12 col0\" >Madhya Pradesh</td>\n",
              "                        <td id=\"T_59b1c6e6_cf80_11eb_bd73_0242ac1c0002row12_col1\" class=\"data row12 col1\" >3610</td>\n",
              "                        <td id=\"T_59b1c6e6_cf80_11eb_bd73_0242ac1c0002row12_col2\" class=\"data row12 col2\" >8615</td>\n",
              "                        <td id=\"T_59b1c6e6_cf80_11eb_bd73_0242ac1c0002row12_col3\" class=\"data row12 col3\" >776424</td>\n",
              "                        <td id=\"T_59b1c6e6_cf80_11eb_bd73_0242ac1c0002row12_col4\" class=\"data row12 col4\" >788649</td>\n",
              "                        <td id=\"T_59b1c6e6_cf80_11eb_bd73_0242ac1c0002row12_col5\" class=\"data row12 col5\" >1.090000</td>\n",
              "                        <td id=\"T_59b1c6e6_cf80_11eb_bd73_0242ac1c0002row12_col6\" class=\"data row12 col6\" >98.450000</td>\n",
              "            </tr>\n",
              "            <tr>\n",
              "                        <th id=\"T_59b1c6e6_cf80_11eb_bd73_0242ac1c0002level0_row13\" class=\"row_heading level0 row13\" >11</th>\n",
              "                        <td id=\"T_59b1c6e6_cf80_11eb_bd73_0242ac1c0002row13_col0\" class=\"data row13 col0\" >Haryana</td>\n",
              "                        <td id=\"T_59b1c6e6_cf80_11eb_bd73_0242ac1c0002row13_col1\" class=\"data row13 col1\" >3703</td>\n",
              "                        <td id=\"T_59b1c6e6_cf80_11eb_bd73_0242ac1c0002row13_col2\" class=\"data row13 col2\" >9070</td>\n",
              "                        <td id=\"T_59b1c6e6_cf80_11eb_bd73_0242ac1c0002row13_col3\" class=\"data row13 col3\" >753584</td>\n",
              "                        <td id=\"T_59b1c6e6_cf80_11eb_bd73_0242ac1c0002row13_col4\" class=\"data row13 col4\" >766357</td>\n",
              "                        <td id=\"T_59b1c6e6_cf80_11eb_bd73_0242ac1c0002row13_col5\" class=\"data row13 col5\" >1.180000</td>\n",
              "                        <td id=\"T_59b1c6e6_cf80_11eb_bd73_0242ac1c0002row13_col6\" class=\"data row13 col6\" >98.330000</td>\n",
              "            </tr>\n",
              "            <tr>\n",
              "                        <th id=\"T_59b1c6e6_cf80_11eb_bd73_0242ac1c0002level0_row14\" class=\"row_heading level0 row14\" >4</th>\n",
              "                        <td id=\"T_59b1c6e6_cf80_11eb_bd73_0242ac1c0002row14_col0\" class=\"data row14 col0\" >Bihar</td>\n",
              "                        <td id=\"T_59b1c6e6_cf80_11eb_bd73_0242ac1c0002row14_col1\" class=\"data row14 col1\" >4360</td>\n",
              "                        <td id=\"T_59b1c6e6_cf80_11eb_bd73_0242ac1c0002row14_col2\" class=\"data row14 col2\" >9514</td>\n",
              "                        <td id=\"T_59b1c6e6_cf80_11eb_bd73_0242ac1c0002row14_col3\" class=\"data row14 col3\" >704075</td>\n",
              "                        <td id=\"T_59b1c6e6_cf80_11eb_bd73_0242ac1c0002row14_col4\" class=\"data row14 col4\" >717949</td>\n",
              "                        <td id=\"T_59b1c6e6_cf80_11eb_bd73_0242ac1c0002row14_col5\" class=\"data row14 col5\" >1.330000</td>\n",
              "                        <td id=\"T_59b1c6e6_cf80_11eb_bd73_0242ac1c0002row14_col6\" class=\"data row14 col6\" >98.070000</td>\n",
              "            </tr>\n",
              "            <tr>\n",
              "                        <th id=\"T_59b1c6e6_cf80_11eb_bd73_0242ac1c0002level0_row15\" class=\"row_heading level0 row15\" >31</th>\n",
              "                        <td id=\"T_59b1c6e6_cf80_11eb_bd73_0242ac1c0002row15_col0\" class=\"data row15 col0\" >Telangana</td>\n",
              "                        <td id=\"T_59b1c6e6_cf80_11eb_bd73_0242ac1c0002row15_col1\" class=\"data row15 col1\" >19933</td>\n",
              "                        <td id=\"T_59b1c6e6_cf80_11eb_bd73_0242ac1c0002row15_col2\" class=\"data row15 col2\" >3510</td>\n",
              "                        <td id=\"T_59b1c6e6_cf80_11eb_bd73_0242ac1c0002row15_col3\" class=\"data row15 col3\" >582993</td>\n",
              "                        <td id=\"T_59b1c6e6_cf80_11eb_bd73_0242ac1c0002row15_col4\" class=\"data row15 col4\" >606436</td>\n",
              "                        <td id=\"T_59b1c6e6_cf80_11eb_bd73_0242ac1c0002row15_col5\" class=\"data row15 col5\" >0.580000</td>\n",
              "                        <td id=\"T_59b1c6e6_cf80_11eb_bd73_0242ac1c0002row15_col6\" class=\"data row15 col6\" >96.130000</td>\n",
              "            </tr>\n",
              "            <tr>\n",
              "                        <th id=\"T_59b1c6e6_cf80_11eb_bd73_0242ac1c0002level0_row16\" class=\"row_heading level0 row16\" >27</th>\n",
              "                        <td id=\"T_59b1c6e6_cf80_11eb_bd73_0242ac1c0002row16_col0\" class=\"data row16 col0\" >Punjab</td>\n",
              "                        <td id=\"T_59b1c6e6_cf80_11eb_bd73_0242ac1c0002row16_col1\" class=\"data row16 col1\" >10802</td>\n",
              "                        <td id=\"T_59b1c6e6_cf80_11eb_bd73_0242ac1c0002row16_col2\" class=\"data row16 col2\" >15650</td>\n",
              "                        <td id=\"T_59b1c6e6_cf80_11eb_bd73_0242ac1c0002row16_col3\" class=\"data row16 col3\" >562701</td>\n",
              "                        <td id=\"T_59b1c6e6_cf80_11eb_bd73_0242ac1c0002row16_col4\" class=\"data row16 col4\" >589153</td>\n",
              "                        <td id=\"T_59b1c6e6_cf80_11eb_bd73_0242ac1c0002row16_col5\" class=\"data row16 col5\" >2.660000</td>\n",
              "                        <td id=\"T_59b1c6e6_cf80_11eb_bd73_0242ac1c0002row16_col6\" class=\"data row16 col6\" >95.510000</td>\n",
              "            </tr>\n",
              "            <tr>\n",
              "                        <th id=\"T_59b1c6e6_cf80_11eb_bd73_0242ac1c0002level0_row17\" class=\"row_heading level0 row17\" >3</th>\n",
              "                        <td id=\"T_59b1c6e6_cf80_11eb_bd73_0242ac1c0002row17_col0\" class=\"data row17 col0\" >Assam</td>\n",
              "                        <td id=\"T_59b1c6e6_cf80_11eb_bd73_0242ac1c0002row17_col1\" class=\"data row17 col1\" >41184</td>\n",
              "                        <td id=\"T_59b1c6e6_cf80_11eb_bd73_0242ac1c0002row17_col2\" class=\"data row17 col2\" >4028</td>\n",
              "                        <td id=\"T_59b1c6e6_cf80_11eb_bd73_0242ac1c0002row17_col3\" class=\"data row17 col3\" >421378</td>\n",
              "                        <td id=\"T_59b1c6e6_cf80_11eb_bd73_0242ac1c0002row17_col4\" class=\"data row17 col4\" >466590</td>\n",
              "                        <td id=\"T_59b1c6e6_cf80_11eb_bd73_0242ac1c0002row17_col5\" class=\"data row17 col5\" >0.860000</td>\n",
              "                        <td id=\"T_59b1c6e6_cf80_11eb_bd73_0242ac1c0002row17_col6\" class=\"data row17 col6\" >90.310000</td>\n",
              "            </tr>\n",
              "            <tr>\n",
              "                        <th id=\"T_59b1c6e6_cf80_11eb_bd73_0242ac1c0002level0_row18\" class=\"row_heading level0 row18\" >14</th>\n",
              "                        <td id=\"T_59b1c6e6_cf80_11eb_bd73_0242ac1c0002row18_col0\" class=\"data row18 col0\" >Jharkhand</td>\n",
              "                        <td id=\"T_59b1c6e6_cf80_11eb_bd73_0242ac1c0002row18_col1\" class=\"data row18 col1\" >2646</td>\n",
              "                        <td id=\"T_59b1c6e6_cf80_11eb_bd73_0242ac1c0002row18_col2\" class=\"data row18 col2\" >5089</td>\n",
              "                        <td id=\"T_59b1c6e6_cf80_11eb_bd73_0242ac1c0002row18_col3\" class=\"data row18 col3\" >336058</td>\n",
              "                        <td id=\"T_59b1c6e6_cf80_11eb_bd73_0242ac1c0002row18_col4\" class=\"data row18 col4\" >343793</td>\n",
              "                        <td id=\"T_59b1c6e6_cf80_11eb_bd73_0242ac1c0002row18_col5\" class=\"data row18 col5\" >1.480000</td>\n",
              "                        <td id=\"T_59b1c6e6_cf80_11eb_bd73_0242ac1c0002row18_col6\" class=\"data row18 col6\" >97.750000</td>\n",
              "            </tr>\n",
              "            <tr>\n",
              "                        <th id=\"T_59b1c6e6_cf80_11eb_bd73_0242ac1c0002level0_row19\" class=\"row_heading level0 row19\" >34</th>\n",
              "                        <td id=\"T_59b1c6e6_cf80_11eb_bd73_0242ac1c0002row19_col0\" class=\"data row19 col0\" >Uttarakhand</td>\n",
              "                        <td id=\"T_59b1c6e6_cf80_11eb_bd73_0242ac1c0002row19_col1\" class=\"data row19 col1\" >3642</td>\n",
              "                        <td id=\"T_59b1c6e6_cf80_11eb_bd73_0242ac1c0002row19_col2\" class=\"data row19 col2\" >6985</td>\n",
              "                        <td id=\"T_59b1c6e6_cf80_11eb_bd73_0242ac1c0002row19_col3\" class=\"data row19 col3\" >326822</td>\n",
              "                        <td id=\"T_59b1c6e6_cf80_11eb_bd73_0242ac1c0002row19_col4\" class=\"data row19 col4\" >337449</td>\n",
              "                        <td id=\"T_59b1c6e6_cf80_11eb_bd73_0242ac1c0002row19_col5\" class=\"data row19 col5\" >2.070000</td>\n",
              "                        <td id=\"T_59b1c6e6_cf80_11eb_bd73_0242ac1c0002row19_col6\" class=\"data row19 col6\" >96.850000</td>\n",
              "            </tr>\n",
              "            <tr>\n",
              "                        <th id=\"T_59b1c6e6_cf80_11eb_bd73_0242ac1c0002level0_row20\" class=\"row_heading level0 row20\" >13</th>\n",
              "                        <td id=\"T_59b1c6e6_cf80_11eb_bd73_0242ac1c0002row20_col0\" class=\"data row20 col0\" >Jammu and Kashmir</td>\n",
              "                        <td id=\"T_59b1c6e6_cf80_11eb_bd73_0242ac1c0002row20_col1\" class=\"data row20 col1\" >12407</td>\n",
              "                        <td id=\"T_59b1c6e6_cf80_11eb_bd73_0242ac1c0002row20_col2\" class=\"data row20 col2\" >4205</td>\n",
              "                        <td id=\"T_59b1c6e6_cf80_11eb_bd73_0242ac1c0002row20_col3\" class=\"data row20 col3\" >292114</td>\n",
              "                        <td id=\"T_59b1c6e6_cf80_11eb_bd73_0242ac1c0002row20_col4\" class=\"data row20 col4\" >308726</td>\n",
              "                        <td id=\"T_59b1c6e6_cf80_11eb_bd73_0242ac1c0002row20_col5\" class=\"data row20 col5\" >1.360000</td>\n",
              "                        <td id=\"T_59b1c6e6_cf80_11eb_bd73_0242ac1c0002row20_col6\" class=\"data row20 col6\" >94.620000</td>\n",
              "            </tr>\n",
              "            <tr>\n",
              "                        <th id=\"T_59b1c6e6_cf80_11eb_bd73_0242ac1c0002level0_row21\" class=\"row_heading level0 row21\" >12</th>\n",
              "                        <td id=\"T_59b1c6e6_cf80_11eb_bd73_0242ac1c0002row21_col0\" class=\"data row21 col0\" >Himachal Pradesh</td>\n",
              "                        <td id=\"T_59b1c6e6_cf80_11eb_bd73_0242ac1c0002row21_col1\" class=\"data row21 col1\" >4050</td>\n",
              "                        <td id=\"T_59b1c6e6_cf80_11eb_bd73_0242ac1c0002row21_col2\" class=\"data row21 col2\" >3410</td>\n",
              "                        <td id=\"T_59b1c6e6_cf80_11eb_bd73_0242ac1c0002row21_col3\" class=\"data row21 col3\" >191737</td>\n",
              "                        <td id=\"T_59b1c6e6_cf80_11eb_bd73_0242ac1c0002row21_col4\" class=\"data row21 col4\" >199197</td>\n",
              "                        <td id=\"T_59b1c6e6_cf80_11eb_bd73_0242ac1c0002row21_col5\" class=\"data row21 col5\" >1.710000</td>\n",
              "                        <td id=\"T_59b1c6e6_cf80_11eb_bd73_0242ac1c0002row21_col6\" class=\"data row21 col6\" >96.250000</td>\n",
              "            </tr>\n",
              "            <tr>\n",
              "                        <th id=\"T_59b1c6e6_cf80_11eb_bd73_0242ac1c0002level0_row22\" class=\"row_heading level0 row22\" >9</th>\n",
              "                        <td id=\"T_59b1c6e6_cf80_11eb_bd73_0242ac1c0002row22_col0\" class=\"data row22 col0\" >Goa</td>\n",
              "                        <td id=\"T_59b1c6e6_cf80_11eb_bd73_0242ac1c0002row22_col1\" class=\"data row22 col1\" >4175</td>\n",
              "                        <td id=\"T_59b1c6e6_cf80_11eb_bd73_0242ac1c0002row22_col2\" class=\"data row22 col2\" >2947</td>\n",
              "                        <td id=\"T_59b1c6e6_cf80_11eb_bd73_0242ac1c0002row22_col3\" class=\"data row22 col3\" >155926</td>\n",
              "                        <td id=\"T_59b1c6e6_cf80_11eb_bd73_0242ac1c0002row22_col4\" class=\"data row22 col4\" >163048</td>\n",
              "                        <td id=\"T_59b1c6e6_cf80_11eb_bd73_0242ac1c0002row22_col5\" class=\"data row22 col5\" >1.810000</td>\n",
              "                        <td id=\"T_59b1c6e6_cf80_11eb_bd73_0242ac1c0002row22_col6\" class=\"data row22 col6\" >95.630000</td>\n",
              "            </tr>\n",
              "            <tr>\n",
              "                        <th id=\"T_59b1c6e6_cf80_11eb_bd73_0242ac1c0002level0_row23\" class=\"row_heading level0 row23\" >26</th>\n",
              "                        <td id=\"T_59b1c6e6_cf80_11eb_bd73_0242ac1c0002row23_col0\" class=\"data row23 col0\" >Puducherry</td>\n",
              "                        <td id=\"T_59b1c6e6_cf80_11eb_bd73_0242ac1c0002row23_col1\" class=\"data row23 col1\" >4668</td>\n",
              "                        <td id=\"T_59b1c6e6_cf80_11eb_bd73_0242ac1c0002row23_col2\" class=\"data row23 col2\" >1696</td>\n",
              "                        <td id=\"T_59b1c6e6_cf80_11eb_bd73_0242ac1c0002row23_col3\" class=\"data row23 col3\" >106828</td>\n",
              "                        <td id=\"T_59b1c6e6_cf80_11eb_bd73_0242ac1c0002row23_col4\" class=\"data row23 col4\" >113192</td>\n",
              "                        <td id=\"T_59b1c6e6_cf80_11eb_bd73_0242ac1c0002row23_col5\" class=\"data row23 col5\" >1.500000</td>\n",
              "                        <td id=\"T_59b1c6e6_cf80_11eb_bd73_0242ac1c0002row23_col6\" class=\"data row23 col6\" >94.380000</td>\n",
              "            </tr>\n",
              "            <tr>\n",
              "                        <th id=\"T_59b1c6e6_cf80_11eb_bd73_0242ac1c0002level0_row24\" class=\"row_heading level0 row24\" >5</th>\n",
              "                        <td id=\"T_59b1c6e6_cf80_11eb_bd73_0242ac1c0002row24_col0\" class=\"data row24 col0\" >Chandigarh</td>\n",
              "                        <td id=\"T_59b1c6e6_cf80_11eb_bd73_0242ac1c0002row24_col1\" class=\"data row24 col1\" >486</td>\n",
              "                        <td id=\"T_59b1c6e6_cf80_11eb_bd73_0242ac1c0002row24_col2\" class=\"data row24 col2\" >797</td>\n",
              "                        <td id=\"T_59b1c6e6_cf80_11eb_bd73_0242ac1c0002row24_col3\" class=\"data row24 col3\" >59917</td>\n",
              "                        <td id=\"T_59b1c6e6_cf80_11eb_bd73_0242ac1c0002row24_col4\" class=\"data row24 col4\" >61200</td>\n",
              "                        <td id=\"T_59b1c6e6_cf80_11eb_bd73_0242ac1c0002row24_col5\" class=\"data row24 col5\" >1.300000</td>\n",
              "                        <td id=\"T_59b1c6e6_cf80_11eb_bd73_0242ac1c0002row24_col6\" class=\"data row24 col6\" >97.900000</td>\n",
              "            </tr>\n",
              "            <tr>\n",
              "                        <th id=\"T_59b1c6e6_cf80_11eb_bd73_0242ac1c0002level0_row25\" class=\"row_heading level0 row25\" >21</th>\n",
              "                        <td id=\"T_59b1c6e6_cf80_11eb_bd73_0242ac1c0002row25_col0\" class=\"data row25 col0\" >Manipur</td>\n",
              "                        <td id=\"T_59b1c6e6_cf80_11eb_bd73_0242ac1c0002row25_col1\" class=\"data row25 col1\" >8744</td>\n",
              "                        <td id=\"T_59b1c6e6_cf80_11eb_bd73_0242ac1c0002row25_col2\" class=\"data row25 col2\" >998</td>\n",
              "                        <td id=\"T_59b1c6e6_cf80_11eb_bd73_0242ac1c0002row25_col3\" class=\"data row25 col3\" >51354</td>\n",
              "                        <td id=\"T_59b1c6e6_cf80_11eb_bd73_0242ac1c0002row25_col4\" class=\"data row25 col4\" >61096</td>\n",
              "                        <td id=\"T_59b1c6e6_cf80_11eb_bd73_0242ac1c0002row25_col5\" class=\"data row25 col5\" >1.630000</td>\n",
              "                        <td id=\"T_59b1c6e6_cf80_11eb_bd73_0242ac1c0002row25_col6\" class=\"data row25 col6\" >84.050000</td>\n",
              "            </tr>\n",
              "            <tr>\n",
              "                        <th id=\"T_59b1c6e6_cf80_11eb_bd73_0242ac1c0002level0_row26\" class=\"row_heading level0 row26\" >32</th>\n",
              "                        <td id=\"T_59b1c6e6_cf80_11eb_bd73_0242ac1c0002row26_col0\" class=\"data row26 col0\" >Tripura</td>\n",
              "                        <td id=\"T_59b1c6e6_cf80_11eb_bd73_0242ac1c0002row26_col1\" class=\"data row26 col1\" >4886</td>\n",
              "                        <td id=\"T_59b1c6e6_cf80_11eb_bd73_0242ac1c0002row26_col2\" class=\"data row26 col2\" >629</td>\n",
              "                        <td id=\"T_59b1c6e6_cf80_11eb_bd73_0242ac1c0002row26_col3\" class=\"data row26 col3\" >54870</td>\n",
              "                        <td id=\"T_59b1c6e6_cf80_11eb_bd73_0242ac1c0002row26_col4\" class=\"data row26 col4\" >60385</td>\n",
              "                        <td id=\"T_59b1c6e6_cf80_11eb_bd73_0242ac1c0002row26_col5\" class=\"data row26 col5\" >1.040000</td>\n",
              "                        <td id=\"T_59b1c6e6_cf80_11eb_bd73_0242ac1c0002row26_col6\" class=\"data row26 col6\" >90.870000</td>\n",
              "            </tr>\n",
              "            <tr>\n",
              "                        <th id=\"T_59b1c6e6_cf80_11eb_bd73_0242ac1c0002level0_row27\" class=\"row_heading level0 row27\" >22</th>\n",
              "                        <td id=\"T_59b1c6e6_cf80_11eb_bd73_0242ac1c0002row27_col0\" class=\"data row27 col0\" >Meghalaya</td>\n",
              "                        <td id=\"T_59b1c6e6_cf80_11eb_bd73_0242ac1c0002row27_col1\" class=\"data row27 col1\" >4430</td>\n",
              "                        <td id=\"T_59b1c6e6_cf80_11eb_bd73_0242ac1c0002row27_col2\" class=\"data row27 col2\" >750</td>\n",
              "                        <td id=\"T_59b1c6e6_cf80_11eb_bd73_0242ac1c0002row27_col3\" class=\"data row27 col3\" >37579</td>\n",
              "                        <td id=\"T_59b1c6e6_cf80_11eb_bd73_0242ac1c0002row27_col4\" class=\"data row27 col4\" >42759</td>\n",
              "                        <td id=\"T_59b1c6e6_cf80_11eb_bd73_0242ac1c0002row27_col5\" class=\"data row27 col5\" >1.750000</td>\n",
              "                        <td id=\"T_59b1c6e6_cf80_11eb_bd73_0242ac1c0002row27_col6\" class=\"data row27 col6\" >87.890000</td>\n",
              "            </tr>\n",
              "            <tr>\n",
              "                        <th id=\"T_59b1c6e6_cf80_11eb_bd73_0242ac1c0002level0_row28\" class=\"row_heading level0 row28\" >2</th>\n",
              "                        <td id=\"T_59b1c6e6_cf80_11eb_bd73_0242ac1c0002row28_col0\" class=\"data row28 col0\" >Arunachal Pradesh</td>\n",
              "                        <td id=\"T_59b1c6e6_cf80_11eb_bd73_0242ac1c0002row28_col1\" class=\"data row28 col1\" >2849</td>\n",
              "                        <td id=\"T_59b1c6e6_cf80_11eb_bd73_0242ac1c0002row28_col2\" class=\"data row28 col2\" >155</td>\n",
              "                        <td id=\"T_59b1c6e6_cf80_11eb_bd73_0242ac1c0002row28_col3\" class=\"data row28 col3\" >28934</td>\n",
              "                        <td id=\"T_59b1c6e6_cf80_11eb_bd73_0242ac1c0002row28_col4\" class=\"data row28 col4\" >31938</td>\n",
              "                        <td id=\"T_59b1c6e6_cf80_11eb_bd73_0242ac1c0002row28_col5\" class=\"data row28 col5\" >0.490000</td>\n",
              "                        <td id=\"T_59b1c6e6_cf80_11eb_bd73_0242ac1c0002row28_col6\" class=\"data row28 col6\" >90.590000</td>\n",
              "            </tr>\n",
              "            <tr>\n",
              "                        <th id=\"T_59b1c6e6_cf80_11eb_bd73_0242ac1c0002level0_row29\" class=\"row_heading level0 row29\" >24</th>\n",
              "                        <td id=\"T_59b1c6e6_cf80_11eb_bd73_0242ac1c0002row29_col0\" class=\"data row29 col0\" >Nagaland</td>\n",
              "                        <td id=\"T_59b1c6e6_cf80_11eb_bd73_0242ac1c0002row29_col1\" class=\"data row29 col1\" >2972</td>\n",
              "                        <td id=\"T_59b1c6e6_cf80_11eb_bd73_0242ac1c0002row29_col2\" class=\"data row29 col2\" >459</td>\n",
              "                        <td id=\"T_59b1c6e6_cf80_11eb_bd73_0242ac1c0002row29_col3\" class=\"data row29 col3\" >20423</td>\n",
              "                        <td id=\"T_59b1c6e6_cf80_11eb_bd73_0242ac1c0002row29_col4\" class=\"data row29 col4\" >23854</td>\n",
              "                        <td id=\"T_59b1c6e6_cf80_11eb_bd73_0242ac1c0002row29_col5\" class=\"data row29 col5\" >1.920000</td>\n",
              "                        <td id=\"T_59b1c6e6_cf80_11eb_bd73_0242ac1c0002row29_col6\" class=\"data row29 col6\" >85.620000</td>\n",
              "            </tr>\n",
              "            <tr>\n",
              "                        <th id=\"T_59b1c6e6_cf80_11eb_bd73_0242ac1c0002level0_row30\" class=\"row_heading level0 row30\" >17</th>\n",
              "                        <td id=\"T_59b1c6e6_cf80_11eb_bd73_0242ac1c0002row30_col0\" class=\"data row30 col0\" >Ladakh</td>\n",
              "                        <td id=\"T_59b1c6e6_cf80_11eb_bd73_0242ac1c0002row30_col1\" class=\"data row30 col1\" >552</td>\n",
              "                        <td id=\"T_59b1c6e6_cf80_11eb_bd73_0242ac1c0002row30_col2\" class=\"data row30 col2\" >199</td>\n",
              "                        <td id=\"T_59b1c6e6_cf80_11eb_bd73_0242ac1c0002row30_col3\" class=\"data row30 col3\" >18898</td>\n",
              "                        <td id=\"T_59b1c6e6_cf80_11eb_bd73_0242ac1c0002row30_col4\" class=\"data row30 col4\" >19649</td>\n",
              "                        <td id=\"T_59b1c6e6_cf80_11eb_bd73_0242ac1c0002row30_col5\" class=\"data row30 col5\" >1.010000</td>\n",
              "                        <td id=\"T_59b1c6e6_cf80_11eb_bd73_0242ac1c0002row30_col6\" class=\"data row30 col6\" >96.180000</td>\n",
              "            </tr>\n",
              "            <tr>\n",
              "                        <th id=\"T_59b1c6e6_cf80_11eb_bd73_0242ac1c0002level0_row31\" class=\"row_heading level0 row31\" >29</th>\n",
              "                        <td id=\"T_59b1c6e6_cf80_11eb_bd73_0242ac1c0002row31_col0\" class=\"data row31 col0\" >Sikkim</td>\n",
              "                        <td id=\"T_59b1c6e6_cf80_11eb_bd73_0242ac1c0002row31_col1\" class=\"data row31 col1\" >3239</td>\n",
              "                        <td id=\"T_59b1c6e6_cf80_11eb_bd73_0242ac1c0002row31_col2\" class=\"data row31 col2\" >284</td>\n",
              "                        <td id=\"T_59b1c6e6_cf80_11eb_bd73_0242ac1c0002row31_col3\" class=\"data row31 col3\" >15136</td>\n",
              "                        <td id=\"T_59b1c6e6_cf80_11eb_bd73_0242ac1c0002row31_col4\" class=\"data row31 col4\" >18659</td>\n",
              "                        <td id=\"T_59b1c6e6_cf80_11eb_bd73_0242ac1c0002row31_col5\" class=\"data row31 col5\" >1.520000</td>\n",
              "                        <td id=\"T_59b1c6e6_cf80_11eb_bd73_0242ac1c0002row31_col6\" class=\"data row31 col6\" >81.120000</td>\n",
              "            </tr>\n",
              "            <tr>\n",
              "                        <th id=\"T_59b1c6e6_cf80_11eb_bd73_0242ac1c0002level0_row32\" class=\"row_heading level0 row32\" >23</th>\n",
              "                        <td id=\"T_59b1c6e6_cf80_11eb_bd73_0242ac1c0002row32_col0\" class=\"data row32 col0\" >Mizoram</td>\n",
              "                        <td id=\"T_59b1c6e6_cf80_11eb_bd73_0242ac1c0002row32_col1\" class=\"data row32 col1\" >3637</td>\n",
              "                        <td id=\"T_59b1c6e6_cf80_11eb_bd73_0242ac1c0002row32_col2\" class=\"data row32 col2\" >71</td>\n",
              "                        <td id=\"T_59b1c6e6_cf80_11eb_bd73_0242ac1c0002row32_col3\" class=\"data row32 col3\" >12191</td>\n",
              "                        <td id=\"T_59b1c6e6_cf80_11eb_bd73_0242ac1c0002row32_col4\" class=\"data row32 col4\" >15899</td>\n",
              "                        <td id=\"T_59b1c6e6_cf80_11eb_bd73_0242ac1c0002row32_col5\" class=\"data row32 col5\" >0.450000</td>\n",
              "                        <td id=\"T_59b1c6e6_cf80_11eb_bd73_0242ac1c0002row32_col6\" class=\"data row32 col6\" >76.680000</td>\n",
              "            </tr>\n",
              "            <tr>\n",
              "                        <th id=\"T_59b1c6e6_cf80_11eb_bd73_0242ac1c0002level0_row33\" class=\"row_heading level0 row33\" >7</th>\n",
              "                        <td id=\"T_59b1c6e6_cf80_11eb_bd73_0242ac1c0002row33_col0\" class=\"data row33 col0\" >Dadra and Nagar Haveli and Daman and Diu</td>\n",
              "                        <td id=\"T_59b1c6e6_cf80_11eb_bd73_0242ac1c0002row33_col1\" class=\"data row33 col1\" >61</td>\n",
              "                        <td id=\"T_59b1c6e6_cf80_11eb_bd73_0242ac1c0002row33_col2\" class=\"data row33 col2\" >4</td>\n",
              "                        <td id=\"T_59b1c6e6_cf80_11eb_bd73_0242ac1c0002row33_col3\" class=\"data row33 col3\" >10408</td>\n",
              "                        <td id=\"T_59b1c6e6_cf80_11eb_bd73_0242ac1c0002row33_col4\" class=\"data row33 col4\" >10473</td>\n",
              "                        <td id=\"T_59b1c6e6_cf80_11eb_bd73_0242ac1c0002row33_col5\" class=\"data row33 col5\" >0.040000</td>\n",
              "                        <td id=\"T_59b1c6e6_cf80_11eb_bd73_0242ac1c0002row33_col6\" class=\"data row33 col6\" >99.380000</td>\n",
              "            </tr>\n",
              "            <tr>\n",
              "                        <th id=\"T_59b1c6e6_cf80_11eb_bd73_0242ac1c0002level0_row34\" class=\"row_heading level0 row34\" >18</th>\n",
              "                        <td id=\"T_59b1c6e6_cf80_11eb_bd73_0242ac1c0002row34_col0\" class=\"data row34 col0\" >Lakshadweep</td>\n",
              "                        <td id=\"T_59b1c6e6_cf80_11eb_bd73_0242ac1c0002row34_col1\" class=\"data row34 col1\" >484</td>\n",
              "                        <td id=\"T_59b1c6e6_cf80_11eb_bd73_0242ac1c0002row34_col2\" class=\"data row34 col2\" >45</td>\n",
              "                        <td id=\"T_59b1c6e6_cf80_11eb_bd73_0242ac1c0002row34_col3\" class=\"data row34 col3\" >8768</td>\n",
              "                        <td id=\"T_59b1c6e6_cf80_11eb_bd73_0242ac1c0002row34_col4\" class=\"data row34 col4\" >9297</td>\n",
              "                        <td id=\"T_59b1c6e6_cf80_11eb_bd73_0242ac1c0002row34_col5\" class=\"data row34 col5\" >0.480000</td>\n",
              "                        <td id=\"T_59b1c6e6_cf80_11eb_bd73_0242ac1c0002row34_col6\" class=\"data row34 col6\" >94.310000</td>\n",
              "            </tr>\n",
              "            <tr>\n",
              "                        <th id=\"T_59b1c6e6_cf80_11eb_bd73_0242ac1c0002level0_row35\" class=\"row_heading level0 row35\" >0</th>\n",
              "                        <td id=\"T_59b1c6e6_cf80_11eb_bd73_0242ac1c0002row35_col0\" class=\"data row35 col0\" >Andaman and Nicobar Islands</td>\n",
              "                        <td id=\"T_59b1c6e6_cf80_11eb_bd73_0242ac1c0002row35_col1\" class=\"data row35 col1\" >105</td>\n",
              "                        <td id=\"T_59b1c6e6_cf80_11eb_bd73_0242ac1c0002row35_col2\" class=\"data row35 col2\" >126</td>\n",
              "                        <td id=\"T_59b1c6e6_cf80_11eb_bd73_0242ac1c0002row35_col3\" class=\"data row35 col3\" >7049</td>\n",
              "                        <td id=\"T_59b1c6e6_cf80_11eb_bd73_0242ac1c0002row35_col4\" class=\"data row35 col4\" >7280</td>\n",
              "                        <td id=\"T_59b1c6e6_cf80_11eb_bd73_0242ac1c0002row35_col5\" class=\"data row35 col5\" >1.730000</td>\n",
              "                        <td id=\"T_59b1c6e6_cf80_11eb_bd73_0242ac1c0002row35_col6\" class=\"data row35 col6\" >96.830000</td>\n",
              "            </tr>\n",
              "    </tbody></table>"
            ],
            "text/plain": [
              "<pandas.io.formats.style.Styler at 0x7f54fcc4d910>"
            ]
          },
          "metadata": {
            "tags": []
          },
          "execution_count": 142
        }
      ]
    },
    {
      "cell_type": "markdown",
      "metadata": {
        "id": "tj2QxhzDR85C"
      },
      "source": [
        "\n",
        "\n",
        "##Number of ICMR Testing Centres in each state"
      ]
    },
    {
      "cell_type": "code",
      "metadata": {
        "id": "aRXHk1K2SEA6",
        "colab": {
          "base_uri": "https://localhost:8080/"
        },
        "outputId": "b25fdbc0-4af5-40d1-8d27-6d526c4c40f2"
      },
      "source": [
        "ICMR_labs = pd.read_csv('/content/ICMRTestingDetails.csv')  #upload\n",
        "\n",
        "\n",
        "\n",
        "values = list(ICMR_labs['State'].value_counts())\n",
        "names = list(ICMR_labs['State'].value_counts().index)\n",
        "\n",
        "plt.figure(figsize=(15,10))\n",
        "sns.set_color_codes(\"pastel\")\n",
        "plt.title('ICMR Testing Centers in each State', fontsize = 20)\n",
        "sns.barplot(x= values, y= names,color = '#ff2345');"
      ],
      "execution_count": null,
      "outputs": [
        {
          "output_type": "display_data",
          "data": {
            "image/png": "[encoded data removed]",
            "text/plain": [
              "<Figure size 1080x720 with 1 Axes>"
            ]
          },
          "metadata": {
            "tags": [],
            "needs_background": "light"
          }
        }
      ]
    },
    {
      "cell_type": "markdown",
      "metadata": {
        "id": "vpLandqKXUvM"
      },
      "source": [
        "## Testing Status"
      ]
    },
    {
      "cell_type": "code",
      "metadata": {
        "id": "8prbhbvJXbiH",
        "colab": {
          "base_uri": "https://localhost:8080/"
        },
        "outputId": "c69fdc13-39f8-48b0-fcaf-43e541a950ef"
      },
      "source": [
        "import json\n",
        "# get response from the web page\n",
        "response = requests.get('https://api.covid19india.org/state_test_data.json')\n",
        "\n",
        "# get contents from the response\n",
        "content = response.content\n",
        "\n",
        "# parse the json file\n",
        "parsed = json.loads(content)\n",
        "\n",
        "# keys\n",
        "parsed.keys()"
      ],
      "execution_count": null,
      "outputs": [
        {
          "output_type": "execute_result",
          "data": {
            "text/plain": [
              "dict_keys(['states_tested_data'])"
            ]
          },
          "metadata": {
            "tags": []
          },
          "execution_count": 144
        }
      ]
    },
    {
      "cell_type": "code",
      "metadata": {
        "id": "4mMGyN7_Xj9d",
        "colab": {
          "base_uri": "https://localhost:8080/"
        },
        "outputId": "8a7e128a-9830-4354-e701-ccd55b41e341"
      },
      "source": [
        "# save data in a dataframe\n",
        "tested = pd.DataFrame(parsed['states_tested_data'])\n",
        "\n",
        "# first few rows\n",
        "tested.tail()"
      ],
      "execution_count": null,
      "outputs": [
        {
          "output_type": "execute_result",
          "data": {
            "text/html": [
              "<div>\n",
              "<style scoped>\n",
              "    .dataframe tbody tr th:only-of-type {\n",
              "        vertical-align: middle;\n",
              "    }\n",
              "\n",
              "    .dataframe tbody tr th {\n",
              "        vertical-align: top;\n",
              "    }\n",
              "\n",
              "    .dataframe thead th {\n",
              "        text-align: right;\n",
              "    }\n",
              "</style>\n",
              "<table border=\"1\" class=\"dataframe\">\n",
              "  <thead>\n",
              "    <tr style=\"text-align: right;\">\n",
              "      <th></th>\n",
              "      <th>bedsoccupiednormalisolation</th>\n",
              "      <th>casesoutsidehomeisolationi.einstitutionalisolationhospitaletc.</th>\n",
              "      <th>covidenquirycalls</th>\n",
              "      <th>cumulativenumberofasymptomaticcases</th>\n",
              "      <th>cumulativenumberofsymptomaticcases</th>\n",
              "      <th>cumulativepeopleinhomeisolation</th>\n",
              "      <th>cumulativepeopleinobservation</th>\n",
              "      <th>cumulativepeopleinquarantine</th>\n",
              "      <th>cumulativepeopleinsurveillance</th>\n",
              "      <th>femaleconfirmedcases</th>\n",
              "      <th>femaledeceasedcases</th>\n",
              "      <th>maleconfirmedcases</th>\n",
              "      <th>maledeceasedcases</th>\n",
              "      <th>negative</th>\n",
              "      <th>numberofcontainmentzones</th>\n",
              "      <th>othertests</th>\n",
              "      <th>peopleonicubeds</th>\n",
              "      <th>peopleono2beds</th>\n",
              "      <th>peopleonventilator</th>\n",
              "      <th>peoplereleasedfromhomeisolation</th>\n",
              "      <th>peoplereleasedfromobservation</th>\n",
              "      <th>peoplereleasedfromsurveillance</th>\n",
              "      <th>positive</th>\n",
              "      <th>ratrapidantigentest</th>\n",
              "      <th>rt-pcrtestincludestruenatcbnaatcrispr</th>\n",
              "      <th>source1</th>\n",
              "      <th>source2</th>\n",
              "      <th>source3</th>\n",
              "      <th>source4</th>\n",
              "      <th>state</th>\n",
              "      <th>tagnatureofcases</th>\n",
              "      <th>tagpeopleinisolation</th>\n",
              "      <th>tagpeopleinquarantine</th>\n",
              "      <th>tagpeopleinquarantine_2</th>\n",
              "      <th>tagpeopleinsurveillance</th>\n",
              "      <th>tagtotaltested</th>\n",
              "      <th>totaln95masks</th>\n",
              "      <th>totalnumbedsnormalisolation</th>\n",
              "      <th>totalnumicubeds</th>\n",
              "      <th>totalnumofo2beds</th>\n",
              "      <th>totalnumventilators</th>\n",
              "      <th>totalpeoplecurrentlyinisolation</th>\n",
              "      <th>totalpeoplecurrentlyinquarantine</th>\n",
              "      <th>totalpeoplecurrentlyinsurveillance</th>\n",
              "      <th>totalpeoplequarantined</th>\n",
              "      <th>totalpeoplereleasedfromquarantine</th>\n",
              "      <th>totalppe</th>\n",
              "      <th>totaltested</th>\n",
              "      <th>transgenderconfirmedcases</th>\n",
              "      <th>transgenderdeceasedcases</th>\n",
              "      <th>unconfirmed</th>\n",
              "      <th>unknownconfirmedcases</th>\n",
              "      <th>unknowndeceasedcases</th>\n",
              "      <th>unknownnatureofcases</th>\n",
              "      <th>updatedon</th>\n",
              "    </tr>\n",
              "  </thead>\n",
              "  <tbody>\n",
              "    <tr>\n",
              "      <th>14432</th>\n",
              "      <td>16.82%</td>\n",
              "      <td></td>\n",
              "      <td></td>\n",
              "      <td></td>\n",
              "      <td></td>\n",
              "      <td></td>\n",
              "      <td></td>\n",
              "      <td></td>\n",
              "      <td></td>\n",
              "      <td></td>\n",
              "      <td></td>\n",
              "      <td></td>\n",
              "      <td></td>\n",
              "      <td></td>\n",
              "      <td></td>\n",
              "      <td></td>\n",
              "      <td></td>\n",
              "      <td></td>\n",
              "      <td></td>\n",
              "      <td></td>\n",
              "      <td></td>\n",
              "      <td></td>\n",
              "      <td></td>\n",
              "      <td>5556042</td>\n",
              "      <td>7739814</td>\n",
              "      <td>https://www.wbhealth.gov.in/uploaded_files/cor...</td>\n",
              "      <td>https://www.wbhealth.gov.in/pages/corona/bulletin</td>\n",
              "      <td></td>\n",
              "      <td></td>\n",
              "      <td>West Bengal</td>\n",
              "      <td></td>\n",
              "      <td></td>\n",
              "      <td></td>\n",
              "      <td></td>\n",
              "      <td></td>\n",
              "      <td>Tested</td>\n",
              "      <td>5655040</td>\n",
              "      <td>24721</td>\n",
              "      <td>3566</td>\n",
              "      <td></td>\n",
              "      <td>1298</td>\n",
              "      <td></td>\n",
              "      <td></td>\n",
              "      <td></td>\n",
              "      <td></td>\n",
              "      <td></td>\n",
              "      <td>3088262</td>\n",
              "      <td>13295856</td>\n",
              "      <td></td>\n",
              "      <td></td>\n",
              "      <td></td>\n",
              "      <td></td>\n",
              "      <td></td>\n",
              "      <td></td>\n",
              "      <td>13/06/2021</td>\n",
              "    </tr>\n",
              "    <tr>\n",
              "      <th>14433</th>\n",
              "      <td>16.03%</td>\n",
              "      <td></td>\n",
              "      <td></td>\n",
              "      <td></td>\n",
              "      <td></td>\n",
              "      <td></td>\n",
              "      <td></td>\n",
              "      <td></td>\n",
              "      <td></td>\n",
              "      <td></td>\n",
              "      <td></td>\n",
              "      <td></td>\n",
              "      <td></td>\n",
              "      <td></td>\n",
              "      <td></td>\n",
              "      <td></td>\n",
              "      <td></td>\n",
              "      <td></td>\n",
              "      <td></td>\n",
              "      <td></td>\n",
              "      <td></td>\n",
              "      <td></td>\n",
              "      <td></td>\n",
              "      <td>5589066</td>\n",
              "      <td>7761018</td>\n",
              "      <td>https://www.wbhealth.gov.in/uploaded_files/cor...</td>\n",
              "      <td>https://www.wbhealth.gov.in/pages/corona/bulletin</td>\n",
              "      <td></td>\n",
              "      <td></td>\n",
              "      <td>West Bengal</td>\n",
              "      <td></td>\n",
              "      <td></td>\n",
              "      <td></td>\n",
              "      <td></td>\n",
              "      <td></td>\n",
              "      <td>Tested</td>\n",
              "      <td>5655040</td>\n",
              "      <td>24721</td>\n",
              "      <td>3566</td>\n",
              "      <td></td>\n",
              "      <td>1298</td>\n",
              "      <td></td>\n",
              "      <td></td>\n",
              "      <td></td>\n",
              "      <td></td>\n",
              "      <td></td>\n",
              "      <td>3088262</td>\n",
              "      <td>13350084</td>\n",
              "      <td></td>\n",
              "      <td></td>\n",
              "      <td></td>\n",
              "      <td></td>\n",
              "      <td></td>\n",
              "      <td></td>\n",
              "      <td>14/06/2021</td>\n",
              "    </tr>\n",
              "    <tr>\n",
              "      <th>14434</th>\n",
              "      <td>15.12%</td>\n",
              "      <td></td>\n",
              "      <td></td>\n",
              "      <td></td>\n",
              "      <td></td>\n",
              "      <td></td>\n",
              "      <td></td>\n",
              "      <td></td>\n",
              "      <td></td>\n",
              "      <td></td>\n",
              "      <td></td>\n",
              "      <td></td>\n",
              "      <td></td>\n",
              "      <td></td>\n",
              "      <td></td>\n",
              "      <td></td>\n",
              "      <td></td>\n",
              "      <td></td>\n",
              "      <td></td>\n",
              "      <td></td>\n",
              "      <td></td>\n",
              "      <td></td>\n",
              "      <td></td>\n",
              "      <td>5625422</td>\n",
              "      <td>7780307</td>\n",
              "      <td>wbhealth.gov.in/uploaded_files/corona/WB_DHFW_...</td>\n",
              "      <td>https://www.wbhealth.gov.in/pages/corona/bulletin</td>\n",
              "      <td></td>\n",
              "      <td></td>\n",
              "      <td>West Bengal</td>\n",
              "      <td></td>\n",
              "      <td></td>\n",
              "      <td></td>\n",
              "      <td></td>\n",
              "      <td></td>\n",
              "      <td>Tested</td>\n",
              "      <td>5655040</td>\n",
              "      <td>24721</td>\n",
              "      <td>3566</td>\n",
              "      <td></td>\n",
              "      <td>1298</td>\n",
              "      <td></td>\n",
              "      <td></td>\n",
              "      <td></td>\n",
              "      <td></td>\n",
              "      <td></td>\n",
              "      <td>3088262</td>\n",
              "      <td>13405729</td>\n",
              "      <td></td>\n",
              "      <td></td>\n",
              "      <td></td>\n",
              "      <td></td>\n",
              "      <td></td>\n",
              "      <td></td>\n",
              "      <td>15/06/2021</td>\n",
              "    </tr>\n",
              "    <tr>\n",
              "      <th>14435</th>\n",
              "      <td>14.36%</td>\n",
              "      <td></td>\n",
              "      <td></td>\n",
              "      <td></td>\n",
              "      <td></td>\n",
              "      <td></td>\n",
              "      <td></td>\n",
              "      <td></td>\n",
              "      <td></td>\n",
              "      <td></td>\n",
              "      <td></td>\n",
              "      <td></td>\n",
              "      <td></td>\n",
              "      <td></td>\n",
              "      <td></td>\n",
              "      <td></td>\n",
              "      <td></td>\n",
              "      <td></td>\n",
              "      <td></td>\n",
              "      <td></td>\n",
              "      <td></td>\n",
              "      <td></td>\n",
              "      <td></td>\n",
              "      <td>5660586</td>\n",
              "      <td>7807124</td>\n",
              "      <td>https://www.wbhealth.gov.in/uploaded_files/cor...</td>\n",
              "      <td>https://www.wbhealth.gov.in/pages/corona/bulletin</td>\n",
              "      <td></td>\n",
              "      <td></td>\n",
              "      <td>West Bengal</td>\n",
              "      <td></td>\n",
              "      <td></td>\n",
              "      <td></td>\n",
              "      <td></td>\n",
              "      <td></td>\n",
              "      <td>Tested</td>\n",
              "      <td>5655040</td>\n",
              "      <td>24721</td>\n",
              "      <td>3566</td>\n",
              "      <td></td>\n",
              "      <td>1298</td>\n",
              "      <td></td>\n",
              "      <td></td>\n",
              "      <td></td>\n",
              "      <td></td>\n",
              "      <td></td>\n",
              "      <td>3088262</td>\n",
              "      <td>13467710</td>\n",
              "      <td></td>\n",
              "      <td></td>\n",
              "      <td></td>\n",
              "      <td></td>\n",
              "      <td></td>\n",
              "      <td></td>\n",
              "      <td>16/06/2021</td>\n",
              "    </tr>\n",
              "    <tr>\n",
              "      <th>14436</th>\n",
              "      <td></td>\n",
              "      <td></td>\n",
              "      <td></td>\n",
              "      <td></td>\n",
              "      <td></td>\n",
              "      <td></td>\n",
              "      <td></td>\n",
              "      <td></td>\n",
              "      <td></td>\n",
              "      <td></td>\n",
              "      <td></td>\n",
              "      <td></td>\n",
              "      <td></td>\n",
              "      <td></td>\n",
              "      <td></td>\n",
              "      <td></td>\n",
              "      <td></td>\n",
              "      <td></td>\n",
              "      <td></td>\n",
              "      <td></td>\n",
              "      <td></td>\n",
              "      <td></td>\n",
              "      <td></td>\n",
              "      <td></td>\n",
              "      <td></td>\n",
              "      <td></td>\n",
              "      <td></td>\n",
              "      <td></td>\n",
              "      <td></td>\n",
              "      <td>West Bengal</td>\n",
              "      <td></td>\n",
              "      <td></td>\n",
              "      <td></td>\n",
              "      <td></td>\n",
              "      <td></td>\n",
              "      <td></td>\n",
              "      <td></td>\n",
              "      <td></td>\n",
              "      <td></td>\n",
              "      <td></td>\n",
              "      <td></td>\n",
              "      <td></td>\n",
              "      <td></td>\n",
              "      <td></td>\n",
              "      <td></td>\n",
              "      <td></td>\n",
              "      <td></td>\n",
              "      <td></td>\n",
              "      <td></td>\n",
              "      <td></td>\n",
              "      <td></td>\n",
              "      <td></td>\n",
              "      <td></td>\n",
              "      <td></td>\n",
              "      <td>18/06/2021</td>\n",
              "    </tr>\n",
              "  </tbody>\n",
              "</table>\n",
              "</div>"
            ],
            "text/plain": [
              "      bedsoccupiednormalisolation  ...   updatedon\n",
              "14432                      16.82%  ...  13/06/2021\n",
              "14433                      16.03%  ...  14/06/2021\n",
              "14434                      15.12%  ...  15/06/2021\n",
              "14435                      14.36%  ...  16/06/2021\n",
              "14436                              ...  18/06/2021\n",
              "\n",
              "[5 rows x 55 columns]"
            ]
          },
          "metadata": {
            "tags": []
          },
          "execution_count": 145
        }
      ]
    },
    {
      "cell_type": "code",
      "metadata": {
        "id": "3t4vhPYvXsG8"
      },
      "source": [
        "# fix datatype\n",
        "tested['updatedon'] = pd.to_datetime(tested['updatedon'])"
      ],
      "execution_count": null,
      "outputs": []
    },
    {
      "cell_type": "code",
      "metadata": {
        "id": "BJCvX95BX0yO"
      },
      "source": [
        "# save file as a scv file\n",
        "tested.to_csv('updated_tests_latest_state_level.csv', index=False)\n"
      ],
      "execution_count": null,
      "outputs": []
    },
    {
      "cell_type": "code",
      "metadata": {
        "id": "gJfSQ9x9X40s"
      },
      "source": [
        "state_test_cases = tested.groupby(['updatedon','state'])['totaltested',\t'totalpeoplecurrentlyinquarantine'].max().reset_index()"
      ],
      "execution_count": null,
      "outputs": []
    },
    {
      "cell_type": "code",
      "metadata": {
        "id": "NwPDiTjoX7Wx",
        "colab": {
          "base_uri": "https://localhost:8080/"
        },
        "outputId": "d16885e1-3a1e-4af2-cd10-fbc7a85dd90a"
      },
      "source": [
        "state_test_cases.tail(5)"
      ],
      "execution_count": null,
      "outputs": [
        {
          "output_type": "execute_result",
          "data": {
            "text/html": [
              "<div>\n",
              "<style scoped>\n",
              "    .dataframe tbody tr th:only-of-type {\n",
              "        vertical-align: middle;\n",
              "    }\n",
              "\n",
              "    .dataframe tbody tr th {\n",
              "        vertical-align: top;\n",
              "    }\n",
              "\n",
              "    .dataframe thead th {\n",
              "        text-align: right;\n",
              "    }\n",
              "</style>\n",
              "<table border=\"1\" class=\"dataframe\">\n",
              "  <thead>\n",
              "    <tr style=\"text-align: right;\">\n",
              "      <th></th>\n",
              "      <th>updatedon</th>\n",
              "      <th>state</th>\n",
              "      <th>totaltested</th>\n",
              "      <th>totalpeoplecurrentlyinquarantine</th>\n",
              "    </tr>\n",
              "  </thead>\n",
              "  <tbody>\n",
              "    <tr>\n",
              "      <th>14431</th>\n",
              "      <td>2021-12-06</td>\n",
              "      <td>Telangana</td>\n",
              "      <td>16632289</td>\n",
              "      <td></td>\n",
              "    </tr>\n",
              "    <tr>\n",
              "      <th>14432</th>\n",
              "      <td>2021-12-06</td>\n",
              "      <td>Tripura</td>\n",
              "      <td>1126067</td>\n",
              "      <td></td>\n",
              "    </tr>\n",
              "    <tr>\n",
              "      <th>14433</th>\n",
              "      <td>2021-12-06</td>\n",
              "      <td>Uttar Pradesh</td>\n",
              "      <td>53055495</td>\n",
              "      <td></td>\n",
              "    </tr>\n",
              "    <tr>\n",
              "      <th>14434</th>\n",
              "      <td>2021-12-06</td>\n",
              "      <td>Uttarakhand</td>\n",
              "      <td>5102496</td>\n",
              "      <td></td>\n",
              "    </tr>\n",
              "    <tr>\n",
              "      <th>14435</th>\n",
              "      <td>2021-12-06</td>\n",
              "      <td>West Bengal</td>\n",
              "      <td>13235743</td>\n",
              "      <td></td>\n",
              "    </tr>\n",
              "  </tbody>\n",
              "</table>\n",
              "</div>"
            ],
            "text/plain": [
              "       updatedon          state totaltested totalpeoplecurrentlyinquarantine\n",
              "14431 2021-12-06      Telangana    16632289                                 \n",
              "14432 2021-12-06        Tripura     1126067                                 \n",
              "14433 2021-12-06  Uttar Pradesh    53055495                                 \n",
              "14434 2021-12-06    Uttarakhand     5102496                                 \n",
              "14435 2021-12-06    West Bengal    13235743                                 "
            ]
          },
          "metadata": {
            "tags": []
          },
          "execution_count": 149
        }
      ]
    },
    {
      "cell_type": "code",
      "metadata": {
        "id": "7_0FU-BEYCjB"
      },
      "source": [
        "state_test_cases = tested.groupby('state')['totaltested','totalpeoplecurrentlyinquarantine'].max()\n",
        "#state_test_cases['testpositivityrate'] = state_test_cases['testpositivityrate'].str.replace('%', '')\n",
        "state_test_cases = state_test_cases.apply(pd.to_numeric)"
      ],
      "execution_count": null,
      "outputs": []
    },
    {
      "cell_type": "code",
      "metadata": {
        "id": "XfX0bsEKYGRT",
        "colab": {
          "base_uri": "https://localhost:8080/"
        },
        "outputId": "37990f51-9e8d-4493-fe4b-22c28893029a"
      },
      "source": [
        "state_test_cases.nunique()"
      ],
      "execution_count": null,
      "outputs": [
        {
          "output_type": "execute_result",
          "data": {
            "text/plain": [
              "totaltested                         36\n",
              "totalpeoplecurrentlyinquarantine    24\n",
              "dtype: int64"
            ]
          },
          "metadata": {
            "tags": []
          },
          "execution_count": 151
        }
      ]
    },
    {
      "cell_type": "code",
      "metadata": {
        "id": "LY_k5tDOYO_b",
        "colab": {
          "base_uri": "https://localhost:8080/"
        },
        "outputId": "6a66cc36-9412-462c-fff2-f68f5cff9f48"
      },
      "source": [
        "state_test_cases.sort_values('totaltested', ascending= False).style.background_gradient(cmap='Blues',subset=[\"totaltested\"])\\\n",
        "                                .background_gradient(cmap='Blues',subset=[\"totalpeoplecurrentlyinquarantine\"])\n",
        "                       "
      ],
      "execution_count": null,
      "outputs": [
        {
          "output_type": "execute_result",
          "data": {
            "text/html": [
              "<style  type=\"text/css\" >\n",
              "#T_5dd67b68_cf80_11eb_bd73_0242ac1c0002row0_col0,#T_5dd67b68_cf80_11eb_bd73_0242ac1c0002row1_col0,#T_5dd67b68_cf80_11eb_bd73_0242ac1c0002row2_col0,#T_5dd67b68_cf80_11eb_bd73_0242ac1c0002row3_col0,#T_5dd67b68_cf80_11eb_bd73_0242ac1c0002row4_col0,#T_5dd67b68_cf80_11eb_bd73_0242ac1c0002row5_col0,#T_5dd67b68_cf80_11eb_bd73_0242ac1c0002row6_col0,#T_5dd67b68_cf80_11eb_bd73_0242ac1c0002row7_col0,#T_5dd67b68_cf80_11eb_bd73_0242ac1c0002row9_col1,#T_5dd67b68_cf80_11eb_bd73_0242ac1c0002row22_col1{\n",
              "            background-color:  #08306b;\n",
              "            color:  #f1f1f1;\n",
              "        }#T_5dd67b68_cf80_11eb_bd73_0242ac1c0002row0_col1,#T_5dd67b68_cf80_11eb_bd73_0242ac1c0002row2_col1,#T_5dd67b68_cf80_11eb_bd73_0242ac1c0002row4_col1,#T_5dd67b68_cf80_11eb_bd73_0242ac1c0002row6_col1,#T_5dd67b68_cf80_11eb_bd73_0242ac1c0002row15_col1,#T_5dd67b68_cf80_11eb_bd73_0242ac1c0002row17_col1,#T_5dd67b68_cf80_11eb_bd73_0242ac1c0002row19_col1,#T_5dd67b68_cf80_11eb_bd73_0242ac1c0002row20_col1,#T_5dd67b68_cf80_11eb_bd73_0242ac1c0002row23_col1,#T_5dd67b68_cf80_11eb_bd73_0242ac1c0002row25_col1,#T_5dd67b68_cf80_11eb_bd73_0242ac1c0002row29_col1,#T_5dd67b68_cf80_11eb_bd73_0242ac1c0002row32_col1{\n",
              "            background-color:  #000000;\n",
              "            color:  #f1f1f1;\n",
              "        }#T_5dd67b68_cf80_11eb_bd73_0242ac1c0002row1_col1{\n",
              "            background-color:  #f4f9fe;\n",
              "            color:  #000000;\n",
              "        }#T_5dd67b68_cf80_11eb_bd73_0242ac1c0002row3_col1,#T_5dd67b68_cf80_11eb_bd73_0242ac1c0002row7_col1,#T_5dd67b68_cf80_11eb_bd73_0242ac1c0002row13_col1,#T_5dd67b68_cf80_11eb_bd73_0242ac1c0002row20_col0,#T_5dd67b68_cf80_11eb_bd73_0242ac1c0002row21_col0,#T_5dd67b68_cf80_11eb_bd73_0242ac1c0002row22_col0,#T_5dd67b68_cf80_11eb_bd73_0242ac1c0002row23_col0,#T_5dd67b68_cf80_11eb_bd73_0242ac1c0002row24_col0,#T_5dd67b68_cf80_11eb_bd73_0242ac1c0002row25_col0,#T_5dd67b68_cf80_11eb_bd73_0242ac1c0002row26_col0,#T_5dd67b68_cf80_11eb_bd73_0242ac1c0002row27_col0,#T_5dd67b68_cf80_11eb_bd73_0242ac1c0002row27_col1,#T_5dd67b68_cf80_11eb_bd73_0242ac1c0002row28_col0,#T_5dd67b68_cf80_11eb_bd73_0242ac1c0002row28_col1,#T_5dd67b68_cf80_11eb_bd73_0242ac1c0002row29_col0,#T_5dd67b68_cf80_11eb_bd73_0242ac1c0002row30_col0,#T_5dd67b68_cf80_11eb_bd73_0242ac1c0002row30_col1,#T_5dd67b68_cf80_11eb_bd73_0242ac1c0002row31_col0,#T_5dd67b68_cf80_11eb_bd73_0242ac1c0002row32_col0,#T_5dd67b68_cf80_11eb_bd73_0242ac1c0002row33_col0,#T_5dd67b68_cf80_11eb_bd73_0242ac1c0002row35_col1{\n",
              "            background-color:  #f5fafe;\n",
              "            color:  #000000;\n",
              "        }#T_5dd67b68_cf80_11eb_bd73_0242ac1c0002row5_col1,#T_5dd67b68_cf80_11eb_bd73_0242ac1c0002row11_col1,#T_5dd67b68_cf80_11eb_bd73_0242ac1c0002row12_col0,#T_5dd67b68_cf80_11eb_bd73_0242ac1c0002row13_col0,#T_5dd67b68_cf80_11eb_bd73_0242ac1c0002row14_col0,#T_5dd67b68_cf80_11eb_bd73_0242ac1c0002row14_col1,#T_5dd67b68_cf80_11eb_bd73_0242ac1c0002row15_col0,#T_5dd67b68_cf80_11eb_bd73_0242ac1c0002row16_col0,#T_5dd67b68_cf80_11eb_bd73_0242ac1c0002row16_col1,#T_5dd67b68_cf80_11eb_bd73_0242ac1c0002row17_col0,#T_5dd67b68_cf80_11eb_bd73_0242ac1c0002row18_col0,#T_5dd67b68_cf80_11eb_bd73_0242ac1c0002row19_col0,#T_5dd67b68_cf80_11eb_bd73_0242ac1c0002row24_col1,#T_5dd67b68_cf80_11eb_bd73_0242ac1c0002row26_col1{\n",
              "            background-color:  #e3eef9;\n",
              "            color:  #000000;\n",
              "        }#T_5dd67b68_cf80_11eb_bd73_0242ac1c0002row8_col0,#T_5dd67b68_cf80_11eb_bd73_0242ac1c0002row9_col0,#T_5dd67b68_cf80_11eb_bd73_0242ac1c0002row10_col0,#T_5dd67b68_cf80_11eb_bd73_0242ac1c0002row11_col0{\n",
              "            background-color:  #08316d;\n",
              "            color:  #f1f1f1;\n",
              "        }#T_5dd67b68_cf80_11eb_bd73_0242ac1c0002row8_col1,#T_5dd67b68_cf80_11eb_bd73_0242ac1c0002row31_col1,#T_5dd67b68_cf80_11eb_bd73_0242ac1c0002row33_col1,#T_5dd67b68_cf80_11eb_bd73_0242ac1c0002row34_col0,#T_5dd67b68_cf80_11eb_bd73_0242ac1c0002row34_col1,#T_5dd67b68_cf80_11eb_bd73_0242ac1c0002row35_col0{\n",
              "            background-color:  #f7fbff;\n",
              "            color:  #000000;\n",
              "        }#T_5dd67b68_cf80_11eb_bd73_0242ac1c0002row10_col1{\n",
              "            background-color:  #e4eff9;\n",
              "            color:  #000000;\n",
              "        }#T_5dd67b68_cf80_11eb_bd73_0242ac1c0002row12_col1{\n",
              "            background-color:  #083573;\n",
              "            color:  #f1f1f1;\n",
              "        }#T_5dd67b68_cf80_11eb_bd73_0242ac1c0002row18_col1{\n",
              "            background-color:  #cddff1;\n",
              "            color:  #000000;\n",
              "        }#T_5dd67b68_cf80_11eb_bd73_0242ac1c0002row21_col1{\n",
              "            background-color:  #f6faff;\n",
              "            color:  #000000;\n",
              "        }</style><table id=\"T_5dd67b68_cf80_11eb_bd73_0242ac1c0002\" ><thead>    <tr>        <th class=\"blank level0\" ></th>        <th class=\"col_heading level0 col0\" >totaltested</th>        <th class=\"col_heading level0 col1\" >totalpeoplecurrentlyinquarantine</th>    </tr>    <tr>        <th class=\"index_name level0\" >state</th>        <th class=\"blank\" ></th>        <th class=\"blank\" ></th>    </tr></thead><tbody>\n",
              "                <tr>\n",
              "                        <th id=\"T_5dd67b68_cf80_11eb_bd73_0242ac1c0002level0_row0\" class=\"row_heading level0 row0\" >Odisha</th>\n",
              "                        <td id=\"T_5dd67b68_cf80_11eb_bd73_0242ac1c0002row0_col0\" class=\"data row0 col0\" >9997140</td>\n",
              "                        <td id=\"T_5dd67b68_cf80_11eb_bd73_0242ac1c0002row0_col1\" class=\"data row0 col1\" >nan</td>\n",
              "            </tr>\n",
              "            <tr>\n",
              "                        <th id=\"T_5dd67b68_cf80_11eb_bd73_0242ac1c0002level0_row1\" class=\"row_heading level0 row1\" >Punjab</th>\n",
              "                        <td id=\"T_5dd67b68_cf80_11eb_bd73_0242ac1c0002row1_col0\" class=\"data row1 col0\" >9996859</td>\n",
              "                        <td id=\"T_5dd67b68_cf80_11eb_bd73_0242ac1c0002row1_col1\" class=\"data row1 col1\" >1711.000000</td>\n",
              "            </tr>\n",
              "            <tr>\n",
              "                        <th id=\"T_5dd67b68_cf80_11eb_bd73_0242ac1c0002level0_row2\" class=\"row_heading level0 row2\" >Delhi</th>\n",
              "                        <td id=\"T_5dd67b68_cf80_11eb_bd73_0242ac1c0002row2_col0\" class=\"data row2 col0\" >9996032</td>\n",
              "                        <td id=\"T_5dd67b68_cf80_11eb_bd73_0242ac1c0002row2_col1\" class=\"data row2 col1\" >nan</td>\n",
              "            </tr>\n",
              "            <tr>\n",
              "                        <th id=\"T_5dd67b68_cf80_11eb_bd73_0242ac1c0002level0_row3\" class=\"row_heading level0 row3\" >Assam</th>\n",
              "                        <td id=\"T_5dd67b68_cf80_11eb_bd73_0242ac1c0002row3_col0\" class=\"data row3 col0\" >9982316</td>\n",
              "                        <td id=\"T_5dd67b68_cf80_11eb_bd73_0242ac1c0002row3_col1\" class=\"data row3 col1\" >989.000000</td>\n",
              "            </tr>\n",
              "            <tr>\n",
              "                        <th id=\"T_5dd67b68_cf80_11eb_bd73_0242ac1c0002level0_row4\" class=\"row_heading level0 row4\" >Rajasthan</th>\n",
              "                        <td id=\"T_5dd67b68_cf80_11eb_bd73_0242ac1c0002row4_col0\" class=\"data row4 col0\" >9973974</td>\n",
              "                        <td id=\"T_5dd67b68_cf80_11eb_bd73_0242ac1c0002row4_col1\" class=\"data row4 col1\" >nan</td>\n",
              "            </tr>\n",
              "            <tr>\n",
              "                        <th id=\"T_5dd67b68_cf80_11eb_bd73_0242ac1c0002level0_row5\" class=\"row_heading level0 row5\" >Maharashtra</th>\n",
              "                        <td id=\"T_5dd67b68_cf80_11eb_bd73_0242ac1c0002row5_col0\" class=\"data row5 col0\" >9965119</td>\n",
              "                        <td id=\"T_5dd67b68_cf80_11eb_bd73_0242ac1c0002row5_col1\" class=\"data row5 col1\" >9799.000000</td>\n",
              "            </tr>\n",
              "            <tr>\n",
              "                        <th id=\"T_5dd67b68_cf80_11eb_bd73_0242ac1c0002level0_row6\" class=\"row_heading level0 row6\" >Telangana</th>\n",
              "                        <td id=\"T_5dd67b68_cf80_11eb_bd73_0242ac1c0002row6_col0\" class=\"data row6 col0\" >9961154</td>\n",
              "                        <td id=\"T_5dd67b68_cf80_11eb_bd73_0242ac1c0002row6_col1\" class=\"data row6 col1\" >nan</td>\n",
              "            </tr>\n",
              "            <tr>\n",
              "                        <th id=\"T_5dd67b68_cf80_11eb_bd73_0242ac1c0002level0_row7\" class=\"row_heading level0 row7\" >Bihar</th>\n",
              "                        <td id=\"T_5dd67b68_cf80_11eb_bd73_0242ac1c0002row7_col0\" class=\"data row7 col0\" >9960104</td>\n",
              "                        <td id=\"T_5dd67b68_cf80_11eb_bd73_0242ac1c0002row7_col1\" class=\"data row7 col1\" >802.000000</td>\n",
              "            </tr>\n",
              "            <tr>\n",
              "                        <th id=\"T_5dd67b68_cf80_11eb_bd73_0242ac1c0002level0_row8\" class=\"row_heading level0 row8\" >Tamil Nadu</th>\n",
              "                        <td id=\"T_5dd67b68_cf80_11eb_bd73_0242ac1c0002row8_col0\" class=\"data row8 col0\" >9956210</td>\n",
              "                        <td id=\"T_5dd67b68_cf80_11eb_bd73_0242ac1c0002row8_col1\" class=\"data row8 col1\" >48.000000</td>\n",
              "            </tr>\n",
              "            <tr>\n",
              "                        <th id=\"T_5dd67b68_cf80_11eb_bd73_0242ac1c0002level0_row9\" class=\"row_heading level0 row9\" >Gujarat</th>\n",
              "                        <td id=\"T_5dd67b68_cf80_11eb_bd73_0242ac1c0002row9_col0\" class=\"data row9 col0\" >9955664</td>\n",
              "                        <td id=\"T_5dd67b68_cf80_11eb_bd73_0242ac1c0002row9_col1\" class=\"data row9 col1\" >99920.000000</td>\n",
              "            </tr>\n",
              "            <tr>\n",
              "                        <th id=\"T_5dd67b68_cf80_11eb_bd73_0242ac1c0002level0_row10\" class=\"row_heading level0 row10\" >West Bengal</th>\n",
              "                        <td id=\"T_5dd67b68_cf80_11eb_bd73_0242ac1c0002row10_col0\" class=\"data row10 col0\" >9950336</td>\n",
              "                        <td id=\"T_5dd67b68_cf80_11eb_bd73_0242ac1c0002row10_col1\" class=\"data row10 col1\" >9667.000000</td>\n",
              "            </tr>\n",
              "            <tr>\n",
              "                        <th id=\"T_5dd67b68_cf80_11eb_bd73_0242ac1c0002level0_row11\" class=\"row_heading level0 row11\" >Uttar Pradesh</th>\n",
              "                        <td id=\"T_5dd67b68_cf80_11eb_bd73_0242ac1c0002row11_col0\" class=\"data row11 col0\" >9937675</td>\n",
              "                        <td id=\"T_5dd67b68_cf80_11eb_bd73_0242ac1c0002row11_col1\" class=\"data row11 col1\" >9911.000000</td>\n",
              "            </tr>\n",
              "            <tr>\n",
              "                        <th id=\"T_5dd67b68_cf80_11eb_bd73_0242ac1c0002level0_row12\" class=\"row_heading level0 row12\" >Karnataka</th>\n",
              "                        <td id=\"T_5dd67b68_cf80_11eb_bd73_0242ac1c0002row12_col0\" class=\"data row12 col0\" >999530</td>\n",
              "                        <td id=\"T_5dd67b68_cf80_11eb_bd73_0242ac1c0002row12_col1\" class=\"data row12 col1\" >97821.000000</td>\n",
              "            </tr>\n",
              "            <tr>\n",
              "                        <th id=\"T_5dd67b68_cf80_11eb_bd73_0242ac1c0002level0_row13\" class=\"row_heading level0 row13\" >Chhattisgarh</th>\n",
              "                        <td id=\"T_5dd67b68_cf80_11eb_bd73_0242ac1c0002row13_col0\" class=\"data row13 col0\" >998347</td>\n",
              "                        <td id=\"T_5dd67b68_cf80_11eb_bd73_0242ac1c0002row13_col1\" class=\"data row13 col1\" >924.000000</td>\n",
              "            </tr>\n",
              "            <tr>\n",
              "                        <th id=\"T_5dd67b68_cf80_11eb_bd73_0242ac1c0002level0_row14\" class=\"row_heading level0 row14\" >Puducherry</th>\n",
              "                        <td id=\"T_5dd67b68_cf80_11eb_bd73_0242ac1c0002row14_col0\" class=\"data row14 col0\" >997347</td>\n",
              "                        <td id=\"T_5dd67b68_cf80_11eb_bd73_0242ac1c0002row14_col1\" class=\"data row14 col1\" >9860.000000</td>\n",
              "            </tr>\n",
              "            <tr>\n",
              "                        <th id=\"T_5dd67b68_cf80_11eb_bd73_0242ac1c0002level0_row15\" class=\"row_heading level0 row15\" >Andhra Pradesh</th>\n",
              "                        <td id=\"T_5dd67b68_cf80_11eb_bd73_0242ac1c0002row15_col0\" class=\"data row15 col0\" >996573</td>\n",
              "                        <td id=\"T_5dd67b68_cf80_11eb_bd73_0242ac1c0002row15_col1\" class=\"data row15 col1\" >nan</td>\n",
              "            </tr>\n",
              "            <tr>\n",
              "                        <th id=\"T_5dd67b68_cf80_11eb_bd73_0242ac1c0002level0_row16\" class=\"row_heading level0 row16\" >Uttarakhand</th>\n",
              "                        <td id=\"T_5dd67b68_cf80_11eb_bd73_0242ac1c0002row16_col0\" class=\"data row16 col0\" >996525</td>\n",
              "                        <td id=\"T_5dd67b68_cf80_11eb_bd73_0242ac1c0002row16_col1\" class=\"data row16 col1\" >9996.000000</td>\n",
              "            </tr>\n",
              "            <tr>\n",
              "                        <th id=\"T_5dd67b68_cf80_11eb_bd73_0242ac1c0002level0_row17\" class=\"row_heading level0 row17\" >Jammu and Kashmir</th>\n",
              "                        <td id=\"T_5dd67b68_cf80_11eb_bd73_0242ac1c0002row17_col0\" class=\"data row17 col0\" >996481</td>\n",
              "                        <td id=\"T_5dd67b68_cf80_11eb_bd73_0242ac1c0002row17_col1\" class=\"data row17 col1\" >nan</td>\n",
              "            </tr>\n",
              "            <tr>\n",
              "                        <th id=\"T_5dd67b68_cf80_11eb_bd73_0242ac1c0002level0_row18\" class=\"row_heading level0 row18\" >Himachal Pradesh</th>\n",
              "                        <td id=\"T_5dd67b68_cf80_11eb_bd73_0242ac1c0002row18_col0\" class=\"data row18 col0\" >994599</td>\n",
              "                        <td id=\"T_5dd67b68_cf80_11eb_bd73_0242ac1c0002row18_col1\" class=\"data row18 col1\" >21766.000000</td>\n",
              "            </tr>\n",
              "            <tr>\n",
              "                        <th id=\"T_5dd67b68_cf80_11eb_bd73_0242ac1c0002level0_row19\" class=\"row_heading level0 row19\" >Tripura</th>\n",
              "                        <td id=\"T_5dd67b68_cf80_11eb_bd73_0242ac1c0002row19_col0\" class=\"data row19 col0\" >990028</td>\n",
              "                        <td id=\"T_5dd67b68_cf80_11eb_bd73_0242ac1c0002row19_col1\" class=\"data row19 col1\" >nan</td>\n",
              "            </tr>\n",
              "            <tr>\n",
              "                        <th id=\"T_5dd67b68_cf80_11eb_bd73_0242ac1c0002level0_row20\" class=\"row_heading level0 row20\" >Haryana</th>\n",
              "                        <td id=\"T_5dd67b68_cf80_11eb_bd73_0242ac1c0002row20_col0\" class=\"data row20 col0\" >99987</td>\n",
              "                        <td id=\"T_5dd67b68_cf80_11eb_bd73_0242ac1c0002row20_col1\" class=\"data row20 col1\" >nan</td>\n",
              "            </tr>\n",
              "            <tr>\n",
              "                        <th id=\"T_5dd67b68_cf80_11eb_bd73_0242ac1c0002level0_row21\" class=\"row_heading level0 row21\" >Ladakh</th>\n",
              "                        <td id=\"T_5dd67b68_cf80_11eb_bd73_0242ac1c0002row21_col0\" class=\"data row21 col0\" >99966</td>\n",
              "                        <td id=\"T_5dd67b68_cf80_11eb_bd73_0242ac1c0002row21_col1\" class=\"data row21 col1\" >739.000000</td>\n",
              "            </tr>\n",
              "            <tr>\n",
              "                        <th id=\"T_5dd67b68_cf80_11eb_bd73_0242ac1c0002level0_row22\" class=\"row_heading level0 row22\" >Jharkhand</th>\n",
              "                        <td id=\"T_5dd67b68_cf80_11eb_bd73_0242ac1c0002row22_col0\" class=\"data row22 col0\" >99931</td>\n",
              "                        <td id=\"T_5dd67b68_cf80_11eb_bd73_0242ac1c0002row22_col1\" class=\"data row22 col1\" >99641.000000</td>\n",
              "            </tr>\n",
              "            <tr>\n",
              "                        <th id=\"T_5dd67b68_cf80_11eb_bd73_0242ac1c0002level0_row23\" class=\"row_heading level0 row23\" >Lakshadweep</th>\n",
              "                        <td id=\"T_5dd67b68_cf80_11eb_bd73_0242ac1c0002row23_col0\" class=\"data row23 col0\" >99920</td>\n",
              "                        <td id=\"T_5dd67b68_cf80_11eb_bd73_0242ac1c0002row23_col1\" class=\"data row23 col1\" >nan</td>\n",
              "            </tr>\n",
              "            <tr>\n",
              "                        <th id=\"T_5dd67b68_cf80_11eb_bd73_0242ac1c0002level0_row24\" class=\"row_heading level0 row24\" >Kerala</th>\n",
              "                        <td id=\"T_5dd67b68_cf80_11eb_bd73_0242ac1c0002row24_col0\" class=\"data row24 col0\" >99692</td>\n",
              "                        <td id=\"T_5dd67b68_cf80_11eb_bd73_0242ac1c0002row24_col1\" class=\"data row24 col1\" >9865.000000</td>\n",
              "            </tr>\n",
              "            <tr>\n",
              "                        <th id=\"T_5dd67b68_cf80_11eb_bd73_0242ac1c0002level0_row25\" class=\"row_heading level0 row25\" >Madhya Pradesh</th>\n",
              "                        <td id=\"T_5dd67b68_cf80_11eb_bd73_0242ac1c0002row25_col0\" class=\"data row25 col0\" >99677</td>\n",
              "                        <td id=\"T_5dd67b68_cf80_11eb_bd73_0242ac1c0002row25_col1\" class=\"data row25 col1\" >nan</td>\n",
              "            </tr>\n",
              "            <tr>\n",
              "                        <th id=\"T_5dd67b68_cf80_11eb_bd73_0242ac1c0002level0_row26\" class=\"row_heading level0 row26\" >Mizoram</th>\n",
              "                        <td id=\"T_5dd67b68_cf80_11eb_bd73_0242ac1c0002row26_col0\" class=\"data row26 col0\" >99424</td>\n",
              "                        <td id=\"T_5dd67b68_cf80_11eb_bd73_0242ac1c0002row26_col1\" class=\"data row26 col1\" >9989.000000</td>\n",
              "            </tr>\n",
              "            <tr>\n",
              "                        <th id=\"T_5dd67b68_cf80_11eb_bd73_0242ac1c0002level0_row27\" class=\"row_heading level0 row27\" >Sikkim</th>\n",
              "                        <td id=\"T_5dd67b68_cf80_11eb_bd73_0242ac1c0002row27_col0\" class=\"data row27 col0\" >99352</td>\n",
              "                        <td id=\"T_5dd67b68_cf80_11eb_bd73_0242ac1c0002row27_col1\" class=\"data row27 col1\" >944.000000</td>\n",
              "            </tr>\n",
              "            <tr>\n",
              "                        <th id=\"T_5dd67b68_cf80_11eb_bd73_0242ac1c0002level0_row28\" class=\"row_heading level0 row28\" >Goa</th>\n",
              "                        <td id=\"T_5dd67b68_cf80_11eb_bd73_0242ac1c0002row28_col0\" class=\"data row28 col0\" >99234</td>\n",
              "                        <td id=\"T_5dd67b68_cf80_11eb_bd73_0242ac1c0002row28_col1\" class=\"data row28 col1\" >981.000000</td>\n",
              "            </tr>\n",
              "            <tr>\n",
              "                        <th id=\"T_5dd67b68_cf80_11eb_bd73_0242ac1c0002level0_row29\" class=\"row_heading level0 row29\" >Chandigarh</th>\n",
              "                        <td id=\"T_5dd67b68_cf80_11eb_bd73_0242ac1c0002row29_col0\" class=\"data row29 col0\" >98981</td>\n",
              "                        <td id=\"T_5dd67b68_cf80_11eb_bd73_0242ac1c0002row29_col1\" class=\"data row29 col1\" >nan</td>\n",
              "            </tr>\n",
              "            <tr>\n",
              "                        <th id=\"T_5dd67b68_cf80_11eb_bd73_0242ac1c0002level0_row30\" class=\"row_heading level0 row30\" >Manipur</th>\n",
              "                        <td id=\"T_5dd67b68_cf80_11eb_bd73_0242ac1c0002row30_col0\" class=\"data row30 col0\" >98819</td>\n",
              "                        <td id=\"T_5dd67b68_cf80_11eb_bd73_0242ac1c0002row30_col1\" class=\"data row30 col1\" >999.000000</td>\n",
              "            </tr>\n",
              "            <tr>\n",
              "                        <th id=\"T_5dd67b68_cf80_11eb_bd73_0242ac1c0002level0_row31\" class=\"row_heading level0 row31\" >Andaman and Nicobar Islands</th>\n",
              "                        <td id=\"T_5dd67b68_cf80_11eb_bd73_0242ac1c0002row31_col0\" class=\"data row31 col0\" >98812</td>\n",
              "                        <td id=\"T_5dd67b68_cf80_11eb_bd73_0242ac1c0002row31_col1\" class=\"data row31 col1\" >94.000000</td>\n",
              "            </tr>\n",
              "            <tr>\n",
              "                        <th id=\"T_5dd67b68_cf80_11eb_bd73_0242ac1c0002level0_row32\" class=\"row_heading level0 row32\" >Arunachal Pradesh</th>\n",
              "                        <td id=\"T_5dd67b68_cf80_11eb_bd73_0242ac1c0002row32_col0\" class=\"data row32 col0\" >98733</td>\n",
              "                        <td id=\"T_5dd67b68_cf80_11eb_bd73_0242ac1c0002row32_col1\" class=\"data row32 col1\" >nan</td>\n",
              "            </tr>\n",
              "            <tr>\n",
              "                        <th id=\"T_5dd67b68_cf80_11eb_bd73_0242ac1c0002level0_row33\" class=\"row_heading level0 row33\" >Meghalaya</th>\n",
              "                        <td id=\"T_5dd67b68_cf80_11eb_bd73_0242ac1c0002row33_col0\" class=\"data row33 col0\" >97550</td>\n",
              "                        <td id=\"T_5dd67b68_cf80_11eb_bd73_0242ac1c0002row33_col1\" class=\"data row33 col1\" >8.000000</td>\n",
              "            </tr>\n",
              "            <tr>\n",
              "                        <th id=\"T_5dd67b68_cf80_11eb_bd73_0242ac1c0002level0_row34\" class=\"row_heading level0 row34\" >Nagaland</th>\n",
              "                        <td id=\"T_5dd67b68_cf80_11eb_bd73_0242ac1c0002row34_col0\" class=\"data row34 col0\" >9971</td>\n",
              "                        <td id=\"T_5dd67b68_cf80_11eb_bd73_0242ac1c0002row34_col1\" class=\"data row34 col1\" >98.000000</td>\n",
              "            </tr>\n",
              "            <tr>\n",
              "                        <th id=\"T_5dd67b68_cf80_11eb_bd73_0242ac1c0002level0_row35\" class=\"row_heading level0 row35\" >Dadra and Nagar Haveli and Daman and Diu</th>\n",
              "                        <td id=\"T_5dd67b68_cf80_11eb_bd73_0242ac1c0002row35_col0\" class=\"data row35 col0\" >9678</td>\n",
              "                        <td id=\"T_5dd67b68_cf80_11eb_bd73_0242ac1c0002row35_col1\" class=\"data row35 col1\" >964.000000</td>\n",
              "            </tr>\n",
              "    </tbody></table>"
            ],
            "text/plain": [
              "<pandas.io.formats.style.Styler at 0x7f54d9da6690>"
            ]
          },
          "metadata": {
            "tags": []
          },
          "execution_count": 152
        }
      ]
    },
    {
      "cell_type": "markdown",
      "metadata": {
        "id": "BccbmKnAZapi"
      },
      "source": [
        "#More Insights using Master Database"
      ]
    },
    {
      "cell_type": "code",
      "metadata": {
        "id": "jNfSPLqlZa_g"
      },
      "source": [
        "confirmed_df = pd.read_csv('https://raw.githubusercontent.com/CSSEGISandData/COVID-19/master/csse_covid_19_data/csse_covid_19_time_series/time_series_covid19_confirmed_global.csv')\n",
        "deaths_df = pd.read_csv('https://raw.githubusercontent.com/CSSEGISandData/COVID-19/master/csse_covid_19_data/csse_covid_19_time_series/time_series_covid19_deaths_global.csv')\n",
        "recovered_df = pd.read_csv('https://raw.githubusercontent.com/CSSEGISandData/COVID-19/master/csse_covid_19_data/csse_covid_19_time_series/time_series_covid19_recovered_global.csv')\n",
        "latest_data = pd.read_csv('https://raw.githubusercontent.com/CSSEGISandData/COVID-19/master/csse_covid_19_data/csse_covid_19_daily_reports/04-04-2020.csv')"
      ],
      "execution_count": null,
      "outputs": []
    },
    {
      "cell_type": "code",
      "metadata": {
        "id": "BaCmsb5nZf2q"
      },
      "source": [
        "dates = list(confirmed_df.columns[4:])\n",
        "dates = list(pd.to_datetime(dates))\n",
        "\n",
        "dates_india = dates[8:]"
      ],
      "execution_count": null,
      "outputs": []
    },
    {
      "cell_type": "code",
      "metadata": {
        "id": "EURzzDXqoczg"
      },
      "source": [
        "dates2= list(deaths_df.columns[4:])\n",
        "dates2= list(pd.to_datetime(dates2))\n",
        "\n",
        "dates3= list(recovered_df.columns[4:])\n",
        "dates3= list(pd.to_datetime(dates3))"
      ],
      "execution_count": null,
      "outputs": []
    },
    {
      "cell_type": "code",
      "metadata": {
        "id": "oyvd9nJmbR_P",
        "colab": {
          "base_uri": "https://localhost:8080/",
          "height": 688
        },
        "outputId": "c5db3978-e428-4d82-bbe7-25684169b473"
      },
      "source": [
        "tes = list(pd.to_datetime(dates))\n",
        "dates_india = dates[8:]\n",
        "df1 = confirmed_df.groupby('Country/Region').sum().reset_index()\n",
        "df2 = deaths_df.groupby('Country/Region').sum().reset_index()\n",
        "df3 = recovered_df.groupby('Country/Region').sum().reset_index()\n",
        "\n",
        "k = df1[df1['Country/Region']=='India'].loc[:,'1/30/20':]\n",
        "india_confirmed = k.values.tolist()[0]    #converting to python list\n",
        "\n",
        "k = df2[df2['Country/Region']=='India'].loc[:,'1/30/20':]\n",
        "india_deaths = k.values.tolist()[0] \n",
        "\n",
        "k = df3[df3['Country/Region']=='India'].loc[:,'1/30/20':]\n",
        "india_recovered = k.values.tolist()[0] \n",
        "\n",
        "plt.figure(figsize= (15,10))\n",
        "plt.xticks(rotation = 90 ,fontsize = 11)\n",
        "plt.yticks(fontsize = 10)\n",
        "plt.xlabel(\"Dates\",fontsize = 20)\n",
        "plt.ylabel('Total cases',fontsize = 20)\n",
        "plt.title(\"Total Confirmed, Active, Death in India\" , fontsize = 20)\n",
        "\n",
        "ax1 = plt.plot_date(y= india_confirmed,x= dates_india,label = 'Confirmed',linestyle ='-',color = 'b')\n",
        "ax2 = plt.plot_date(y= india_recovered,x= dates_india,label = 'Recovered',linestyle ='-',color = 'g')\n",
        "ax3 = plt.plot_date(y= india_deaths,x= dates_india,label = 'Death',linestyle ='-',color = 'r')\n",
        "plt.legend()"
      ],
      "execution_count": null,
      "outputs": [
        {
          "output_type": "execute_result",
          "data": {
            "text/plain": [
              "<matplotlib.legend.Legend at 0x7f54fb43e1d0>"
            ]
          },
          "metadata": {
            "tags": []
          },
          "execution_count": 156
        },
        {
          "output_type": "display_data",
          "data": {
            "image/png": "[encoded data removed]",
            "text/plain": [
              "<Figure size 1080x720 with 1 Axes>"
            ]
          },
          "metadata": {
            "tags": [],
            "needs_background": "light"
          }
        }
      ]
    },
    {
      "cell_type": "markdown",
      "metadata": {
        "id": "3EmV9cnNcxk4"
      },
      "source": [
        "# PART 2 : Let's Start with Prediction"
      ]
    },
    {
      "cell_type": "markdown",
      "metadata": {
        "id": "vZudf_XV8rIO"
      },
      "source": [
        "Loading [data1](https://github.com/datasets/covid-19/blob/main/data/time-series-19-covid-combined.csv)  or [data2](https://github.com/CSSEGISandData/COVID-19/blob/master/csse_covid_19_data/csse_covid_19_time_series/time_series_covid19_confirmed_global.csv)"
      ]
    },
    {
      "cell_type": "code",
      "metadata": {
        "id": "r5bwzjHCSgSZ",
        "colab": {
          "base_uri": "https://localhost:8080/",
          "height": 68
        },
        "outputId": "9023f5f0-0855-46c0-8dab-a7941abf9342"
      },
      "source": [
        "'''train = pd.read_csv('/content/train1406.csv')  #Id, Date, Country/Region, Province/State, Confirmed, Recovered, Deaths\n",
        "test = pd.read_csv('/content/test1406.csv') # ForecastId, Province_State, Country_Region, Date\n",
        "train['Date'] = pd.to_datetime(train['Date'])\n",
        "test['Date'] = pd.to_datetime(test['Date'])\n",
        "test=None\n",
        "train=None'''"
      ],
      "execution_count": null,
      "outputs": [
        {
          "output_type": "execute_result",
          "data": {
            "application/vnd.google.colaboratory.intrinsic+json": {
              "type": "string"
            },
            "text/plain": [
              "\"train = pd.read_csv('/content/train1406.csv')  #Id, Date, Country/Region, Province/State, Confirmed, Recovered, Deaths\\ntest = pd.read_csv('/content/test1406.csv') # ForecastId, Province_State, Country_Region, Date\\ntrain['Date'] = pd.to_datetime(train['Date'])\\ntest['Date'] = pd.to_datetime(test['Date'])\\ntest=None\\ntrain=None\""
            ]
          },
          "metadata": {
            "tags": []
          },
          "execution_count": 157
        }
      ]
    },
    {
      "cell_type": "markdown",
      "metadata": {
        "id": "1tUb-cqec9d-"
      },
      "source": [
        "\n",
        "## **PROPHET**\n",
        "Prophet is open source software released by Facebook’s Core Data Science team. It is available for download on CRAN and PyPI.\n",
        "\n",
        "We use Prophet, a procedure for forecasting time series data based on an additive model where non-linear trends are fit with yearly, weekly, and daily seasonality, plus holiday effects. It works best with time series that have strong seasonal effects and several seasons of historical data. Prophet is robust to missing data and shifts in the trend, and typically handles outliers well. \n",
        "\n",
        "## Why Prophet?\n",
        "\n",
        "* **Accurate and fast:**  Prophet is used in many applications across Facebook for producing reliable forecasts for planning and goal setting. Facebook finds it to perform better than any other approach in the majority of cases. It fit models in [Stan](https://mc-stan.org/) so that you get forecasts in just a few seconds.\n",
        "\n",
        "* **Fully automatic:** Get a reasonable forecast on messy data with no manual effort. Prophet is robust to outliers, missing data, and dramatic changes in your time series.\n",
        "\n",
        "* **Tunable forecasts:** The Prophet procedure includes many possibilities for users to tweak and adjust forecasts. You can use human-interpretable parameters to improve your forecast by adding your domain knowledge\n",
        "\n",
        "* **Available in R or Python:** Facebook has implemented the Prophet procedure in R and Python. Both of them share the same underlying Stan code for fitting. You can use whatever language you’re comfortable with to get forecasts. \n",
        "\n",
        "\n",
        "## References \n",
        "- https://facebook.github.io/prophet/\n",
        "- https://facebook.github.io/prophet/docs/\n",
        "- https://github.com/facebook/prophet\n",
        "- https://facebook.github.io/prophet/docs/quick_start.html"
      ]
    },
    {
      "cell_type": "code",
      "metadata": {
        "id": "hHVnfxUeS5W2",
        "colab": {
          "base_uri": "https://localhost:8080/"
        },
        "outputId": "666577ec-8b36-45c4-f4fb-2c1464b4962e"
      },
      "source": [
        "!pip install Prophet"
      ],
      "execution_count": null,
      "outputs": [
        {
          "output_type": "stream",
          "text": [
            "Requirement already satisfied: Prophet in /usr/local/lib/python3.7/dist-packages (1.0.1)\n",
            "Requirement already satisfied: matplotlib>=2.0.0 in /usr/local/lib/python3.7/dist-packages (from Prophet) (3.2.2)\n",
            "Requirement already satisfied: LunarCalendar>=0.0.9 in /usr/local/lib/python3.7/dist-packages (from Prophet) (0.0.9)\n",
            "Requirement already satisfied: cmdstanpy==0.9.68 in /usr/local/lib/python3.7/dist-packages (from Prophet) (0.9.68)\n",
            "Requirement already satisfied: tqdm>=4.36.1 in /usr/local/lib/python3.7/dist-packages (from Prophet) (4.41.1)\n",
            "Requirement already satisfied: numpy>=1.15.4 in /usr/local/lib/python3.7/dist-packages (from Prophet) (1.19.5)\n",
            "Requirement already satisfied: Cython>=0.22 in /usr/local/lib/python3.7/dist-packages (from Prophet) (0.29.23)\n",
            "Requirement already satisfied: setuptools-git>=1.2 in /usr/local/lib/python3.7/dist-packages (from Prophet) (1.2)\n",
            "Requirement already satisfied: holidays>=0.10.2 in /usr/local/lib/python3.7/dist-packages (from Prophet) (0.10.5.2)\n",
            "Requirement already satisfied: convertdate>=2.1.2 in /usr/local/lib/python3.7/dist-packages (from Prophet) (2.3.2)\n",
            "Requirement already satisfied: pandas>=1.0.4 in /usr/local/lib/python3.7/dist-packages (from Prophet) (1.1.5)\n",
            "Requirement already satisfied: pystan~=2.19.1.1 in /usr/local/lib/python3.7/dist-packages (from Prophet) (2.19.1.1)\n",
            "Requirement already satisfied: python-dateutil>=2.8.0 in /usr/local/lib/python3.7/dist-packages (from Prophet) (2.8.1)\n",
            "Requirement already satisfied: kiwisolver>=1.0.1 in /usr/local/lib/python3.7/dist-packages (from matplotlib>=2.0.0->Prophet) (1.3.1)\n",
            "Requirement already satisfied: pyparsing!=2.0.4,!=2.1.2,!=2.1.6,>=2.0.1 in /usr/local/lib/python3.7/dist-packages (from matplotlib>=2.0.0->Prophet) (2.4.7)\n",
            "Requirement already satisfied: cycler>=0.10 in /usr/local/lib/python3.7/dist-packages (from matplotlib>=2.0.0->Prophet) (0.10.0)\n",
            "Requirement already satisfied: pytz in /usr/local/lib/python3.7/dist-packages (from LunarCalendar>=0.0.9->Prophet) (2018.9)\n",
            "Requirement already satisfied: ephem>=3.7.5.3 in /usr/local/lib/python3.7/dist-packages (from LunarCalendar>=0.0.9->Prophet) (3.7.7.1)\n",
            "Requirement already satisfied: ujson in /usr/local/lib/python3.7/dist-packages (from cmdstanpy==0.9.68->Prophet) (4.0.2)\n",
            "Requirement already satisfied: six in /usr/local/lib/python3.7/dist-packages (from holidays>=0.10.2->Prophet) (1.15.0)\n",
            "Requirement already satisfied: hijri-converter in /usr/local/lib/python3.7/dist-packages (from holidays>=0.10.2->Prophet) (2.1.2)\n",
            "Requirement already satisfied: korean-lunar-calendar in /usr/local/lib/python3.7/dist-packages (from holidays>=0.10.2->Prophet) (0.2.1)\n",
            "Requirement already satisfied: pymeeus<=1,>=0.3.13 in /usr/local/lib/python3.7/dist-packages (from convertdate>=2.1.2->Prophet) (0.5.11)\n"
          ],
          "name": "stdout"
        }
      ]
    },
    {
      "cell_type": "code",
      "metadata": {
        "colab": {
          "base_uri": "https://localhost:8080/",
          "height": 189
        },
        "id": "93bIkYdL4r3y",
        "outputId": "be20658d-7452-4d9e-87c7-17d506d2be80"
      },
      "source": [
        "#df1.head(80)\n",
        "df1.loc[78:80]    "
      ],
      "execution_count": null,
      "outputs": [
        {
          "output_type": "execute_result",
          "data": {
            "text/html": [
              "<div>\n",
              "<style scoped>\n",
              "    .dataframe tbody tr th:only-of-type {\n",
              "        vertical-align: middle;\n",
              "    }\n",
              "\n",
              "    .dataframe tbody tr th {\n",
              "        vertical-align: top;\n",
              "    }\n",
              "\n",
              "    .dataframe thead th {\n",
              "        text-align: right;\n",
              "    }\n",
              "</style>\n",
              "<table border=\"1\" class=\"dataframe\">\n",
              "  <thead>\n",
              "    <tr style=\"text-align: right;\">\n",
              "      <th></th>\n",
              "      <th>Country/Region</th>\n",
              "      <th>Lat</th>\n",
              "      <th>Long</th>\n",
              "      <th>1/22/20</th>\n",
              "      <th>1/23/20</th>\n",
              "      <th>1/24/20</th>\n",
              "      <th>1/25/20</th>\n",
              "      <th>1/26/20</th>\n",
              "      <th>1/27/20</th>\n",
              "      <th>1/28/20</th>\n",
              "      <th>1/29/20</th>\n",
              "      <th>1/30/20</th>\n",
              "      <th>1/31/20</th>\n",
              "      <th>2/1/20</th>\n",
              "      <th>2/2/20</th>\n",
              "      <th>2/3/20</th>\n",
              "      <th>2/4/20</th>\n",
              "      <th>2/5/20</th>\n",
              "      <th>2/6/20</th>\n",
              "      <th>2/7/20</th>\n",
              "      <th>2/8/20</th>\n",
              "      <th>2/9/20</th>\n",
              "      <th>2/10/20</th>\n",
              "      <th>2/11/20</th>\n",
              "      <th>2/12/20</th>\n",
              "      <th>2/13/20</th>\n",
              "      <th>2/14/20</th>\n",
              "      <th>2/15/20</th>\n",
              "      <th>2/16/20</th>\n",
              "      <th>2/17/20</th>\n",
              "      <th>2/18/20</th>\n",
              "      <th>2/19/20</th>\n",
              "      <th>2/20/20</th>\n",
              "      <th>2/21/20</th>\n",
              "      <th>2/22/20</th>\n",
              "      <th>2/23/20</th>\n",
              "      <th>2/24/20</th>\n",
              "      <th>2/25/20</th>\n",
              "      <th>2/26/20</th>\n",
              "      <th>2/27/20</th>\n",
              "      <th>...</th>\n",
              "      <th>5/8/21</th>\n",
              "      <th>5/9/21</th>\n",
              "      <th>5/10/21</th>\n",
              "      <th>5/11/21</th>\n",
              "      <th>5/12/21</th>\n",
              "      <th>5/13/21</th>\n",
              "      <th>5/14/21</th>\n",
              "      <th>5/15/21</th>\n",
              "      <th>5/16/21</th>\n",
              "      <th>5/17/21</th>\n",
              "      <th>5/18/21</th>\n",
              "      <th>5/19/21</th>\n",
              "      <th>5/20/21</th>\n",
              "      <th>5/21/21</th>\n",
              "      <th>5/22/21</th>\n",
              "      <th>5/23/21</th>\n",
              "      <th>5/24/21</th>\n",
              "      <th>5/25/21</th>\n",
              "      <th>5/26/21</th>\n",
              "      <th>5/27/21</th>\n",
              "      <th>5/28/21</th>\n",
              "      <th>5/29/21</th>\n",
              "      <th>5/30/21</th>\n",
              "      <th>5/31/21</th>\n",
              "      <th>6/1/21</th>\n",
              "      <th>6/2/21</th>\n",
              "      <th>6/3/21</th>\n",
              "      <th>6/4/21</th>\n",
              "      <th>6/5/21</th>\n",
              "      <th>6/6/21</th>\n",
              "      <th>6/7/21</th>\n",
              "      <th>6/8/21</th>\n",
              "      <th>6/9/21</th>\n",
              "      <th>6/10/21</th>\n",
              "      <th>6/11/21</th>\n",
              "      <th>6/12/21</th>\n",
              "      <th>6/13/21</th>\n",
              "      <th>6/14/21</th>\n",
              "      <th>6/15/21</th>\n",
              "      <th>6/16/21</th>\n",
              "    </tr>\n",
              "  </thead>\n",
              "  <tbody>\n",
              "    <tr>\n",
              "      <th>78</th>\n",
              "      <td>Iceland</td>\n",
              "      <td>64.963100</td>\n",
              "      <td>-19.02080</td>\n",
              "      <td>0</td>\n",
              "      <td>0</td>\n",
              "      <td>0</td>\n",
              "      <td>0</td>\n",
              "      <td>0</td>\n",
              "      <td>0</td>\n",
              "      <td>0</td>\n",
              "      <td>0</td>\n",
              "      <td>0</td>\n",
              "      <td>0</td>\n",
              "      <td>0</td>\n",
              "      <td>0</td>\n",
              "      <td>0</td>\n",
              "      <td>0</td>\n",
              "      <td>0</td>\n",
              "      <td>0</td>\n",
              "      <td>0</td>\n",
              "      <td>0</td>\n",
              "      <td>0</td>\n",
              "      <td>0</td>\n",
              "      <td>0</td>\n",
              "      <td>0</td>\n",
              "      <td>0</td>\n",
              "      <td>0</td>\n",
              "      <td>0</td>\n",
              "      <td>0</td>\n",
              "      <td>0</td>\n",
              "      <td>0</td>\n",
              "      <td>0</td>\n",
              "      <td>0</td>\n",
              "      <td>0</td>\n",
              "      <td>0</td>\n",
              "      <td>0</td>\n",
              "      <td>0</td>\n",
              "      <td>0</td>\n",
              "      <td>0</td>\n",
              "      <td>0</td>\n",
              "      <td>...</td>\n",
              "      <td>6506</td>\n",
              "      <td>6506</td>\n",
              "      <td>6519</td>\n",
              "      <td>6522</td>\n",
              "      <td>6526</td>\n",
              "      <td>6526</td>\n",
              "      <td>6537</td>\n",
              "      <td>6537</td>\n",
              "      <td>6537</td>\n",
              "      <td>6548</td>\n",
              "      <td>6549</td>\n",
              "      <td>6551</td>\n",
              "      <td>6555</td>\n",
              "      <td>6555</td>\n",
              "      <td>6555</td>\n",
              "      <td>6555</td>\n",
              "      <td>6555</td>\n",
              "      <td>6555</td>\n",
              "      <td>6555</td>\n",
              "      <td>6555</td>\n",
              "      <td>6555</td>\n",
              "      <td>6555</td>\n",
              "      <td>6555</td>\n",
              "      <td>6555</td>\n",
              "      <td>6555</td>\n",
              "      <td>6555</td>\n",
              "      <td>6555</td>\n",
              "      <td>6555</td>\n",
              "      <td>6555</td>\n",
              "      <td>6555</td>\n",
              "      <td>6555</td>\n",
              "      <td>6555</td>\n",
              "      <td>6555</td>\n",
              "      <td>6555</td>\n",
              "      <td>6555</td>\n",
              "      <td>6555</td>\n",
              "      <td>6555</td>\n",
              "      <td>6555</td>\n",
              "      <td>6555</td>\n",
              "      <td>6555</td>\n",
              "    </tr>\n",
              "    <tr>\n",
              "      <th>79</th>\n",
              "      <td>India</td>\n",
              "      <td>20.593684</td>\n",
              "      <td>78.96288</td>\n",
              "      <td>0</td>\n",
              "      <td>0</td>\n",
              "      <td>0</td>\n",
              "      <td>0</td>\n",
              "      <td>0</td>\n",
              "      <td>0</td>\n",
              "      <td>0</td>\n",
              "      <td>0</td>\n",
              "      <td>1</td>\n",
              "      <td>1</td>\n",
              "      <td>1</td>\n",
              "      <td>2</td>\n",
              "      <td>3</td>\n",
              "      <td>3</td>\n",
              "      <td>3</td>\n",
              "      <td>3</td>\n",
              "      <td>3</td>\n",
              "      <td>3</td>\n",
              "      <td>3</td>\n",
              "      <td>3</td>\n",
              "      <td>3</td>\n",
              "      <td>3</td>\n",
              "      <td>3</td>\n",
              "      <td>3</td>\n",
              "      <td>3</td>\n",
              "      <td>3</td>\n",
              "      <td>3</td>\n",
              "      <td>3</td>\n",
              "      <td>3</td>\n",
              "      <td>3</td>\n",
              "      <td>3</td>\n",
              "      <td>3</td>\n",
              "      <td>3</td>\n",
              "      <td>3</td>\n",
              "      <td>3</td>\n",
              "      <td>3</td>\n",
              "      <td>3</td>\n",
              "      <td>...</td>\n",
              "      <td>22296081</td>\n",
              "      <td>22662575</td>\n",
              "      <td>22992517</td>\n",
              "      <td>23340938</td>\n",
              "      <td>23703665</td>\n",
              "      <td>24046809</td>\n",
              "      <td>24372907</td>\n",
              "      <td>24684077</td>\n",
              "      <td>24965463</td>\n",
              "      <td>25228996</td>\n",
              "      <td>25496330</td>\n",
              "      <td>25772440</td>\n",
              "      <td>26031991</td>\n",
              "      <td>26289290</td>\n",
              "      <td>26530132</td>\n",
              "      <td>26752447</td>\n",
              "      <td>26948874</td>\n",
              "      <td>27157795</td>\n",
              "      <td>27369093</td>\n",
              "      <td>27555457</td>\n",
              "      <td>27729247</td>\n",
              "      <td>27894800</td>\n",
              "      <td>28047534</td>\n",
              "      <td>28175044</td>\n",
              "      <td>28307832</td>\n",
              "      <td>28441986</td>\n",
              "      <td>28574350</td>\n",
              "      <td>28694879</td>\n",
              "      <td>28809339</td>\n",
              "      <td>28909975</td>\n",
              "      <td>28996473</td>\n",
              "      <td>29089069</td>\n",
              "      <td>29182532</td>\n",
              "      <td>29274823</td>\n",
              "      <td>29359155</td>\n",
              "      <td>29439989</td>\n",
              "      <td>29510410</td>\n",
              "      <td>29570881</td>\n",
              "      <td>29633105</td>\n",
              "      <td>29700313</td>\n",
              "    </tr>\n",
              "    <tr>\n",
              "      <th>80</th>\n",
              "      <td>Indonesia</td>\n",
              "      <td>-0.789300</td>\n",
              "      <td>113.92130</td>\n",
              "      <td>0</td>\n",
              "      <td>0</td>\n",
              "      <td>0</td>\n",
              "      <td>0</td>\n",
              "      <td>0</td>\n",
              "      <td>0</td>\n",
              "      <td>0</td>\n",
              "      <td>0</td>\n",
              "      <td>0</td>\n",
              "      <td>0</td>\n",
              "      <td>0</td>\n",
              "      <td>0</td>\n",
              "      <td>0</td>\n",
              "      <td>0</td>\n",
              "      <td>0</td>\n",
              "      <td>0</td>\n",
              "      <td>0</td>\n",
              "      <td>0</td>\n",
              "      <td>0</td>\n",
              "      <td>0</td>\n",
              "      <td>0</td>\n",
              "      <td>0</td>\n",
              "      <td>0</td>\n",
              "      <td>0</td>\n",
              "      <td>0</td>\n",
              "      <td>0</td>\n",
              "      <td>0</td>\n",
              "      <td>0</td>\n",
              "      <td>0</td>\n",
              "      <td>0</td>\n",
              "      <td>0</td>\n",
              "      <td>0</td>\n",
              "      <td>0</td>\n",
              "      <td>0</td>\n",
              "      <td>0</td>\n",
              "      <td>0</td>\n",
              "      <td>0</td>\n",
              "      <td>...</td>\n",
              "      <td>1709762</td>\n",
              "      <td>1713684</td>\n",
              "      <td>1718575</td>\n",
              "      <td>1723596</td>\n",
              "      <td>1728204</td>\n",
              "      <td>1731652</td>\n",
              "      <td>1734285</td>\n",
              "      <td>1736670</td>\n",
              "      <td>1739750</td>\n",
              "      <td>1744045</td>\n",
              "      <td>1748230</td>\n",
              "      <td>1753101</td>\n",
              "      <td>1758898</td>\n",
              "      <td>1764644</td>\n",
              "      <td>1769940</td>\n",
              "      <td>1775220</td>\n",
              "      <td>1781127</td>\n",
              "      <td>1786187</td>\n",
              "      <td>1791221</td>\n",
              "      <td>1797499</td>\n",
              "      <td>1803361</td>\n",
              "      <td>1809926</td>\n",
              "      <td>1816041</td>\n",
              "      <td>1821703</td>\n",
              "      <td>1826527</td>\n",
              "      <td>1831773</td>\n",
              "      <td>1837126</td>\n",
              "      <td>1843612</td>\n",
              "      <td>1850206</td>\n",
              "      <td>1856038</td>\n",
              "      <td>1863031</td>\n",
              "      <td>1869325</td>\n",
              "      <td>1877050</td>\n",
              "      <td>1885942</td>\n",
              "      <td>1894025</td>\n",
              "      <td>1901490</td>\n",
              "      <td>1911358</td>\n",
              "      <td>1919547</td>\n",
              "      <td>1927708</td>\n",
              "      <td>1937652</td>\n",
              "    </tr>\n",
              "  </tbody>\n",
              "</table>\n",
              "<p>3 rows × 515 columns</p>\n",
              "</div>"
            ],
            "text/plain": [
              "   Country/Region        Lat       Long  ...   6/14/21   6/15/21   6/16/21\n",
              "78        Iceland  64.963100  -19.02080  ...      6555      6555      6555\n",
              "79          India  20.593684   78.96288  ...  29570881  29633105  29700313\n",
              "80      Indonesia  -0.789300  113.92130  ...   1919547   1927708   1937652\n",
              "\n",
              "[3 rows x 515 columns]"
            ]
          },
          "metadata": {
            "tags": []
          },
          "execution_count": 159
        }
      ]
    },
    {
      "cell_type": "markdown",
      "metadata": {
        "id": "hlL1p6FQEdmU"
      },
      "source": [
        "###Framing the data"
      ]
    },
    {
      "cell_type": "code",
      "metadata": {
        "id": "tbEhpUvITMGp"
      },
      "source": [
        "from fbprophet import Prophet\n",
        "from fbprophet.plot import plot_plotly, add_changepoints_to_plot\n",
        "\n",
        "#confirmed\n",
        "k1 = df1[df1['Country/Region']=='India'].loc[:,'1/22/20':]\n",
        "india_confirmed = k1.values.tolist()[0] \n",
        "data = pd.DataFrame(columns = ['ds','y'])\n",
        "data['ds'] = dates\n",
        "data['y'] = india_confirmed\n",
        "\n",
        "#deaths\n",
        "k2 = df2[df2['Country/Region']=='India'].loc[:,'1/22/20':]\n",
        "india_deaths = k2.values.tolist()[0] \n",
        "data2 = pd.DataFrame(columns = ['ds','y'])\n",
        "data2['ds'] = dates2\n",
        "data2['y'] = india_deaths\n",
        "\n",
        "#confirmed\n",
        "k3 = df3[df3['Country/Region']=='India'].loc[:,'1/22/20':]\n",
        "india_recovered = k3.values.tolist()[0] \n",
        "data3 = pd.DataFrame(columns = ['ds','y'])\n",
        "data3['ds'] = dates3\n",
        "data3['y'] = india_recovered"
      ],
      "execution_count": null,
      "outputs": []
    },
    {
      "cell_type": "markdown",
      "metadata": {
        "id": "4W0OMKQBTQxz"
      },
      "source": [
        "The input to Prophet is always a dataframe with two columns: **ds** and **y**. The **ds (datestamp)** column should be of a format expected by Pandas, ideally YYYY-MM-DD for a date or YYYY-MM-DD HH:MM:SS for a timestamp. The y column must be numeric, and represents the measurement we wish to forecast."
      ]
    },
    {
      "cell_type": "code",
      "metadata": {
        "id": "qOV4UXnETWx8"
      },
      "source": [
        "#confirmed\n",
        "data.columns = ['ds','y']\n",
        "#confirmed['ds'] = confirmed['ds'].dt.date\n",
        "data['ds'] = pd.to_datetime(data['ds'])\n",
        "\n",
        "#deaths\n",
        "data2.columns = ['ds','y']\n",
        "data2['ds'] = pd.to_datetime(data2['ds'])\n",
        "\n",
        "#recovered\n",
        "data3.columns = ['ds','y']\n",
        "data3['ds'] = pd.to_datetime(data3['ds'])"
      ],
      "execution_count": null,
      "outputs": []
    },
    {
      "cell_type": "markdown",
      "metadata": {
        "id": "NA96n29gEtiG"
      },
      "source": [
        "###Training and Predicting Data"
      ]
    },
    {
      "cell_type": "code",
      "metadata": {
        "id": "JJMnfLZaTrMa",
        "colab": {
          "base_uri": "https://localhost:8080/",
          "height": 610
        },
        "outputId": "7b5b9d38-cc2b-4eb8-8020-9a8a501d9e99"
      },
      "source": [
        "#confirmed\n",
        "prop = Prophet(interval_width=0.95)\n",
        "prop.fit(data)   #fitting into view, training the data, now prop is trained model\n",
        "future = prop.make_future_dataframe(periods=15)\n",
        "#future.tail(15)\n",
        "\n",
        "#deaths\n",
        "prop2 = Prophet(interval_width=0.95)\n",
        "prop2.fit(data2)\n",
        "future2 = prop2.make_future_dataframe(periods=15)\n",
        "#future2.tail(15)\n",
        "\n",
        "#recovered\n",
        "prop3 = Prophet(interval_width=0.95)\n",
        "prop3.fit(data3)\n",
        "future3 = prop3.make_future_dataframe(periods=15)\n",
        "future3.tail(15)"
      ],
      "execution_count": null,
      "outputs": [
        {
          "output_type": "stream",
          "text": [
            "INFO:fbprophet:Disabling yearly seasonality. Run prophet with yearly_seasonality=True to override this.\n",
            "INFO:fbprophet:Disabling daily seasonality. Run prophet with daily_seasonality=True to override this.\n",
            "INFO:fbprophet:Disabling yearly seasonality. Run prophet with yearly_seasonality=True to override this.\n",
            "INFO:fbprophet:Disabling daily seasonality. Run prophet with daily_seasonality=True to override this.\n",
            "INFO:fbprophet:Disabling yearly seasonality. Run prophet with yearly_seasonality=True to override this.\n",
            "INFO:fbprophet:Disabling daily seasonality. Run prophet with daily_seasonality=True to override this.\n"
          ],
          "name": "stderr"
        },
        {
          "output_type": "execute_result",
          "data": {
            "text/html": [
              "<div>\n",
              "<style scoped>\n",
              "    .dataframe tbody tr th:only-of-type {\n",
              "        vertical-align: middle;\n",
              "    }\n",
              "\n",
              "    .dataframe tbody tr th {\n",
              "        vertical-align: top;\n",
              "    }\n",
              "\n",
              "    .dataframe thead th {\n",
              "        text-align: right;\n",
              "    }\n",
              "</style>\n",
              "<table border=\"1\" class=\"dataframe\">\n",
              "  <thead>\n",
              "    <tr style=\"text-align: right;\">\n",
              "      <th></th>\n",
              "      <th>ds</th>\n",
              "    </tr>\n",
              "  </thead>\n",
              "  <tbody>\n",
              "    <tr>\n",
              "      <th>512</th>\n",
              "      <td>2021-06-17</td>\n",
              "    </tr>\n",
              "    <tr>\n",
              "      <th>513</th>\n",
              "      <td>2021-06-18</td>\n",
              "    </tr>\n",
              "    <tr>\n",
              "      <th>514</th>\n",
              "      <td>2021-06-19</td>\n",
              "    </tr>\n",
              "    <tr>\n",
              "      <th>515</th>\n",
              "      <td>2021-06-20</td>\n",
              "    </tr>\n",
              "    <tr>\n",
              "      <th>516</th>\n",
              "      <td>2021-06-21</td>\n",
              "    </tr>\n",
              "    <tr>\n",
              "      <th>517</th>\n",
              "      <td>2021-06-22</td>\n",
              "    </tr>\n",
              "    <tr>\n",
              "      <th>518</th>\n",
              "      <td>2021-06-23</td>\n",
              "    </tr>\n",
              "    <tr>\n",
              "      <th>519</th>\n",
              "      <td>2021-06-24</td>\n",
              "    </tr>\n",
              "    <tr>\n",
              "      <th>520</th>\n",
              "      <td>2021-06-25</td>\n",
              "    </tr>\n",
              "    <tr>\n",
              "      <th>521</th>\n",
              "      <td>2021-06-26</td>\n",
              "    </tr>\n",
              "    <tr>\n",
              "      <th>522</th>\n",
              "      <td>2021-06-27</td>\n",
              "    </tr>\n",
              "    <tr>\n",
              "      <th>523</th>\n",
              "      <td>2021-06-28</td>\n",
              "    </tr>\n",
              "    <tr>\n",
              "      <th>524</th>\n",
              "      <td>2021-06-29</td>\n",
              "    </tr>\n",
              "    <tr>\n",
              "      <th>525</th>\n",
              "      <td>2021-06-30</td>\n",
              "    </tr>\n",
              "    <tr>\n",
              "      <th>526</th>\n",
              "      <td>2021-07-01</td>\n",
              "    </tr>\n",
              "  </tbody>\n",
              "</table>\n",
              "</div>"
            ],
            "text/plain": [
              "            ds\n",
              "512 2021-06-17\n",
              "513 2021-06-18\n",
              "514 2021-06-19\n",
              "515 2021-06-20\n",
              "516 2021-06-21\n",
              "517 2021-06-22\n",
              "518 2021-06-23\n",
              "519 2021-06-24\n",
              "520 2021-06-25\n",
              "521 2021-06-26\n",
              "522 2021-06-27\n",
              "523 2021-06-28\n",
              "524 2021-06-29\n",
              "525 2021-06-30\n",
              "526 2021-07-01"
            ]
          },
          "metadata": {
            "tags": []
          },
          "execution_count": 162
        }
      ]
    },
    {
      "cell_type": "markdown",
      "metadata": {
        "id": "nj4-qJkJT0Sn"
      },
      "source": [
        "The **predict** method will assign each row in future a predicted value which it names **yhat**. If you pass in historical dates, it will provide an in-sample fit. The **forecast object** here is a new dataframe that includes a column yhat with the forecast, as well as columns for components and uncertainty intervals."
      ]
    },
    {
      "cell_type": "code",
      "metadata": {
        "id": "qqpUICBAT4JA",
        "colab": {
          "base_uri": "https://localhost:8080/",
          "height": 202
        },
        "outputId": "f094cdd3-95d8-4115-fb28-d8833fc0c52d"
      },
      "source": [
        "#predicting future CONFIRMED cases with date, and upper and lower limit of y value\n",
        "forecast = prop.predict(future)\n",
        "forecast[['ds', 'yhat', 'yhat_lower', 'yhat_upper']].tail()"
      ],
      "execution_count": null,
      "outputs": [
        {
          "output_type": "execute_result",
          "data": {
            "text/html": [
              "<div>\n",
              "<style scoped>\n",
              "    .dataframe tbody tr th:only-of-type {\n",
              "        vertical-align: middle;\n",
              "    }\n",
              "\n",
              "    .dataframe tbody tr th {\n",
              "        vertical-align: top;\n",
              "    }\n",
              "\n",
              "    .dataframe thead th {\n",
              "        text-align: right;\n",
              "    }\n",
              "</style>\n",
              "<table border=\"1\" class=\"dataframe\">\n",
              "  <thead>\n",
              "    <tr style=\"text-align: right;\">\n",
              "      <th></th>\n",
              "      <th>ds</th>\n",
              "      <th>yhat</th>\n",
              "      <th>yhat_lower</th>\n",
              "      <th>yhat_upper</th>\n",
              "    </tr>\n",
              "  </thead>\n",
              "  <tbody>\n",
              "    <tr>\n",
              "      <th>522</th>\n",
              "      <td>2021-06-27</td>\n",
              "      <td>3.192678e+07</td>\n",
              "      <td>3.021479e+07</td>\n",
              "      <td>3.346847e+07</td>\n",
              "    </tr>\n",
              "    <tr>\n",
              "      <th>523</th>\n",
              "      <td>2021-06-28</td>\n",
              "      <td>3.211840e+07</td>\n",
              "      <td>3.048851e+07</td>\n",
              "      <td>3.377585e+07</td>\n",
              "    </tr>\n",
              "    <tr>\n",
              "      <th>524</th>\n",
              "      <td>2021-06-29</td>\n",
              "      <td>3.231498e+07</td>\n",
              "      <td>3.058223e+07</td>\n",
              "      <td>3.406653e+07</td>\n",
              "    </tr>\n",
              "    <tr>\n",
              "      <th>525</th>\n",
              "      <td>2021-06-30</td>\n",
              "      <td>3.251733e+07</td>\n",
              "      <td>3.089212e+07</td>\n",
              "      <td>3.436846e+07</td>\n",
              "    </tr>\n",
              "    <tr>\n",
              "      <th>526</th>\n",
              "      <td>2021-07-01</td>\n",
              "      <td>3.272039e+07</td>\n",
              "      <td>3.112334e+07</td>\n",
              "      <td>3.444825e+07</td>\n",
              "    </tr>\n",
              "  </tbody>\n",
              "</table>\n",
              "</div>"
            ],
            "text/plain": [
              "            ds          yhat    yhat_lower    yhat_upper\n",
              "522 2021-06-27  3.192678e+07  3.021479e+07  3.346847e+07\n",
              "523 2021-06-28  3.211840e+07  3.048851e+07  3.377585e+07\n",
              "524 2021-06-29  3.231498e+07  3.058223e+07  3.406653e+07\n",
              "525 2021-06-30  3.251733e+07  3.089212e+07  3.436846e+07\n",
              "526 2021-07-01  3.272039e+07  3.112334e+07  3.444825e+07"
            ]
          },
          "metadata": {
            "tags": []
          },
          "execution_count": 163
        }
      ]
    },
    {
      "cell_type": "code",
      "metadata": {
        "colab": {
          "base_uri": "https://localhost:8080/",
          "height": 202
        },
        "id": "d_IhcaGVD0vx",
        "outputId": "a6556c7e-84a0-486c-c489-cad36ea61577"
      },
      "source": [
        "#predicting the future DEATHS cases with date, and upper and lower limit of y value\n",
        "forecast2 = prop2.predict(future2)\n",
        "forecast2[['ds', 'yhat', 'yhat_lower', 'yhat_upper']].tail()"
      ],
      "execution_count": null,
      "outputs": [
        {
          "output_type": "execute_result",
          "data": {
            "text/html": [
              "<div>\n",
              "<style scoped>\n",
              "    .dataframe tbody tr th:only-of-type {\n",
              "        vertical-align: middle;\n",
              "    }\n",
              "\n",
              "    .dataframe tbody tr th {\n",
              "        vertical-align: top;\n",
              "    }\n",
              "\n",
              "    .dataframe thead th {\n",
              "        text-align: right;\n",
              "    }\n",
              "</style>\n",
              "<table border=\"1\" class=\"dataframe\">\n",
              "  <thead>\n",
              "    <tr style=\"text-align: right;\">\n",
              "      <th></th>\n",
              "      <th>ds</th>\n",
              "      <th>yhat</th>\n",
              "      <th>yhat_lower</th>\n",
              "      <th>yhat_upper</th>\n",
              "    </tr>\n",
              "  </thead>\n",
              "  <tbody>\n",
              "    <tr>\n",
              "      <th>522</th>\n",
              "      <td>2021-06-27</td>\n",
              "      <td>359530.102104</td>\n",
              "      <td>333738.034904</td>\n",
              "      <td>385012.669471</td>\n",
              "    </tr>\n",
              "    <tr>\n",
              "      <th>523</th>\n",
              "      <td>2021-06-28</td>\n",
              "      <td>361515.372031</td>\n",
              "      <td>333546.239143</td>\n",
              "      <td>386071.498968</td>\n",
              "    </tr>\n",
              "    <tr>\n",
              "      <th>524</th>\n",
              "      <td>2021-06-29</td>\n",
              "      <td>363597.448301</td>\n",
              "      <td>339056.430905</td>\n",
              "      <td>389479.207376</td>\n",
              "    </tr>\n",
              "    <tr>\n",
              "      <th>525</th>\n",
              "      <td>2021-06-30</td>\n",
              "      <td>365684.619228</td>\n",
              "      <td>339871.238943</td>\n",
              "      <td>389713.521696</td>\n",
              "    </tr>\n",
              "    <tr>\n",
              "      <th>526</th>\n",
              "      <td>2021-07-01</td>\n",
              "      <td>367200.993997</td>\n",
              "      <td>340173.563387</td>\n",
              "      <td>391852.213201</td>\n",
              "    </tr>\n",
              "  </tbody>\n",
              "</table>\n",
              "</div>"
            ],
            "text/plain": [
              "            ds           yhat     yhat_lower     yhat_upper\n",
              "522 2021-06-27  359530.102104  333738.034904  385012.669471\n",
              "523 2021-06-28  361515.372031  333546.239143  386071.498968\n",
              "524 2021-06-29  363597.448301  339056.430905  389479.207376\n",
              "525 2021-06-30  365684.619228  339871.238943  389713.521696\n",
              "526 2021-07-01  367200.993997  340173.563387  391852.213201"
            ]
          },
          "metadata": {
            "tags": []
          },
          "execution_count": 164
        }
      ]
    },
    {
      "cell_type": "code",
      "metadata": {
        "colab": {
          "base_uri": "https://localhost:8080/",
          "height": 202
        },
        "id": "1Lv3zbjXFHWB",
        "outputId": "a6e02889-7b2f-481d-ca0b-e2edb1794c37"
      },
      "source": [
        "#predicting the future RECOVERED cases with date, and upper and lower limit of y value\n",
        "forecast3 = prop3.predict(future3)\n",
        "forecast3[['ds', 'yhat', 'yhat_lower', 'yhat_upper']].tail()"
      ],
      "execution_count": null,
      "outputs": [
        {
          "output_type": "execute_result",
          "data": {
            "text/html": [
              "<div>\n",
              "<style scoped>\n",
              "    .dataframe tbody tr th:only-of-type {\n",
              "        vertical-align: middle;\n",
              "    }\n",
              "\n",
              "    .dataframe tbody tr th {\n",
              "        vertical-align: top;\n",
              "    }\n",
              "\n",
              "    .dataframe thead th {\n",
              "        text-align: right;\n",
              "    }\n",
              "</style>\n",
              "<table border=\"1\" class=\"dataframe\">\n",
              "  <thead>\n",
              "    <tr style=\"text-align: right;\">\n",
              "      <th></th>\n",
              "      <th>ds</th>\n",
              "      <th>yhat</th>\n",
              "      <th>yhat_lower</th>\n",
              "      <th>yhat_upper</th>\n",
              "    </tr>\n",
              "  </thead>\n",
              "  <tbody>\n",
              "    <tr>\n",
              "      <th>522</th>\n",
              "      <td>2021-06-27</td>\n",
              "      <td>2.804352e+07</td>\n",
              "      <td>2.594841e+07</td>\n",
              "      <td>3.002284e+07</td>\n",
              "    </tr>\n",
              "    <tr>\n",
              "      <th>523</th>\n",
              "      <td>2021-06-28</td>\n",
              "      <td>2.821573e+07</td>\n",
              "      <td>2.637556e+07</td>\n",
              "      <td>3.049713e+07</td>\n",
              "    </tr>\n",
              "    <tr>\n",
              "      <th>524</th>\n",
              "      <td>2021-06-29</td>\n",
              "      <td>2.838631e+07</td>\n",
              "      <td>2.636524e+07</td>\n",
              "      <td>3.049830e+07</td>\n",
              "    </tr>\n",
              "    <tr>\n",
              "      <th>525</th>\n",
              "      <td>2021-06-30</td>\n",
              "      <td>2.855818e+07</td>\n",
              "      <td>2.656468e+07</td>\n",
              "      <td>3.054839e+07</td>\n",
              "    </tr>\n",
              "    <tr>\n",
              "      <th>526</th>\n",
              "      <td>2021-07-01</td>\n",
              "      <td>2.869824e+07</td>\n",
              "      <td>2.674168e+07</td>\n",
              "      <td>3.080152e+07</td>\n",
              "    </tr>\n",
              "  </tbody>\n",
              "</table>\n",
              "</div>"
            ],
            "text/plain": [
              "            ds          yhat    yhat_lower    yhat_upper\n",
              "522 2021-06-27  2.804352e+07  2.594841e+07  3.002284e+07\n",
              "523 2021-06-28  2.821573e+07  2.637556e+07  3.049713e+07\n",
              "524 2021-06-29  2.838631e+07  2.636524e+07  3.049830e+07\n",
              "525 2021-06-30  2.855818e+07  2.656468e+07  3.054839e+07\n",
              "526 2021-07-01  2.869824e+07  2.674168e+07  3.080152e+07"
            ]
          },
          "metadata": {
            "tags": []
          },
          "execution_count": 165
        }
      ]
    },
    {
      "cell_type": "markdown",
      "metadata": {
        "id": "enm8s3o_UkVl"
      },
      "source": [
        "###Plot of Prediction Curves"
      ]
    },
    {
      "cell_type": "markdown",
      "metadata": {
        "id": "y8ml_9qBF_BS"
      },
      "source": [
        "Confirmed Forecast"
      ]
    },
    {
      "cell_type": "code",
      "metadata": {
        "id": "v-oye_uyT_Ym",
        "colab": {
          "base_uri": "https://localhost:8080/",
          "height": 441
        },
        "outputId": "b0c675d0-8c65-4729-d816-48807696c2bb"
      },
      "source": [
        "#Required Plot\n",
        "confirmed_forecast_plot = prop.plot(forecast) "
      ],
      "execution_count": null,
      "outputs": [
        {
          "output_type": "display_data",
          "data": {
            "image/png": "[encoded data removed]",
            "text/plain": [
              "<Figure size 720x432 with 1 Axes>"
            ]
          },
          "metadata": {
            "tags": []
          }
        }
      ]
    },
    {
      "cell_type": "code",
      "metadata": {
        "id": "3OhnUMafUG3i",
        "colab": {
          "base_uri": "https://localhost:8080/",
          "height": 441
        },
        "outputId": "3d06576d-4ae0-4baf-e484-b493147fa913"
      },
      "source": [
        "#plotting the components\n",
        "confirmed_forecast_plot =prop.plot_components(forecast) "
      ],
      "execution_count": null,
      "outputs": [
        {
          "output_type": "display_data",
          "data": {
            "image/png": "[encoded data removed]",
            "text/plain": [
              "<Figure size 648x432 with 2 Axes>"
            ]
          },
          "metadata": {
            "tags": []
          }
        }
      ]
    },
    {
      "cell_type": "markdown",
      "metadata": {
        "id": "aGBPeoz-GHub"
      },
      "source": [
        "Death Forecast"
      ]
    },
    {
      "cell_type": "code",
      "metadata": {
        "colab": {
          "base_uri": "https://localhost:8080/",
          "height": 441
        },
        "id": "0DK_XHCNGL6T",
        "outputId": "ef7914f3-f060-40dd-d956-1f0d3f432df6"
      },
      "source": [
        "#Required Plot\n",
        "death_forecast_plot = prop2.plot(forecast2)"
      ],
      "execution_count": null,
      "outputs": [
        {
          "output_type": "display_data",
          "data": {
            "image/png": "[encoded data removed]",
            "text/plain": [
              "<Figure size 720x432 with 1 Axes>"
            ]
          },
          "metadata": {
            "tags": []
          }
        }
      ]
    },
    {
      "cell_type": "code",
      "metadata": {
        "colab": {
          "base_uri": "https://localhost:8080/",
          "height": 441
        },
        "id": "aIAt8p8xGQ_n",
        "outputId": "466c51fc-c7f2-4a60-87a4-1f36c924ce3e"
      },
      "source": [
        "#plotting the components\n",
        "death_forecast_plot =prop2.plot_components(forecast2)"
      ],
      "execution_count": null,
      "outputs": [
        {
          "output_type": "display_data",
          "data": {
            "image/png": "[encoded data removed]",
            "text/plain": [
              "<Figure size 648x432 with 2 Axes>"
            ]
          },
          "metadata": {
            "tags": []
          }
        }
      ]
    },
    {
      "cell_type": "markdown",
      "metadata": {
        "id": "zIvfpA1PGZyE"
      },
      "source": [
        "Recovered forecast"
      ]
    },
    {
      "cell_type": "code",
      "metadata": {
        "colab": {
          "base_uri": "https://localhost:8080/",
          "height": 441
        },
        "id": "ILJsfbBBGdfb",
        "outputId": "7a8b5b6d-eb92-4a1f-d411-63ed214de5de"
      },
      "source": [
        "#Required Plot\n",
        "recovered_forecast_plot = prop3.plot(forecast3)"
      ],
      "execution_count": null,
      "outputs": [
        {
          "output_type": "display_data",
          "data": {
            "image/png": "[encoded data removed]",
            "text/plain": [
              "<Figure size 720x432 with 1 Axes>"
            ]
          },
          "metadata": {
            "tags": []
          }
        }
      ]
    },
    {
      "cell_type": "code",
      "metadata": {
        "colab": {
          "base_uri": "https://localhost:8080/",
          "height": 441
        },
        "id": "RUTn9ZXHGiqW",
        "outputId": "27fedc4a-38ec-47e8-b2c7-7fe2f678c11e"
      },
      "source": [
        "#plotting the components\n",
        "recovered_forecast_plot =prop3.plot_components(forecast3)"
      ],
      "execution_count": null,
      "outputs": [
        {
          "output_type": "display_data",
          "data": {
            "image/png": "[encoded data removed]",
            "text/plain": [
              "<Figure size 648x432 with 2 Axes>"
            ]
          },
          "metadata": {
            "tags": []
          }
        }
      ]
    },
    {
      "cell_type": "markdown",
      "metadata": {
        "id": "36LzwPXSOqHf"
      },
      "source": [
        "###Performance Metrics"
      ]
    },
    {
      "cell_type": "markdown",
      "metadata": {
        "id": "d45kmXjcG7jF"
      },
      "source": [
        "Here analysed the performance metrics of *Recovered Cases Forecasting* only"
      ]
    },
    {
      "cell_type": "code",
      "metadata": {
        "id": "plJO--jcBoQO",
        "colab": {
          "base_uri": "https://localhost:8080/",
          "height": 268,
          "referenced_widgets": [
            "e828512ab20448f996db38ed34e2ce76",
            "91264037f25c4ad9958a8dd6dd8b6369",
            "17c61e1b215a4a268002b6260a6b255c",
            "6786bedb039f471890de5c3eca4c92a0",
            "29b4f53abbde4388901c194dda7cebfc",
            "5660ab2968eb4bc5b28e8ac199e07694",
            "0461f86072274febaa2fd0552f17979e",
            "05693611fb2d45439fe2ba2380718cdf"
          ]
        },
        "outputId": "03e57365-67c3-4127-86b0-50b95f46fb68"
      },
      "source": [
        "from prophet.diagnostics import cross_validation\n",
        "df_cv = cross_validation(prop, initial='248 days', period='15 days', horizon = '90 days')\n",
        "df_cv.head()"
      ],
      "execution_count": null,
      "outputs": [
        {
          "output_type": "stream",
          "text": [
            "INFO:prophet:Making 12 forecasts with cutoffs between 2020-10-04 00:00:00 and 2021-03-18 00:00:00\n"
          ],
          "name": "stderr"
        },
        {
          "output_type": "display_data",
          "data": {
            "application/vnd.jupyter.widget-view+json": {
              "model_id": "e828512ab20448f996db38ed34e2ce76",
              "version_minor": 0,
              "version_major": 2
            },
            "text/plain": [
              "HBox(children=(FloatProgress(value=0.0, max=12.0), HTML(value='')))"
            ]
          },
          "metadata": {
            "tags": []
          }
        },
        {
          "output_type": "stream",
          "text": [
            "\n"
          ],
          "name": "stdout"
        },
        {
          "output_type": "execute_result",
          "data": {
            "text/html": [
              "<div>\n",
              "<style scoped>\n",
              "    .dataframe tbody tr th:only-of-type {\n",
              "        vertical-align: middle;\n",
              "    }\n",
              "\n",
              "    .dataframe tbody tr th {\n",
              "        vertical-align: top;\n",
              "    }\n",
              "\n",
              "    .dataframe thead th {\n",
              "        text-align: right;\n",
              "    }\n",
              "</style>\n",
              "<table border=\"1\" class=\"dataframe\">\n",
              "  <thead>\n",
              "    <tr style=\"text-align: right;\">\n",
              "      <th></th>\n",
              "      <th>ds</th>\n",
              "      <th>yhat</th>\n",
              "      <th>yhat_lower</th>\n",
              "      <th>yhat_upper</th>\n",
              "      <th>y</th>\n",
              "      <th>cutoff</th>\n",
              "    </tr>\n",
              "  </thead>\n",
              "  <tbody>\n",
              "    <tr>\n",
              "      <th>0</th>\n",
              "      <td>2020-10-05</td>\n",
              "      <td>6.667136e+06</td>\n",
              "      <td>6.597275e+06</td>\n",
              "      <td>6.731098e+06</td>\n",
              "      <td>6685082</td>\n",
              "      <td>2020-10-04</td>\n",
              "    </tr>\n",
              "    <tr>\n",
              "      <th>1</th>\n",
              "      <td>2020-10-06</td>\n",
              "      <td>6.748188e+06</td>\n",
              "      <td>6.676172e+06</td>\n",
              "      <td>6.816500e+06</td>\n",
              "      <td>6757131</td>\n",
              "      <td>2020-10-04</td>\n",
              "    </tr>\n",
              "    <tr>\n",
              "      <th>2</th>\n",
              "      <td>2020-10-07</td>\n",
              "      <td>6.831703e+06</td>\n",
              "      <td>6.765616e+06</td>\n",
              "      <td>6.901061e+06</td>\n",
              "      <td>6835655</td>\n",
              "      <td>2020-10-04</td>\n",
              "    </tr>\n",
              "    <tr>\n",
              "      <th>3</th>\n",
              "      <td>2020-10-08</td>\n",
              "      <td>6.915091e+06</td>\n",
              "      <td>6.847748e+06</td>\n",
              "      <td>6.984946e+06</td>\n",
              "      <td>6906151</td>\n",
              "      <td>2020-10-04</td>\n",
              "    </tr>\n",
              "    <tr>\n",
              "      <th>4</th>\n",
              "      <td>2020-10-09</td>\n",
              "      <td>6.997772e+06</td>\n",
              "      <td>6.927125e+06</td>\n",
              "      <td>7.066859e+06</td>\n",
              "      <td>6979423</td>\n",
              "      <td>2020-10-04</td>\n",
              "    </tr>\n",
              "  </tbody>\n",
              "</table>\n",
              "</div>"
            ],
            "text/plain": [
              "          ds          yhat    yhat_lower    yhat_upper        y     cutoff\n",
              "0 2020-10-05  6.667136e+06  6.597275e+06  6.731098e+06  6685082 2020-10-04\n",
              "1 2020-10-06  6.748188e+06  6.676172e+06  6.816500e+06  6757131 2020-10-04\n",
              "2 2020-10-07  6.831703e+06  6.765616e+06  6.901061e+06  6835655 2020-10-04\n",
              "3 2020-10-08  6.915091e+06  6.847748e+06  6.984946e+06  6906151 2020-10-04\n",
              "4 2020-10-09  6.997772e+06  6.927125e+06  7.066859e+06  6979423 2020-10-04"
            ]
          },
          "metadata": {
            "tags": []
          },
          "execution_count": 172
        }
      ]
    },
    {
      "cell_type": "code",
      "metadata": {
        "colab": {
          "base_uri": "https://localhost:8080/",
          "height": 405,
          "referenced_widgets": [
            "8924b9bc924c42ce829c9b60e8998307",
            "886e2b0bf8204158bfdb344fef23ed16",
            "a15f8291f4974a7f97d8b01fd1bffd38",
            "8de8b6681bca40ef9872f2cf7dddcc83",
            "f95d9796c1f5483995114cf6641a3d23",
            "cfd47e7b04d04df5ac265456b5af6020",
            "9e489977ae03485eb2f86e243c44b488",
            "69d85514a4544593ae9a0c9e4396d1b6"
          ]
        },
        "id": "TMNoT5NMQjcG",
        "outputId": "a8ce5cfe-cf13-4472-8840-abb56f73c01f"
      },
      "source": [
        "#custom cutoffs\n",
        "cutoffs = pd.to_datetime(['2020-11-20', '2020-11-25', '2020-11-30'])\n",
        "df_cv2 = cross_validation(prop, cutoffs=cutoffs, horizon='10 days')\n",
        "df_cv2.head(10)"
      ],
      "execution_count": null,
      "outputs": [
        {
          "output_type": "display_data",
          "data": {
            "application/vnd.jupyter.widget-view+json": {
              "model_id": "8924b9bc924c42ce829c9b60e8998307",
              "version_minor": 0,
              "version_major": 2
            },
            "text/plain": [
              "HBox(children=(FloatProgress(value=0.0, max=3.0), HTML(value='')))"
            ]
          },
          "metadata": {
            "tags": []
          }
        },
        {
          "output_type": "stream",
          "text": [
            "\n"
          ],
          "name": "stdout"
        },
        {
          "output_type": "execute_result",
          "data": {
            "text/html": [
              "<div>\n",
              "<style scoped>\n",
              "    .dataframe tbody tr th:only-of-type {\n",
              "        vertical-align: middle;\n",
              "    }\n",
              "\n",
              "    .dataframe tbody tr th {\n",
              "        vertical-align: top;\n",
              "    }\n",
              "\n",
              "    .dataframe thead th {\n",
              "        text-align: right;\n",
              "    }\n",
              "</style>\n",
              "<table border=\"1\" class=\"dataframe\">\n",
              "  <thead>\n",
              "    <tr style=\"text-align: right;\">\n",
              "      <th></th>\n",
              "      <th>ds</th>\n",
              "      <th>yhat</th>\n",
              "      <th>yhat_lower</th>\n",
              "      <th>yhat_upper</th>\n",
              "      <th>y</th>\n",
              "      <th>cutoff</th>\n",
              "    </tr>\n",
              "  </thead>\n",
              "  <tbody>\n",
              "    <tr>\n",
              "      <th>0</th>\n",
              "      <td>2020-11-21</td>\n",
              "      <td>9.376678e+06</td>\n",
              "      <td>9.239971e+06</td>\n",
              "      <td>9.507644e+06</td>\n",
              "      <td>9095806</td>\n",
              "      <td>2020-11-20</td>\n",
              "    </tr>\n",
              "    <tr>\n",
              "      <th>1</th>\n",
              "      <td>2020-11-22</td>\n",
              "      <td>9.434295e+06</td>\n",
              "      <td>9.297215e+06</td>\n",
              "      <td>9.574288e+06</td>\n",
              "      <td>9139865</td>\n",
              "      <td>2020-11-20</td>\n",
              "    </tr>\n",
              "    <tr>\n",
              "      <th>2</th>\n",
              "      <td>2020-11-23</td>\n",
              "      <td>9.489501e+06</td>\n",
              "      <td>9.359785e+06</td>\n",
              "      <td>9.615454e+06</td>\n",
              "      <td>9177840</td>\n",
              "      <td>2020-11-20</td>\n",
              "    </tr>\n",
              "    <tr>\n",
              "      <th>3</th>\n",
              "      <td>2020-11-24</td>\n",
              "      <td>9.547500e+06</td>\n",
              "      <td>9.407006e+06</td>\n",
              "      <td>9.684932e+06</td>\n",
              "      <td>9222216</td>\n",
              "      <td>2020-11-20</td>\n",
              "    </tr>\n",
              "    <tr>\n",
              "      <th>4</th>\n",
              "      <td>2020-11-25</td>\n",
              "      <td>9.607619e+06</td>\n",
              "      <td>9.461678e+06</td>\n",
              "      <td>9.739534e+06</td>\n",
              "      <td>9266705</td>\n",
              "      <td>2020-11-20</td>\n",
              "    </tr>\n",
              "    <tr>\n",
              "      <th>5</th>\n",
              "      <td>2020-11-26</td>\n",
              "      <td>9.667098e+06</td>\n",
              "      <td>9.534917e+06</td>\n",
              "      <td>9.815542e+06</td>\n",
              "      <td>9309787</td>\n",
              "      <td>2020-11-20</td>\n",
              "    </tr>\n",
              "    <tr>\n",
              "      <th>6</th>\n",
              "      <td>2020-11-27</td>\n",
              "      <td>9.726525e+06</td>\n",
              "      <td>9.583449e+06</td>\n",
              "      <td>9.878476e+06</td>\n",
              "      <td>9351109</td>\n",
              "      <td>2020-11-20</td>\n",
              "    </tr>\n",
              "    <tr>\n",
              "      <th>7</th>\n",
              "      <td>2020-11-28</td>\n",
              "      <td>9.791957e+06</td>\n",
              "      <td>9.648967e+06</td>\n",
              "      <td>9.928966e+06</td>\n",
              "      <td>9392919</td>\n",
              "      <td>2020-11-20</td>\n",
              "    </tr>\n",
              "    <tr>\n",
              "      <th>8</th>\n",
              "      <td>2020-11-29</td>\n",
              "      <td>9.849574e+06</td>\n",
              "      <td>9.696569e+06</td>\n",
              "      <td>1.000289e+07</td>\n",
              "      <td>9431691</td>\n",
              "      <td>2020-11-20</td>\n",
              "    </tr>\n",
              "    <tr>\n",
              "      <th>9</th>\n",
              "      <td>2020-11-30</td>\n",
              "      <td>9.904780e+06</td>\n",
              "      <td>9.749472e+06</td>\n",
              "      <td>1.006964e+07</td>\n",
              "      <td>9462809</td>\n",
              "      <td>2020-11-20</td>\n",
              "    </tr>\n",
              "  </tbody>\n",
              "</table>\n",
              "</div>"
            ],
            "text/plain": [
              "          ds          yhat    yhat_lower    yhat_upper        y     cutoff\n",
              "0 2020-11-21  9.376678e+06  9.239971e+06  9.507644e+06  9095806 2020-11-20\n",
              "1 2020-11-22  9.434295e+06  9.297215e+06  9.574288e+06  9139865 2020-11-20\n",
              "2 2020-11-23  9.489501e+06  9.359785e+06  9.615454e+06  9177840 2020-11-20\n",
              "3 2020-11-24  9.547500e+06  9.407006e+06  9.684932e+06  9222216 2020-11-20\n",
              "4 2020-11-25  9.607619e+06  9.461678e+06  9.739534e+06  9266705 2020-11-20\n",
              "5 2020-11-26  9.667098e+06  9.534917e+06  9.815542e+06  9309787 2020-11-20\n",
              "6 2020-11-27  9.726525e+06  9.583449e+06  9.878476e+06  9351109 2020-11-20\n",
              "7 2020-11-28  9.791957e+06  9.648967e+06  9.928966e+06  9392919 2020-11-20\n",
              "8 2020-11-29  9.849574e+06  9.696569e+06  1.000289e+07  9431691 2020-11-20\n",
              "9 2020-11-30  9.904780e+06  9.749472e+06  1.006964e+07  9462809 2020-11-20"
            ]
          },
          "metadata": {
            "tags": []
          },
          "execution_count": 173
        }
      ]
    },
    {
      "cell_type": "code",
      "metadata": {
        "id": "tPUh70MEMlV4",
        "colab": {
          "base_uri": "https://localhost:8080/",
          "height": 202
        },
        "outputId": "430ce79f-3a42-4124-f0fc-ccce8df4958f"
      },
      "source": [
        "from prophet.diagnostics import performance_metrics\n",
        "#To compute useful statistics of prediction performance\n",
        "df_p = performance_metrics(df_cv2)\n",
        "df_p.head()"
      ],
      "execution_count": null,
      "outputs": [
        {
          "output_type": "execute_result",
          "data": {
            "text/html": [
              "<div>\n",
              "<style scoped>\n",
              "    .dataframe tbody tr th:only-of-type {\n",
              "        vertical-align: middle;\n",
              "    }\n",
              "\n",
              "    .dataframe tbody tr th {\n",
              "        vertical-align: top;\n",
              "    }\n",
              "\n",
              "    .dataframe thead th {\n",
              "        text-align: right;\n",
              "    }\n",
              "</style>\n",
              "<table border=\"1\" class=\"dataframe\">\n",
              "  <thead>\n",
              "    <tr style=\"text-align: right;\">\n",
              "      <th></th>\n",
              "      <th>horizon</th>\n",
              "      <th>mse</th>\n",
              "      <th>rmse</th>\n",
              "      <th>mae</th>\n",
              "      <th>mape</th>\n",
              "      <th>mdape</th>\n",
              "      <th>smape</th>\n",
              "      <th>coverage</th>\n",
              "    </tr>\n",
              "  </thead>\n",
              "  <tbody>\n",
              "    <tr>\n",
              "      <th>0</th>\n",
              "      <td>1 days</td>\n",
              "      <td>5.641391e+10</td>\n",
              "      <td>237516.130251</td>\n",
              "      <td>235016.886929</td>\n",
              "      <td>0.025339</td>\n",
              "      <td>0.024279</td>\n",
              "      <td>0.025014</td>\n",
              "      <td>0.0</td>\n",
              "    </tr>\n",
              "    <tr>\n",
              "      <th>1</th>\n",
              "      <td>2 days</td>\n",
              "      <td>6.395090e+10</td>\n",
              "      <td>252885.160069</td>\n",
              "      <td>250780.837610</td>\n",
              "      <td>0.026912</td>\n",
              "      <td>0.025841</td>\n",
              "      <td>0.026547</td>\n",
              "      <td>0.0</td>\n",
              "    </tr>\n",
              "    <tr>\n",
              "      <th>2</th>\n",
              "      <td>3 days</td>\n",
              "      <td>7.222244e+10</td>\n",
              "      <td>268742.338132</td>\n",
              "      <td>266687.017480</td>\n",
              "      <td>0.028497</td>\n",
              "      <td>0.027230</td>\n",
              "      <td>0.028089</td>\n",
              "      <td>0.0</td>\n",
              "    </tr>\n",
              "    <tr>\n",
              "      <th>3</th>\n",
              "      <td>4 days</td>\n",
              "      <td>8.048879e+10</td>\n",
              "      <td>283705.466654</td>\n",
              "      <td>281892.545986</td>\n",
              "      <td>0.029987</td>\n",
              "      <td>0.028778</td>\n",
              "      <td>0.029537</td>\n",
              "      <td>0.0</td>\n",
              "    </tr>\n",
              "    <tr>\n",
              "      <th>4</th>\n",
              "      <td>5 days</td>\n",
              "      <td>9.052650e+10</td>\n",
              "      <td>300876.227071</td>\n",
              "      <td>299245.848530</td>\n",
              "      <td>0.031702</td>\n",
              "      <td>0.030781</td>\n",
              "      <td>0.031200</td>\n",
              "      <td>0.0</td>\n",
              "    </tr>\n",
              "  </tbody>\n",
              "</table>\n",
              "</div>"
            ],
            "text/plain": [
              "  horizon           mse           rmse  ...     mdape     smape  coverage\n",
              "0  1 days  5.641391e+10  237516.130251  ...  0.024279  0.025014       0.0\n",
              "1  2 days  6.395090e+10  252885.160069  ...  0.025841  0.026547       0.0\n",
              "2  3 days  7.222244e+10  268742.338132  ...  0.027230  0.028089       0.0\n",
              "3  4 days  8.048879e+10  283705.466654  ...  0.028778  0.029537       0.0\n",
              "4  5 days  9.052650e+10  300876.227071  ...  0.030781  0.031200       0.0\n",
              "\n",
              "[5 rows x 8 columns]"
            ]
          },
          "metadata": {
            "tags": []
          },
          "execution_count": 174
        }
      ]
    },
    {
      "cell_type": "code",
      "metadata": {
        "id": "4BBEn74oCaVf",
        "colab": {
          "base_uri": "https://localhost:8080/",
          "height": 391
        },
        "outputId": "3d575d05-d598-407f-ca83-ab88e278b40b"
      },
      "source": [
        "#can check for mse, rmse, mae, mape, mdape, smape plots\n",
        "from prophet.plot import plot_cross_validation_metric\n",
        "fig = plot_cross_validation_metric(df_cv2, metric='mape')\n"
      ],
      "execution_count": null,
      "outputs": [
        {
          "output_type": "display_data",
          "data": {
            "image/png": "[encoded data removed]",
            "text/plain": [
              "<Figure size 720x432 with 1 Axes>"
            ]
          },
          "metadata": {
            "tags": []
          }
        }
      ]
    },
    {
      "cell_type": "markdown",
      "metadata": {
        "id": "uAMs5AQnU1KH"
      },
      "source": [
        "## **ARIMA**"
      ]
    },
    {
      "cell_type": "code",
      "metadata": {
        "colab": {
          "base_uri": "https://localhost:8080/"
        },
        "id": "p1Zze82Fkpun",
        "outputId": "162d410f-5094-4bfe-ffcf-6b61010d5d94"
      },
      "source": [
        "!pip install pmdarima"
      ],
      "execution_count": null,
      "outputs": [
        {
          "output_type": "stream",
          "text": [
            "Requirement already satisfied: pmdarima in /usr/local/lib/python3.7/dist-packages (1.8.2)\n",
            "Requirement already satisfied: urllib3 in /usr/local/lib/python3.7/dist-packages (from pmdarima) (1.24.3)\n",
            "Requirement already satisfied: scikit-learn>=0.22 in /usr/local/lib/python3.7/dist-packages (from pmdarima) (0.22.2.post1)\n",
            "Requirement already satisfied: numpy~=1.19.0 in /usr/local/lib/python3.7/dist-packages (from pmdarima) (1.19.5)\n",
            "Requirement already satisfied: statsmodels!=0.12.0,>=0.11 in /usr/local/lib/python3.7/dist-packages (from pmdarima) (0.12.2)\n",
            "Requirement already satisfied: pandas>=0.19 in /usr/local/lib/python3.7/dist-packages (from pmdarima) (1.1.5)\n",
            "Requirement already satisfied: setuptools!=50.0.0,>=38.6.0 in /usr/local/lib/python3.7/dist-packages (from pmdarima) (57.0.0)\n",
            "Requirement already satisfied: scipy>=1.3.2 in /usr/local/lib/python3.7/dist-packages (from pmdarima) (1.4.1)\n",
            "Requirement already satisfied: Cython!=0.29.18,>=0.29 in /usr/local/lib/python3.7/dist-packages (from pmdarima) (0.29.23)\n",
            "Requirement already satisfied: joblib>=0.11 in /usr/local/lib/python3.7/dist-packages (from pmdarima) (1.0.1)\n",
            "Requirement already satisfied: patsy>=0.5 in /usr/local/lib/python3.7/dist-packages (from statsmodels!=0.12.0,>=0.11->pmdarima) (0.5.1)\n",
            "Requirement already satisfied: pytz>=2017.2 in /usr/local/lib/python3.7/dist-packages (from pandas>=0.19->pmdarima) (2018.9)\n",
            "Requirement already satisfied: python-dateutil>=2.7.3 in /usr/local/lib/python3.7/dist-packages (from pandas>=0.19->pmdarima) (2.8.1)\n",
            "Requirement already satisfied: six in /usr/local/lib/python3.7/dist-packages (from patsy>=0.5->statsmodels!=0.12.0,>=0.11->pmdarima) (1.15.0)\n"
          ],
          "name": "stdout"
        }
      ]
    },
    {
      "cell_type": "code",
      "metadata": {
        "id": "hBHrjrLpU64E",
        "colab": {
          "base_uri": "https://localhost:8080/",
          "height": 636
        },
        "outputId": "320ddbb6-77a2-4888-b106-070d8bf0ecfa"
      },
      "source": [
        "from statsmodels.tsa.arima_model import ARIMA\n",
        "\n",
        "from datetime import timedelta \n",
        "\n",
        "arima = ARIMA(data['y'], order=(5, 1, 0)) #(P,D,Q) #RSS is best\n",
        "arima = arima.fit(trend='c', full_output=True, disp=True) #try for series format\n",
        "forecast = arima.forecast(steps= 15)\n",
        "pred = list(forecast[0])\n",
        "\n",
        "start_date = data['ds'].max()\n",
        "prediction_dates = []\n",
        "for i in range(15):\n",
        "    date = start_date + timedelta(days=1)\n",
        "    prediction_dates.append(date)\n",
        "    start_date = date\n",
        "plt.figure(figsize= (15,10))\n",
        "plt.xlabel(\"Dates\",fontsize = 20)\n",
        "plt.ylabel('Total cases',fontsize = 20)\n",
        "plt.title(\"Predicted Values for the next 15 Days\" , fontsize = 20)\n",
        "\n",
        "plt.plot_date(y= pred,x= prediction_dates,linestyle ='dashed',color = '#ff9999',label = 'Predicted');\n",
        "plt.plot_date(y=data['y'],x=data['ds'],linestyle = '-',color = 'blue',label = 'Actual');\n",
        "plt.legend();"
      ],
      "execution_count": null,
      "outputs": [
        {
          "output_type": "display_data",
          "data": {
            "image/png": "[encoded data removed]",
            "text/plain": [
              "<Figure size 1080x720 with 1 Axes>"
            ]
          },
          "metadata": {
            "tags": [],
            "needs_background": "light"
          }
        }
      ]
    },
    {
      "cell_type": "code",
      "metadata": {
        "id": "i0KXbCtMbnSP",
        "colab": {
          "base_uri": "https://localhost:8080/",
          "height": 441
        },
        "outputId": "522871cb-abd0-49ea-aefa-e8c2305931a2"
      },
      "source": [
        "#check\n",
        "arima.summary()"
      ],
      "execution_count": null,
      "outputs": [
        {
          "output_type": "execute_result",
          "data": {
            "text/html": [
              "<table class=\"simpletable\">\n",
              "<caption>ARIMA Model Results</caption>\n",
              "<tr>\n",
              "  <th>Dep. Variable:</th>        <td>D.y</td>       <th>  No. Observations:  </th>    <td>511</td>   \n",
              "</tr>\n",
              "<tr>\n",
              "  <th>Model:</th>          <td>ARIMA(5, 1, 0)</td>  <th>  Log Likelihood     </th> <td>-5295.295</td>\n",
              "</tr>\n",
              "<tr>\n",
              "  <th>Method:</th>             <td>css-mle</td>     <th>  S.D. of innovations</th> <td>7623.030</td> \n",
              "</tr>\n",
              "<tr>\n",
              "  <th>Date:</th>          <td>Thu, 17 Jun 2021</td> <th>  AIC                </th> <td>10604.591</td>\n",
              "</tr>\n",
              "<tr>\n",
              "  <th>Time:</th>              <td>15:27:17</td>     <th>  BIC                </th> <td>10634.246</td>\n",
              "</tr>\n",
              "<tr>\n",
              "  <th>Sample:</th>                <td>1</td>        <th>  HQIC               </th> <td>10616.217</td>\n",
              "</tr>\n",
              "<tr>\n",
              "  <th></th>                       <td> </td>        <th>                     </th>     <td> </td>    \n",
              "</tr>\n",
              "</table>\n",
              "<table class=\"simpletable\">\n",
              "<tr>\n",
              "      <td></td>         <th>coef</th>     <th>std err</th>      <th>z</th>      <th>P>|z|</th>  <th>[0.025</th>    <th>0.975]</th>  \n",
              "</tr>\n",
              "<tr>\n",
              "  <th>const</th>     <td> 5.812e+04</td> <td> 4.44e+04</td> <td>    1.309</td> <td> 0.191</td> <td>-2.89e+04</td> <td> 1.45e+05</td>\n",
              "</tr>\n",
              "<tr>\n",
              "  <th>ar.L1.D.y</th> <td>    1.1406</td> <td>    0.044</td> <td>   25.874</td> <td> 0.000</td> <td>    1.054</td> <td>    1.227</td>\n",
              "</tr>\n",
              "<tr>\n",
              "  <th>ar.L2.D.y</th> <td>   -0.2116</td> <td>    0.067</td> <td>   -3.161</td> <td> 0.002</td> <td>   -0.343</td> <td>   -0.080</td>\n",
              "</tr>\n",
              "<tr>\n",
              "  <th>ar.L3.D.y</th> <td>    0.2183</td> <td>    0.067</td> <td>    3.265</td> <td> 0.001</td> <td>    0.087</td> <td>    0.349</td>\n",
              "</tr>\n",
              "<tr>\n",
              "  <th>ar.L4.D.y</th> <td>   -0.0830</td> <td>    0.067</td> <td>   -1.241</td> <td> 0.215</td> <td>   -0.214</td> <td>    0.048</td>\n",
              "</tr>\n",
              "<tr>\n",
              "  <th>ar.L5.D.y</th> <td>   -0.0707</td> <td>    0.044</td> <td>   -1.603</td> <td> 0.110</td> <td>   -0.157</td> <td>    0.016</td>\n",
              "</tr>\n",
              "</table>\n",
              "<table class=\"simpletable\">\n",
              "<caption>Roots</caption>\n",
              "<tr>\n",
              "    <td></td>   <th>            Real</th>  <th>         Imaginary</th> <th>         Modulus</th>  <th>        Frequency</th>\n",
              "</tr>\n",
              "<tr>\n",
              "  <th>AR.1</th> <td>           1.0094</td> <td>          -0.0000j</td> <td>           1.0094</td> <td>          -0.0000</td>\n",
              "</tr>\n",
              "<tr>\n",
              "  <th>AR.2</th> <td>           1.5148</td> <td>          -0.0000j</td> <td>           1.5148</td> <td>          -0.0000</td>\n",
              "</tr>\n",
              "<tr>\n",
              "  <th>AR.3</th> <td>          -0.2821</td> <td>          -1.6946j</td> <td>           1.7179</td> <td>          -0.2763</td>\n",
              "</tr>\n",
              "<tr>\n",
              "  <th>AR.4</th> <td>          -0.2821</td> <td>          +1.6946j</td> <td>           1.7179</td> <td>           0.2763</td>\n",
              "</tr>\n",
              "<tr>\n",
              "  <th>AR.5</th> <td>          -3.1347</td> <td>          -0.0000j</td> <td>           3.1347</td> <td>          -0.5000</td>\n",
              "</tr>\n",
              "</table>"
            ],
            "text/plain": [
              "<class 'statsmodels.iolib.summary.Summary'>\n",
              "\"\"\"\n",
              "                             ARIMA Model Results                              \n",
              "==============================================================================\n",
              "Dep. Variable:                    D.y   No. Observations:                  511\n",
              "Model:                 ARIMA(5, 1, 0)   Log Likelihood               -5295.295\n",
              "Method:                       css-mle   S.D. of innovations           7623.030\n",
              "Date:                Thu, 17 Jun 2021   AIC                          10604.591\n",
              "Time:                        15:27:17   BIC                          10634.246\n",
              "Sample:                             1   HQIC                         10616.217\n",
              "                                                                              \n",
              "==============================================================================\n",
              "                 coef    std err          z      P>|z|      [0.025      0.975]\n",
              "------------------------------------------------------------------------------\n",
              "const       5.812e+04   4.44e+04      1.309      0.191   -2.89e+04    1.45e+05\n",
              "ar.L1.D.y      1.1406      0.044     25.874      0.000       1.054       1.227\n",
              "ar.L2.D.y     -0.2116      0.067     -3.161      0.002      -0.343      -0.080\n",
              "ar.L3.D.y      0.2183      0.067      3.265      0.001       0.087       0.349\n",
              "ar.L4.D.y     -0.0830      0.067     -1.241      0.215      -0.214       0.048\n",
              "ar.L5.D.y     -0.0707      0.044     -1.603      0.110      -0.157       0.016\n",
              "                                    Roots                                    \n",
              "=============================================================================\n",
              "                  Real          Imaginary           Modulus         Frequency\n",
              "-----------------------------------------------------------------------------\n",
              "AR.1            1.0094           -0.0000j            1.0094           -0.0000\n",
              "AR.2            1.5148           -0.0000j            1.5148           -0.0000\n",
              "AR.3           -0.2821           -1.6946j            1.7179           -0.2763\n",
              "AR.4           -0.2821           +1.6946j            1.7179            0.2763\n",
              "AR.5           -3.1347           -0.0000j            3.1347           -0.5000\n",
              "-----------------------------------------------------------------------------\n",
              "\"\"\""
            ]
          },
          "metadata": {
            "tags": []
          },
          "execution_count": 178
        }
      ]
    },
    {
      "cell_type": "code",
      "metadata": {
        "id": "296t7sd-jQmf"
      },
      "source": [
        "import pmdarima as pm\n",
        "\n",
        "#from pm import auto_arima\n",
        "#"
      ],
      "execution_count": null,
      "outputs": []
    },
    {
      "cell_type": "code",
      "metadata": {
        "id": "8GrDzp4OjnKb"
      },
      "source": [
        "stepwise_fit = auto_arima(data['y'],trace=True,suppress_warnings=True)\n",
        "stepwise_fit.summary()"
      ],
      "execution_count": null,
      "outputs": []
    },
    {
      "cell_type": "markdown",
      "metadata": {
        "id": "irHulc9yIT4a"
      },
      "source": [
        "#Part 3:  Exploring World wide data\n"
      ]
    },
    {
      "cell_type": "markdown",
      "metadata": {
        "id": "LgRRYCq3Vsgn"
      },
      "source": [
        "##3.1 Folium Map"
      ]
    },
    {
      "cell_type": "markdown",
      "metadata": {
        "id": "1BhXQzOcVKXs"
      },
      "source": [
        "###Spread in India - Total Confirmed"
      ]
    },
    {
      "cell_type": "code",
      "metadata": {
        "id": "_Efg_rIyViaP"
      },
      "source": [
        "#df_india is a copy from saved .csv file \n",
        "df_ind=df_india.copy()      #for reconstructing data"
      ],
      "execution_count": null,
      "outputs": []
    },
    {
      "cell_type": "code",
      "metadata": {
        "id": "IJDPPvuGVqpy"
      },
      "source": [
        "\n",
        "\n",
        "#  Use folium to create a zoomable map\n",
        "map = folium.Map(location=[20, 70], zoom_start=4,tiles='Stamenterrain')\n",
        "\n",
        "\n",
        "df_ind['confirmed']=df_ind['Active Cases*'] + (df_ind['Deaths']+df_ind['Cured/Discharged/Migrated*'])\n",
        "df_ind = df_ind.drop([7, 18, 31])    # delete those rows with no longitude and latitude\n",
        "\n",
        "for lat, lon, value, name in zip(df_ind['Latitude'], df_ind['Longitude'], df_ind['confirmed'], df_ind['State/UnionTerritory']):\n",
        "    folium.CircleMarker([lat, lon], radius=value*0.000005, popup = ('<strong>State</strong>: ' + str(name).capitalize() + '<br>''<strong>Total Cases</strong>: ' + str(value) + '<br>'),color='red',fill_color='red',fill_opacity=0.3 ).add_to(map)\n",
        "\n",
        "map"
      ],
      "execution_count": null,
      "outputs": []
    },
    {
      "cell_type": "markdown",
      "metadata": {
        "id": "nsct2rM9IVZP"
      },
      "source": [
        "## 3.2 Visualizing: Worldwide COVID-19 cases  "
      ]
    },
    {
      "cell_type": "code",
      "metadata": {
        "id": "4L82Fxs3IZUe"
      },
      "source": [
        "world_confirmed = confirmed_df[confirmed_df.columns[-1:]].sum()\n",
        "world_recovered = recovered_df[recovered_df.columns[-1:]].sum()\n",
        "world_deaths = deaths_df[deaths_df.columns[-1:]].sum()\n",
        "world_active = world_confirmed - (world_recovered - world_deaths)\n",
        "\n",
        "labels = ['Active','Recovered','Deceased']\n",
        "sizes = [world_active,world_recovered,world_deaths]\n",
        "color= ['blue','green','red']\n",
        "explode = []\n",
        "\n",
        "for i in labels:\n",
        "    explode.append(0.05)\n",
        "    \n",
        "plt.figure(figsize= (15,10))\n",
        "plt.pie(sizes, labels=labels, autopct='%1.1f%%', startangle=9, explode = explode,colors = color)\n",
        "centre_circle = plt.Circle((0,0),0.70,fc='white')\n",
        "\n",
        "fig = plt.gcf()\n",
        "fig.gca().add_artist(centre_circle)\n",
        "plt.title('World COVID-19 Cases',fontsize = 20)\n",
        "plt.axis('equal')  \n",
        "plt.tight_layout()"
      ],
      "execution_count": null,
      "outputs": []
    },
    {
      "cell_type": "code",
      "metadata": {
        "id": "EcsedDrhIdMx"
      },
      "source": [
        "dates\n"
      ],
      "execution_count": null,
      "outputs": []
    },
    {
      "cell_type": "code",
      "metadata": {
        "id": "z1gI4K8NIlcs"
      },
      "source": [
        "#####       Don't RUN\n",
        "\n",
        "hotspots = ['China','Germany','Iran','Italy','Spain','US','Brazil','United Kingdom','India','Korea, South','France']\n",
        "dates = list(confirmed_df.columns[4:])\n",
        "dates = list(pd.to_datetime(dates))\n",
        "dates_india = dates[8:]\n",
        "\n",
        "df1 = confirmed_df.groupby('Country/Region').sum().reset_index()\n",
        "df2 = deaths_df.groupby('Country/Region').sum().reset_index()\n",
        "df3 = recovered_df.groupby('Country/Region').sum().reset_index()\n",
        "\n",
        "global_confirmed = {}\n",
        "global_deaths = {}\n",
        "global_recovered = {}\n",
        "global_active= {}\n",
        "\n",
        "for country in hotspots:\n",
        "    k =df1[df1['Country/Region'] == country].loc[:,'1/30/20':]\n",
        "    global_confirmed[country] = k.values.tolist()[0]\n",
        "\n",
        "    k =df2[df2['Country/Region'] == country].loc[:,'1/30/20':]\n",
        "    global_deaths[country] = k.values.tolist()[0]\n",
        "\n",
        "    k =df3[df3['Country/Region'] == country].loc[:,'1/30/20':]\n",
        "    global_recovered[country] = k.values.tolist()[0]\n",
        "    \n",
        "# for country in hotspots:\n",
        "#     k = list(map(int.__sub__, global_confirmed[country], global_deaths[country]))\n",
        "#     global_active[country] = list(map(int.__sub__, k, global_recovered[country]))\n",
        "    \n",
        "fig = plt.figure(figsize= (15,25))\n",
        "plt.suptitle('Active, Recovered, Deaths in Hotspot Countries and India as of '+ today,fontsize = 20,y=1.0)\n",
        "#plt.legend()\n",
        "k=0\n",
        "for i in range(1,12):\n",
        "    ax = fig.add_subplot(6,2,i)\n",
        "    ax.xaxis.set_major_formatter(mplt.dates.DateFormatter('%d-%b'))\n",
        "    # ax.bar(dates_india,global_active[hotspots[k]],color = 'green',alpha = 0.6,label = 'Active');\n",
        "    ax.bar(dates_india,global_confirmed[hotspots[k]],color='blue',label = 'Confirmed');\n",
        "    ax.bar(dates_india,global_recovered[hotspots[k]],color='grey',label = 'Recovered');\n",
        "    ax.bar(dates_india,global_deaths[hotspots[k]],color='red',label = 'Death');   \n",
        "    plt.title(hotspots[k])\n",
        "    handles, labels = ax.get_legend_handles_labels()\n",
        "    fig.legend(handles, labels, loc='upper left')\n",
        "    k=k+1\n",
        "\n",
        "plt.tight_layout(pad=3.0)"
      ],
      "execution_count": null,
      "outputs": []
    },
    {
      "cell_type": "code",
      "metadata": {
        "id": "Pu96LEK4Ip2P"
      },
      "source": [
        "countries = ['China','Germany','Iran','Italy','Spain','US','Korea, South','France','United Kingdom','India']\n",
        "\n",
        "global_confirmed = []\n",
        "global_recovered = []\n",
        "global_deaths = []\n",
        "\n",
        "for country in countries:\n",
        "    k =df1[df1['Country/Region'] == country].loc[:,'1/30/20':]\n",
        "    global_confirmed.append(k.values.tolist()[0]) \n",
        "\n",
        "    k =df2[df2['Country/Region'] == country].loc[:,'1/30/20':]\n",
        "    global_deaths.append(k.values.tolist()[0]) \n",
        "\n",
        "    k =df3[df3['Country/Region'] == country].loc[:,'1/30/20':]\n",
        "    global_deaths.append(k.values.tolist()[0])  "
      ],
      "execution_count": null,
      "outputs": []
    },
    {
      "cell_type": "code",
      "metadata": {
        "id": "1Emi6B-VIs1D"
      },
      "source": [
        "plt.figure(figsize= (15,10))\n",
        "plt.xticks(rotation = 90 ,fontsize = 11)\n",
        "plt.yticks(fontsize = 10)\n",
        "plt.xlabel(\"Dates\",fontsize = 20)\n",
        "plt.ylabel('Total cases',fontsize = 20)\n",
        "plt.title(\"Comparison with other Countries\" , fontsize = 20)\n",
        "\n",
        "for i in range(len(countries)):\n",
        "    plt.plot_date(y= global_confirmed[i],x= dates_india,label = countries[i])\n",
        "plt.legend();"
      ],
      "execution_count": null,
      "outputs": []
    },
    {
      "cell_type": "markdown",
      "metadata": {
        "id": "vxIE2x1ddNkm"
      },
      "source": [
        "#PART-4 : Vaccination Progress"
      ]
    },
    {
      "cell_type": "markdown",
      "metadata": {
        "id": "S8-Re-Xyvo-U"
      },
      "source": [
        "##World"
      ]
    },
    {
      "cell_type": "markdown",
      "metadata": {
        "id": "BD82HY-zdZL8"
      },
      "source": [
        "###Analysis"
      ]
    },
    {
      "cell_type": "code",
      "metadata": {
        "id": "A6t3ZWlfdZqC"
      },
      "source": [
        "df_vacc= pd.read_csv(\"https://raw.githubusercontent.com/owid/covid-19-data/master/public/data/vaccinations/vaccinations.csv\")\n",
        "#df.head(5)"
      ],
      "execution_count": null,
      "outputs": []
    },
    {
      "cell_type": "code",
      "metadata": {
        "id": "TLeMiwmnk8BB"
      },
      "source": [
        "df_vacc.describe()"
      ],
      "execution_count": null,
      "outputs": []
    },
    {
      "cell_type": "code",
      "metadata": {
        "id": "tz5KNwiplALT"
      },
      "source": [
        "df_vacc.info()"
      ],
      "execution_count": null,
      "outputs": []
    },
    {
      "cell_type": "code",
      "metadata": {
        "id": "iE1DJ7r7lBmq"
      },
      "source": [
        "#converting date(column) to 'date' datatype\n",
        "df_vacc[\"date\"]= pd.to_datetime(df_vacc.date)\n",
        "\n"
      ],
      "execution_count": null,
      "outputs": []
    },
    {
      "cell_type": "code",
      "metadata": {
        "id": "5k10YWwwmZSq"
      },
      "source": [
        "#Most vaccinated Countries(in terms of vaccines administered)\n",
        "df_vacc[\"Total_vaccinations(count)\"]= df_vacc.groupby(\"location\").total_vaccinations.tail(1)\n",
        "\n",
        "df_most=df_vacc.groupby(\"location\")[\"Total_vaccinations(count)\"].mean().sort_values(ascending= False).head(20)\n",
        "df_most.head(15)"
      ],
      "execution_count": null,
      "outputs": []
    },
    {
      "cell_type": "code",
      "metadata": {
        "id": "qc1IfanAoDtP"
      },
      "source": [
        "#Top countries with fully vaccinated people\n",
        "df_vacc[\"Full_vaccinations(count)\"]= df_vacc.groupby(\"location\").people_fully_vaccinated.tail(1)\n",
        "\n",
        "df_full=df_vacc.groupby(\"location\")[\"Full_vaccinations(count)\"].mean().sort_values(ascending= False).head(20)\n",
        "#df_full"
      ],
      "execution_count": null,
      "outputs": []
    },
    {
      "cell_type": "markdown",
      "metadata": {
        "id": "7PDmGx6fnVrs"
      },
      "source": [
        "###Visualisation"
      ]
    },
    {
      "cell_type": "code",
      "metadata": {
        "id": "3lyS6otAna7k"
      },
      "source": [
        "#Barplot of most vaccinated locations\n",
        "\n",
        "sns.set_style(\"darkgrid\")\n",
        "plt.figure(figsize= (10,10))\n",
        "ax= sns.barplot(df_most.values,df_most.index)\n",
        "ax.set_xlabel(\"Total vaccinations(count)\")\n",
        "ax.set_ylabel(\"Country\")\n",
        "plt.show()"
      ],
      "execution_count": null,
      "outputs": []
    },
    {
      "cell_type": "code",
      "metadata": {
        "id": "PcWwHXJdtG63"
      },
      "source": [
        "#Dataframe for top 5 vaccinated countries\n",
        "df_top5= df_vacc.loc[(df_vacc.location== \"China\") | (df_vacc.location== \"United States\") | (df_vacc.location== \"India\") | (df_vacc.location== \"Brazil\") | (df_vacc.location== \"Unted Kingdom\")]"
      ],
      "execution_count": null,
      "outputs": []
    },
    {
      "cell_type": "code",
      "metadata": {
        "id": "qddt0oMmuDEo"
      },
      "source": [
        "#Comparision of top 5 vaccinated countries\n",
        "\n",
        "plt.figure(figsize= (15,5))\n",
        "sns.lineplot(x= \"date\",y= \"total_vaccinations\" ,data= df_top5,hue= \"location\")\n",
        "plt.xlabel(\"Date\")\n",
        "plt.title(\"Total vaccination comparison\")\n",
        "plt.show()"
      ],
      "execution_count": null,
      "outputs": []
    },
    {
      "cell_type": "code",
      "metadata": {
        "id": "xw_6iVmVoRGw"
      },
      "source": [
        "#Barplot of top countries in terms of fully vaccinated people\n",
        "\n",
        "plt.style.use(\"ggplot\")\n",
        "plt.figure(figsize= (10,10))\n",
        "ax= sns.barplot(df_full.values,df_full.index)\n",
        "ax.set_xlabel(\"Fully vaccinated(count)\")\n",
        "ax.set_ylabel(\"Country\")\n",
        "plt.show()"
      ],
      "execution_count": null,
      "outputs": []
    },
    {
      "cell_type": "code",
      "metadata": {
        "id": "9tj18ioHo_T6"
      },
      "source": [
        "#Plot of Total Vaccinations\n",
        "\n",
        "#total vaccinations\n",
        "plt.figure(figsize= (15,5))\n",
        "sns.lineplot(x= \"date\",y= \"total_vaccinations\",data= df_vacc)\n",
        "plt.xlabel(\"Date\")\n",
        "plt.ylabel(\"Total Vaccinations\")\n",
        "plt.show()"
      ],
      "execution_count": null,
      "outputs": []
    },
    {
      "cell_type": "code",
      "metadata": {
        "id": "oc-okt9Vpk1-"
      },
      "source": [
        "#Plot of daily vaccinations\n",
        "\n",
        "df_daily= df_vacc.groupby(\"date\").daily_vaccinations.sum()\n",
        "plt.style.use(\"ggplot\")\n",
        "plt.figure(figsize= (15,5))\n",
        "sns.lineplot(df_daily.index,df_daily.values)\n",
        "plt.xlabel(\"Date\")\n",
        "plt.show()"
      ],
      "execution_count": null,
      "outputs": []
    },
    {
      "cell_type": "code",
      "metadata": {
        "id": "LY4XtUtDqFUZ"
      },
      "source": [
        "#Countries with high daily average vaccinations\n",
        "df_daily_avg= df_vacc.groupby(\"location\").daily_vaccinations.mean().sort_values(ascending= False).head(20)\n",
        "#df_daily_avg\n",
        "\n",
        "#Plot of df_daily_avg\n",
        "\n",
        "plt.figure(figsize= (6,6))\n",
        "ax= sns.barplot(df_daily_avg.values,df_daily_avg.index)\n",
        "ax.set_title(\"Daily Vaccinations Count\")\n",
        "ax.set_xlabel(\"Daily Vaccinations(avg)\")\n",
        "ax.set_ylabel(\"Country\")\n",
        "plt.show()"
      ],
      "execution_count": null,
      "outputs": []
    },
    {
      "cell_type": "code",
      "metadata": {
        "id": "jO-ccIQCquat"
      },
      "source": [
        "#Countries which high number of 'people per million'\n",
        "df_vacc[\"Total_vaccinations_per_hundred\"]= df_vacc.groupby(\"location\").total_vaccinations_per_hundred.tail(1)\n",
        "\n",
        "df_ppm= df_vacc.groupby(\"location\")[\"Total_vaccinations_per_hundred\"].mean().sort_values(ascending= False).head(10)\n",
        "#Plot of df_ppm\n",
        "\n",
        "plt.figure(figsize= (5,5))\n",
        "ax= sns.barplot(df_ppm.values,df_ppm.index)\n",
        "ax.set_ylabel(\"Country\")\n",
        "ax.set_xlabel(\"Vaccinations per hundred\")\n",
        "plt.show()\n"
      ],
      "execution_count": null,
      "outputs": []
    },
    {
      "cell_type": "markdown",
      "metadata": {
        "id": "uMefceW5roIy"
      },
      "source": [
        "##Indian Vaccination Drive"
      ]
    },
    {
      "cell_type": "code",
      "metadata": {
        "id": "aBW_gI3Trq8c"
      },
      "source": [
        "#Total vaccinations in India\n",
        "\n",
        "plt.figure(figsize= (15,5))\n",
        "plt.xlabel(\"Date\")\n",
        "plt.ylabel(\"Total Vaccinations(Cumulative)\")\n",
        "plt.title(\"Total vaccinations in India\")\n",
        "sns.lineplot(x= \"date\",y= \"total_vaccinations\",data= df_vacc[df_vacc[\"location\"]==\"India\"])\n",
        "plt.show()"
      ],
      "execution_count": null,
      "outputs": []
    },
    {
      "cell_type": "code",
      "metadata": {
        "id": "rjqmSTyGsCYE"
      },
      "source": [
        "#Daywise vaccinations in India\n",
        "\n",
        "plt.figure(figsize= (15,5))\n",
        "plt.xlabel(\"Date\")\n",
        "plt.ylabel(\"Daywise Vaccinations\")\n",
        "plt.title(\"Vaccinations in India\")\n",
        "sns.lineplot(x= \"date\",y= \"daily_vaccinations\",data= df_vacc[df_vacc.location== \"India\"])\n",
        "plt.show()"
      ],
      "execution_count": null,
      "outputs": []
    },
    {
      "cell_type": "markdown",
      "metadata": {
        "id": "v-naQFoQWZDH"
      },
      "source": [
        "#**Data Source:**\n",
        "- https://www.mohfw.gov.in/\n",
        "- https://www.worldometers.info/coronavirus/#countries\n",
        "- https://api.covid19india.org/"
      ]
    },
    {
      "cell_type": "markdown",
      "metadata": {
        "id": "EwA7Yuy6ypAk"
      },
      "source": [
        "#More Details"
      ]
    }
  ]
}